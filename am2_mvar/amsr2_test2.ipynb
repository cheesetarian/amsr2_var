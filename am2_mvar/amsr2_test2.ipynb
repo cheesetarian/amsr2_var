{
 "cells": [
  {
   "cell_type": "markdown",
   "metadata": {},
   "source": [
    "# ARTS AMSR2 multi-FOV surface simulations"
   ]
  },
  {
   "cell_type": "code",
   "execution_count": 1,
   "metadata": {
    "collapsed": true
   },
   "outputs": [],
   "source": [
    "#  d duncan, 28/01/19\n",
    "#  adapting a mixture of arts and matlab scripts from patrick to ipynb\n",
    "#   so that i can play around with running the forward model before doing\n",
    "#   any surface retrievals \n",
    "\n",
    "# this setup, in words:\n",
    "### - define an antenna response that is frequency dependent, gaussian, symmetric\n",
    "### - define sensor position and line of sight for each scan at middle of scan\n",
    "### - define an angular grid (zenith & azimuth) for each scan that encompasses npix\n",
    "### - sensor angles are all 'absolute' whereas the angular grid and antenna response \n",
    "###    are all relative to the central bore sight of the scan\n",
    "### - a lat/lon grid is also defined that must encompass all observation points simulated\n",
    "### - the same angular grid and simulation setup is assumed/copied for all nscans, and \n",
    "###    mblock_dlos_grid allows all simulations to be run at the same time\n",
    "\n",
    "### *** this setup outputs simulated TBs for chosen channels of AMSR2\n",
    "###    with antenna patterns taken into account and decoupled from any retrieval grid, with\n",
    "###    pencil beam calculations sampling the antenna pattern according to the angular grid\n",
    "###    defined\n",
    "\n",
    "# number 2 refines the code to make plots correct, contains metmm calls but commented\n",
    "#  out since definition of polarisation, angles, frequencies are done manually already"
   ]
  },
  {
   "cell_type": "code",
   "execution_count": 2,
   "metadata": {
    "collapsed": true
   },
   "outputs": [],
   "source": [
    "fsub  = np.array([0,5,6]) # choose which frequencies to run (runs both polarisations--v/h)\n",
    "\n",
    "npix     =  11   # pixels across each scan considered\n",
    "nscans   =   3   # consecutive scans considered\n",
    "angfac   =  10   # angular samples per degree or between pix -- should be min ~10 (but depends on freqs used)\n",
    "npol     =  2    # number of polarizations considered (2=V/H both, 1=intensity only)"
   ]
  },
  {
   "cell_type": "code",
   "execution_count": 3,
   "metadata": {
    "lines_to_next_cell": 2
   },
   "outputs": [
    {
     "name": "stdout",
     "output_type": "stream",
     "text": [
      "env: ARTS_INCLUDE_PATH=/home/dudavid/arts/controlfiles/\n",
      "env: ARTS_BUILD_PATH=/home/dudavid/arts/build/\n",
      "env: ARTS_DATA_PATH=/home/dudavid/arts/arts-xml/\n",
      "Loading ARTS API from: /home/dudavid/arts/build/src/libarts_api.so\n"
     ]
    }
   ],
   "source": [
    "\n",
    "%env ARTS_INCLUDE_PATH=/home/dudavid/arts/controlfiles/\n",
    "%env ARTS_BUILD_PATH=/home/dudavid/arts/build/\n",
    "%env ARTS_DATA_PATH=/home/dudavid/arts/arts-xml/ \n",
    "\n",
    "%matplotlib inline\n",
    "#from h5py import File\n",
    "\n",
    "from typhon.arts.workspace import Workspace, arts_agenda\n",
    "ws = Workspace(verbosity=0)\n",
    "ws.execute_controlfile(\"general/general.arts\")\n",
    "ws.execute_controlfile(\"general/continua.arts\")\n",
    "ws.execute_controlfile(\"general/agendas.arts\")\n",
    "ws.execute_controlfile(\"general/planet_earth.arts\")\n",
    "\n",
    "from typhon.arts.workspace.variables import *\n",
    "\n",
    "ws.Copy( ws.abs_xsec_agenda, ws.abs_xsec_agenda__noCIA )\n",
    "ws.Copy( ws.iy_main_agenda, ws.iy_main_agenda__Emission )\n",
    "ws.Copy( ws.iy_space_agenda, ws.iy_space_agenda__CosmicBackground )\n",
    "ws.Copy( ws.propmat_clearsky_agenda, ws.propmat_clearsky_agenda__OnTheFly )\n",
    "ws.Copy( ws.ppath_agenda, ws.ppath_agenda__FollowSensorLosPath )\n",
    "ws.Copy( ws.ppath_step_agenda, ws.ppath_step_agenda__GeometricPath )\n",
    "@arts_agenda\n",
    "def geo_pos_agendaPY(ws):\n",
    "    ws.geo_posEndOfPpath()\n",
    "ws.Copy( ws.geo_pos_agenda, geo_pos_agendaPY)  ## new one, set by patrick in his cfile\n",
    "\n",
    "# define absorbing species and sensor (here using metmm library, used again below)\n",
    "ws.abs_speciesSet(species=[\"H2O-PWR98\",\"O2-PWR93\",\"N2-SelfContStandardType\"])#,\"liquidcloud-ELL07\"])\n",
    "ws.abs_lines_per_speciesSetEmpty()\n",
    "\n",
    "ws.stokes_dim = npol # to get V and H pol set to 2\n",
    "ws.iy_unit = \"PlanckBT\" # equivalent: ws.StringSet( iy_unit, \"PlanckBT\" )"
   ]
  },
  {
   "cell_type": "code",
   "execution_count": 4,
   "metadata": {
    "collapsed": true,
    "lines_to_next_cell": 2
   },
   "outputs": [],
   "source": [
    "# Define lat/lon grid that observation points and angular grid lie within\n",
    "lat0     = 0.0  # center of grid in lat, lon\n",
    "lon0     = 0.0\n",
    "nlat, nlon = 11, 11    # number of lat and lon divisions\n",
    "latwid, lonwid = 2, 2  # just asssume square for now, widths double these\n",
    "res = 2*latwid/nlat # assume equal in lat/lon for now\n",
    " \n",
    "#lat_grid = lat0 + np.linspace(-latwid,latwid,nlat) # [-3:0.25:3]\n",
    "lat_grid = lat0 + np.arange(-latwid,latwid+res,res)\n",
    "lon_grid = lon0 + np.arange(-lonwid,lonwid+res,res)\n",
    " \n",
    "ws.lat_grid = lat_grid[0:nlat]+np.diff(lat_grid)*.5 # to avoid mismatch between ARTS and pcolormesh\n",
    "ws.lon_grid = lon_grid[0:nlon]+np.diff(lon_grid)*.5 #  i.e. getting lat/lon midpoints of boxes\n",
    "#print(lon_grid)"
   ]
  },
  {
   "cell_type": "code",
   "execution_count": 5,
   "metadata": {},
   "outputs": [
    {
     "name": "stdout",
     "output_type": "stream",
     "text": [
      "corners of lat_grid:  [-2.         -1.63636364 -1.27272727 -0.90909091 -0.54545455 -0.18181818\n",
      "  0.18181818  0.54545455  0.90909091  1.27272727  1.63636364  2.        ]\n",
      "midpoints of lat_grid (ARTS ws grid):  [-1.81818182e+00 -1.45454545e+00 -1.09090909e+00 -7.27272727e-01\n",
      " -3.63636364e-01  6.66133815e-16  3.63636364e-01  7.27272727e-01\n",
      "  1.09090909e+00  1.45454545e+00  1.81818182e+00]\n"
     ]
    }
   ],
   "source": [
    "print('corners of lat_grid: ',lat_grid)\n",
    "print('midpoints of lat_grid (ARTS ws grid): ',lat_grid[0:nlat]+np.diff(lat_grid)*.5)"
   ]
  },
  {
   "cell_type": "code",
   "execution_count": 6,
   "metadata": {
    "collapsed": true
   },
   "outputs": [],
   "source": [
    "# set up atmosphere and surface variables:\n",
    "ws.atmosphere_dim = 3  # 3D atmosphere\n",
    "p = np.array([1015.,950.,850.,650.,400.,100.])*100.0  # keep it simple, otherwise slower fwd model\n",
    "#p = np.array([1015.,975.,950.,925.,900.,850.,800.,750.,700.,650.,600.,550.,500.,400.,300.,200.,100.])*100.0\n",
    "ws.p_grid = p[:] \n",
    "ws.AtmRawRead( basename = \"planets/Earth/Fascod/tropical/tropical\") #tropical atmosphere assumed\n",
    "ws.AtmosphereSet3D()\n",
    "ws.AtmFieldsCalcExpand1D()  # set to given p_grid or z_grid\n",
    "\n",
    "#ws.vmr_field.value[:,:,:,:] *= 0.00 # try decreasing water vapor by X"
   ]
  },
  {
   "cell_type": "code",
   "execution_count": 7,
   "metadata": {
    "lines_to_next_cell": 2,
    "scrolled": false
   },
   "outputs": [
    {
     "data": {
      "image/png": "[encoded data removed]",
      "text/plain": [
       "<Figure size 432x288 with 2 Axes>"
      ]
     },
     "metadata": {},
     "output_type": "display_data"
    }
   ],
   "source": [
    "# Surface properties -- define ocean surface for simulations\n",
    "\n",
    "nala, nalo = np.size(ws.lat_grid.value), np.size(ws.lon_grid.value) # size of ARTS lat/lon grid\n",
    "s_names = ['Water skin temperature','Wind speed','Wind direction','Salinity']\n",
    "s_data = np.zeros([len(s_names), nala, nalo])\n",
    "\n",
    "tmean                   = 280.0 # sst mean\n",
    "wsp                     = 2.3   # 10m wind speed\n",
    "s_data[0,:,:] = tmean\n",
    "#s_data[0,int(nlat/2)-1:int(nlat/2)+2,int(nlon/2)-1:int(nlon/2)+2] += 6\n",
    "s_data[0,:,::2] += 6.9  ## czechers\n",
    "#s_data[0,1::2,::2] += 6.9  ## czechers\n",
    "#s_data[0,::2,1::2] += 1.9\n",
    "#s_data[0,:,:] += np.tile(np.arange(0,nala),[nalo,1])\n",
    "#s_data[0,18:21,18:21] = tmean +6.5 # some preturbation\n",
    "#s_data[0,int(nlat/2),int(nlon/2)] = tmean +9.5 # some preturbation\n",
    "s_data[1,:,:] = wsp\n",
    "#s_data[1,:,:] += np.tile(np.arange(0,nalo),[nala,1]).transpose() \n",
    "s_data[2,:,:] = 90 # token wind direction value\n",
    "s_data[3,:,:] = 0.034 # token salinity value\n",
    "\n",
    "# write these to ARTS variables \n",
    "ws.Copy(ws.surface_props_names, s_names)\n",
    "ws.Copy(ws.surface_props_data, s_data)\n",
    "ws.MatrixSetConstant(ws.z_surface, nala, nalo, 0.0) # explicitly set the surface to 0m altitude\n",
    "\n",
    "plt.imshow(s_data[0,:,:]) # quick look for SST\n",
    "plt.colorbar()\n",
    "plt.show()\n",
    "#plt.imshow(s_data[1,:,:])\n",
    "#plt.colorbar()\n",
    "#plt.show()"
   ]
  },
  {
   "cell_type": "code",
   "execution_count": 8,
   "metadata": {
    "lines_to_next_cell": 2
   },
   "outputs": [
    {
     "name": "stdout",
     "output_type": "stream",
     "text": [
      "0.624 0.09125269978401726\n"
     ]
    }
   ],
   "source": [
    "# Set and calculate some basic variables for antenna and scanning\n",
    "### all will be replaced or superseded when moving to using L1R data as input\n",
    " \n",
    "zsat   = 699.7e3      # Satellite altitde [m] -- can read this in later\n",
    "vsat   = 6.76e3       # Satellite velocity [m/s]\n",
    "dt     = 2.6e-3       # Integration time [s] -- 2.6ms for low freqs, 1.3ms for 89GHz\n",
    "rpm    = 40           # Rotations per minute -- same for AMSR-E and AMSR2\n",
    " \n",
    "# find nautical mile constant?  1852m = 1nmi\n",
    "m2deg  = 1/(60*1852) #constants('NAUTICAL_MILE'))    # Conversion from m to latitude\n",
    "dang   = dt * 360 * rpm / 60                  # Angular distance between samples\n",
    "dlat   = m2deg * vsat * 60 / rpm              # Latitude distance between scans\n",
    "print(dang,dlat)"
   ]
  },
  {
   "cell_type": "markdown",
   "metadata": {},
   "source": [
    "# Define antenna pattern"
   ]
  },
  {
   "cell_type": "code",
   "execution_count": 9,
   "metadata": {
    "scrolled": true
   },
   "outputs": [
    {
     "name": "stdout",
     "output_type": "stream",
     "text": [
      "angular resolution of response grid [deg]:  0.01\n",
      "[[6.925e+09 8.900e+10 8.901e+10]\n",
      " [1.800e+00 2.850e+00 1.000e-01]]\n",
      "['6V' '6H' '36V' '36H' '89V' '89H']\n",
      "size of antenna_reponse grid:  (1, 3, 361, 361)\n"
     ]
    }
   ],
   "source": [
    "\n",
    "width  = 1.8           # Max half-width of antenna (if HPBW is 1.8deg, width=2 covers 2x the HPBW)\n",
    "resol  = 0.01          # angular resolution (same in zenith/azimuth for now)\n",
    "# for a given angular resolution (might vary), width=2 yields 99.96% of total power @6GHz \n",
    "#   compared to width=20 and 99.99999% @10GHz, width=1.5 yields 99.0 and 99.994.\n",
    "#resol, width = dang/(angfac*5), awidth # set here instead of calling func\n",
    "print('angular resolution of response grid [deg]: ',resol)\n",
    "\n",
    "adata = [[ 6.925e9 ,  1.80],   # AMSR2 center frequency and beamwidth (deg)\n",
    "         [ 7.300e9 ,  1.80],   # assumed the same for V/H polarizations\n",
    "         [ 10.65e9 ,  1.20],\n",
    "         [ 18.70e9 ,  0.65],\n",
    "         [ 23.80e9 ,  0.75],\n",
    "         [ 89.00e9 ,  2.85],  # should be 0.15\n",
    "         [ 89.01e9 ,  0.10]]  # should be 0.15\n",
    "         #[ 36.50e9 ,  0.35],\n",
    "#adata = [[ 6.600e9 ,  1.8],   # AMSR2 center frequency and beamwidth (deg)\n",
    "#         [ 7.300e9 ,  1.8],   # assumed the same for V/H polarizations\n",
    "#         [ 11.00e9 ,  1.2]] #,  ## changed to be greater than f_grid defined in metmm\n",
    "\n",
    "adata = np.array(adata, order=\"C\").transpose()[:,fsub] # choose selected frequencies (set above)\n",
    "print(adata)\n",
    "\n",
    "# define zenith, azimuth grid on the ground (relative to bore sight) -- assumed to be square, 2xWidth wide\n",
    "x  = np.arange( -width, width+resol, resol )  #this gives angular antenna response points in za,aa\n",
    "x2 = x**2   # since assumed origin is 0, do squaring here \n",
    "nf, nx = len(adata[0,:]), np.size(x)\n",
    "\n",
    "csub = np.sort(np.append(fsub*2,fsub*2+1))\n",
    "ch_str = np.array(['6V','6H','7V','7H','10V','10H','18V','18H',\n",
    "                   '23V','23H','36V','36H','89V','89H'])[csub] # just chosen freqs\n",
    "print(ch_str)\n",
    "\n",
    "from typhon.arts.griddedfield import GriddedField4\n",
    "gf4 = GriddedField4()\n",
    "gf4.name = 'AMSR2 antenna response'\n",
    "gf4.gridnames =  [ 'Polarisation', 'Frequency', 'Zenith angle', 'Azimuth angle' ]\n",
    "###  note: za & aa are equally spaced, and we're treating V/H as having identical responses\n",
    "if npol==2: gsp=\"1\" \n",
    "else: gsp=\"0\"\n",
    "gf4.grids = [ [gsp], adata[0,:], x, x ]\n",
    "gf4.dataname  = 'Response'\n",
    "gf4.data      = np.zeros([ 1, nf, nx, nx ], order=\"C\")\n",
    "print('size of antenna_reponse grid: ',gf4.data.shape)\n",
    "\n",
    "#blah = [4589.014643600229,\n",
    "#4589.014643600229,\n",
    "#2039.5620638223247]\n",
    "for i in range(nf):\n",
    "    si = adata[1,i] / (2*np.sqrt(2*np.log(2)))  # calculate standard deviation first, based on HPBW\n",
    "    gf4.data[0,i,:,:] = np.exp( - np.tile(x2,[nx,1])/si**2 - np.tile(x2,[nx,1]).transpose()/ si**2 )\n",
    "    #gf4.data[0,i,:,:] = np.exp( - (np.tile(x2,[nx,1]) + np.tile(x2,[nx,1]).transpose())/ si**2 ) # equivalent\n",
    "    #print(np.sum(gf4.data[0,i,:,:])/blah[i])\n",
    "\n"
   ]
  },
  {
   "cell_type": "code",
   "execution_count": 10,
   "metadata": {},
   "outputs": [
    {
     "data": {
      "image/png": "[encoded data removed]",
      "text/plain": [
       "<Figure size 648x648 with 2 Axes>"
      ]
     },
     "metadata": {},
     "output_type": "display_data"
    },
    {
     "data": {
      "image/png": "[encoded data removed]",
      "text/plain": [
       "<Figure size 648x648 with 2 Axes>"
      ]
     },
     "metadata": {},
     "output_type": "display_data"
    }
   ],
   "source": [
    "\n",
    "plt.figure(figsize=[9,9])\n",
    "plt.pcolormesh(gf4.data[0,1,:,:])\n",
    "plt.colorbar()\n",
    "plt.figure(figsize=[9,9])\n",
    "plt.pcolormesh(gf4.data[0,2,:,:])\n",
    "plt.colorbar()\n",
    "plt.show()"
   ]
  },
  {
   "cell_type": "code",
   "execution_count": 11,
   "metadata": {
    "lines_to_next_cell": 2
   },
   "outputs": [
    {
     "name": "stdout",
     "output_type": "stream",
     "text": [
      "f_grid:  [6.925e+09 8.900e+10 8.901e+10]\n"
     ]
    }
   ],
   "source": [
    "# frequency grid of simulation is defined according to sensor setup above (may change with use of metmm)\n",
    "f_grid = np.copy(gf4.grids[1])  # array with each frequency (not channel)\n",
    "\n",
    "ws.f_grid.value = f_grid\n",
    "print('f_grid: ',ws.f_grid.value)\n",
    " "
   ]
  },
  {
   "cell_type": "code",
   "execution_count": 12,
   "metadata": {
    "lines_to_next_cell": 2
   },
   "outputs": [
    {
     "name": "stdout",
     "output_type": "stream",
     "text": [
      "bsights: [-3.12  -2.496 -1.872 -1.248 -0.624  0.     0.624  1.248  1.872  2.496\n",
      "  3.12 ]\n"
     ]
    }
   ],
   "source": [
    "# Determine bore-sight angles to use for one scan \n",
    " \n",
    "# psteps defines the pixels across one scan\n",
    "psteps   = np.arange(-(npix-1)/2, (npix-1)/2 +1, 1)  #  if npix is odd then middle boresight is in the middle\n",
    "# ssteps defines position of spacecraft for each scan, evenly distributed around a middle scan\n",
    "ssteps   = np.arange(-(nscans-1)/2, (nscans-1)/2 +1, 1) \n",
    "#print('pixel steps',psteps)\n",
    "\n",
    "#  center line of sight... defined as AMSR2 EIA and 0 azimuth angle\n",
    "los0    = [ 180-47.5, 0 ]  # 47.5 is off-nadir angle of AMSR2\n",
    "\n",
    "# bsights defines the bore sight zenith and azimuth angles across the scan \n",
    "##-- just for one scan, assumed to be same for each scan?\n",
    "bsights = np.array([ np.repeat(los0[0],npix), los0[1]+dang*psteps ]).transpose()  # size: [npix,2]\n",
    "print('bsights:',(bsights[:,1]))"
   ]
  },
  {
   "cell_type": "code",
   "execution_count": 13,
   "metadata": {
    "lines_to_next_cell": 2,
    "scrolled": true
   },
   "outputs": [
    {
     "name": "stdout",
     "output_type": "stream",
     "text": [
      "18.0\n",
      "zenith grid:  [130.7 130.8 130.9 131.  131.1 131.2 131.3 131.4 131.5 131.6 131.7 131.8\n",
      " 131.9 132.  132.1 132.2 132.3 132.4 132.5 132.6 132.7 132.8 132.9 133.\n",
      " 133.1 133.2 133.3 133.4 133.5 133.6 133.7 133.8 133.9 134.  134.1 134.2\n",
      " 134.3]\n",
      "78.0\n",
      "azimuth grid:  [-4.8672 -4.8048 -4.7424 -4.68   -4.6176 -4.5552 -4.4928 -4.4304 -4.368\n",
      " -4.3056 -4.2432 -4.1808 -4.1184 -4.056  -3.9936 -3.9312 -3.8688 -3.8064\n",
      " -3.744  -3.6816 -3.6192 -3.5568 -3.4944 -3.432  -3.3696 -3.3072 -3.2448\n",
      " -3.1824 -3.12   -3.0576 -2.9952 -2.9328 -2.8704 -2.808  -2.7456 -2.6832\n",
      " -2.6208 -2.5584 -2.496  -2.4336 -2.3712 -2.3088 -2.2464 -2.184  -2.1216\n",
      " -2.0592 -1.9968 -1.9344 -1.872  -1.8096 -1.7472 -1.6848 -1.6224 -1.56\n",
      " -1.4976 -1.4352 -1.3728 -1.3104 -1.248  -1.1856 -1.1232 -1.0608 -0.9984\n",
      " -0.936  -0.8736 -0.8112 -0.7488 -0.6864 -0.624  -0.5616 -0.4992 -0.4368\n",
      " -0.3744 -0.312  -0.2496 -0.1872 -0.1248 -0.0624  0.      0.0624  0.1248\n",
      "  0.1872  0.2496  0.312   0.3744  0.4368  0.4992  0.5616  0.624   0.6864\n",
      "  0.7488  0.8112  0.8736  0.936   0.9984  1.0608  1.1232  1.1856  1.248\n",
      "  1.3104  1.3728  1.4352  1.4976  1.56    1.6224  1.6848  1.7472  1.8096\n",
      "  1.872   1.9344  1.9968  2.0592  2.1216  2.184   2.2464  2.3088  2.3712\n",
      "  2.4336  2.496   2.5584  2.6208  2.6832  2.7456  2.808   2.8704  2.9328\n",
      "  2.9952  3.0576  3.12    3.1824  3.2448  3.3072  3.3696  3.432   3.4944\n",
      "  3.5568  3.6192  3.6816  3.744   3.8064  3.8688  3.9312  3.9936  4.056\n",
      "  4.1184  4.1808  4.2432  4.3056  4.368   4.4304  4.4928  4.5552  4.6176\n",
      "  4.68    4.7424  4.8048  4.8672]\n"
     ]
    }
   ],
   "source": [
    "# Define angular grid for pencilbeam calculations\n",
    "\n",
    "# can use 'dang' or not, but benefit of using it is having RT calc at each boresight\n",
    "#  in azimuth direction. if using 'dang' for zenith too then it's an evenly spaced angular grid.\n",
    "\n",
    "n = np.floor( width * angfac )  # angular width * angular samples per deg\n",
    "print(n)\n",
    "za_grid = np.array( los0[0] +  np.arange(-n,n+1)/angfac)  ## effectively taking 'width' on either side of 0\n",
    "#n = np.floor( angfac * width / dang )  # number per degree * angular width / distance between boresights\n",
    "#za_grid = np.array( los0[0] + (dang/angfac) * np.arange(-n,n+1))  # zenith angle grid\n",
    "print('zenith grid: ',za_grid) \n",
    "\n",
    "en = np.floor( angfac * ( bsights[-1,1] + width ) / dang ) # azimuth of boresight at edge +width\n",
    "print(en)\n",
    "aa_grid = np.array( los0[1] + (dang/angfac) * np.arange(-en,en+1))  # azimuth angle grid\n",
    "#en = np.floor((bsights[-1,1]+width)*angfac) ## yields az from boresight at edge plus 'width' (could prob do width/2)\n",
    "#aa_grid = np.array( los0[1] + np.arange(-en,en+1/angfac)/angfac)  # azimuth angle grid\n",
    "print('azimuth grid: ',aa_grid) \n"
   ]
  },
  {
   "cell_type": "code",
   "execution_count": 14,
   "metadata": {},
   "outputs": [
    {
     "name": "stdout",
     "output_type": "stream",
     "text": [
      "[[ 6.9970000e+05 -7.5912527e+00  0.0000000e+00]\n",
      " [ 6.9970000e+05 -7.5000000e+00  0.0000000e+00]\n",
      " [ 6.9970000e+05 -7.4087473e+00  0.0000000e+00]]\n",
      "(3, 3)\n"
     ]
    }
   ],
   "source": [
    "# Set sensor_pos, sensor_los\n",
    "\n",
    "ws.sensor_los = np.tile(los0, [nscans,1])  # sensor line of sight for each scan\n",
    "\n",
    "shift   = 7.5    # Latitude shift to centre calculations around lat0\n",
    "\n",
    "#### sensor_pos should be columns of altitude, SClat, SClon  ###  \n",
    "####   so take all this from L1R files and transform X/Y/Z to lat/lon\n",
    "# currently one alt/sclat/sclon for each scan (i.e. each of nscans)\n",
    "ws.sensor_pos = np.hstack([np.repeat(zsat, nscans).reshape(nscans,1),\n",
    "                          np.array(lat0 - shift + dlat * ssteps).reshape(nscans,1), \n",
    "                          np.repeat(lon0, nscans).reshape(nscans,1)])\n",
    "\n",
    "print(ws.sensor_pos.value)\n",
    "#print(np.transpose(ws.sensor_pos.value))\n",
    "print(np.shape(ws.sensor_pos.value))\n"
   ]
  },
  {
   "cell_type": "code",
   "execution_count": 15,
   "metadata": {
    "collapsed": true
   },
   "outputs": [],
   "source": [
    "# other controlfile things done in common.arts\n",
    "ws.jacobianOff()\n",
    "ws.cloudboxOff()"
   ]
  },
  {
   "cell_type": "code",
   "execution_count": 16,
   "metadata": {},
   "outputs": [],
   "source": [
    "# define surface agenda:\n",
    "varnam = [\"Optical depth\"]\n",
    "ws.Copy(ws.iy_aux_vars, varnam)\n",
    "ws.VectorCreate( \"transmittance\" )\n",
    "#ws.transmittance = np.ones( ws.f_grid.value.shape ) * 0.0  #  FOR TESTING ONLY!!!!!\n",
    "ws.ppath_lmax = 350.0  # set maximum distance between points when computing absorption along path\n",
    "@arts_agenda\n",
    "def iy_surface_agendaPY(ws):\n",
    "    ws.specular_losCalc()\n",
    "    # if wanting to test transmittance values, comment out next 3 calls and set outside agenda\n",
    "    # if ppathCalc is called and uses assumed inputs, problems! so specify all!\n",
    "    ws.ppathCalc(ws.ppath_agenda, ws.ppath_lmax, \n",
    "       ws.ppath_lraytrace, ws.atmgeom_checked, ws.t_field, ws.z_field, \n",
    "       ws.vmr_field, ws.f_grid, ws.cloudbox_on, ws.cloudbox_checked, \n",
    "       ws.ppath_inside_cloudbox_do, ws.rtp_pos, ws.specular_los, ws.rte_pos2 )\n",
    "    ws.iyEmissionStandard()\n",
    "    ws.transmittanceFromIy_aux(transmittance=ws.transmittance)\n",
    "    ws.SurfaceFastem( transmittance = ws.transmittance, fastem_version=6 ) \n",
    "    ws.iySurfaceRtpropCalc()\n",
    "    \n",
    "ws.Copy(ws.iy_surface_agenda, iy_surface_agendaPY) # copy python-defined agenda to ARTS"
   ]
  },
  {
   "cell_type": "markdown",
   "metadata": {},
   "source": [
    "# Use Metmm to set up sensor characteristics"
   ]
  },
  {
   "cell_type": "code",
   "execution_count": 17,
   "metadata": {
    "collapsed": true,
    "scrolled": false
   },
   "outputs": [],
   "source": [
    "#ws.sensor_los  = np.array([[180.0]]) # since angle taken care of in metmm file \n",
    "## zenith angle followed by azimuth. zenith=0 is straight up, 180 is straight down. azimuth=0 is N, positive to east \n",
    "#### NOTE that sensor_los should be overwritten below if using sensor and obs pos to determine LOS\n",
    "#\n",
    "#ws.ArrayOfIndexCreate(\"viewing_angles\") # necessary if just using one pencil beam angle?\n",
    "#ws.ArrayOfIndexCreate(\"channels\")\n",
    "#\n",
    "#ws.IndexCreate(\"met_mm_accuracy\") \n",
    "#ws.met_mm_accuracy = 2 # points within each bandwidth to comute abs characteristics\n",
    "#\n",
    "#csub = [0,1,2,3,4,5]  # channel subselection, defined in order given in metmm description\n",
    "##ws.ArrayOfIndexCreate(\"viewing_angles_1\")\n",
    "##ws.viewing_angles_1 = [0] # index, defined in metmm file\n",
    "##ws.ArrayOfIndexCreate(\"channels_1\") # low freq channels EIA\n",
    "#ws.channels = csub\n",
    "#ws.Copy(ws.viewing_angles, [0])\n",
    "##ws.Copy(ws.channels, ws.channels_1)\n",
    "#\n",
    "## re-execution of metmm control files ( since channels subset and angle have changed)\n",
    "#ws.execute_controlfile(\"instruments/metmm/sensor_descriptions/prepare_metmm.arts\")\n",
    "#ws.execute_controlfile(\"instruments/metmm/sensor_descriptions/sensor_amsr2.arts\") #atms.arts\")\n",
    "#ws.execute_controlfile(\"instruments/metmm/sensor_descriptions/apply_metmm.arts\") # to execute CF?\n",
    "#\n",
    "#print(ws.sensor_los.value)\n",
    "#print('f_grid: ',ws.f_grid.value)"
   ]
  },
  {
   "cell_type": "code",
   "execution_count": 18,
   "metadata": {
    "collapsed": true
   },
   "outputs": [],
   "source": [
    "# perform some checks:\n",
    "ws.abs_xsec_agenda_checkedCalc()\n",
    "ws.propmat_clearsky_agenda_checkedCalc()\n",
    "ws.atmfields_checkedCalc( bad_partition_functions_ok = 1 )\n",
    "ws.atmgeom_checkedCalc()\n",
    "ws.cloudbox_checkedCalc()"
   ]
  },
  {
   "cell_type": "code",
   "execution_count": 19,
   "metadata": {
    "scrolled": false
   },
   "outputs": [
    {
     "name": "stdout",
     "output_type": "stream",
     "text": [
      "[132.5   0. ]\n",
      "(5809, 2)\n",
      "(5809, 2)\n",
      "[0.04725141 0.04725344 0.04725545 0.04725743 0.04725939 0.04726132\n",
      " 0.04726322 0.0472651  0.04726695]\n",
      "['-1.80E+0', '1.90E+0', '3.48E-2', '1.07E+0'] ['-3.69E+0', '3.69E+0', '-4.89E-18', '2.08E+0']\n"
     ]
    }
   ],
   "source": [
    "# create vector mblock_reference_los and matrix mblock_target_los (to be used by DiffZaAa)\n",
    "mblock_reference_los = np.array(los0)\n",
    "print(mblock_reference_los)\n",
    "\n",
    "# want to have all individual angle pairs distinct... so repeat one serially and one n times\n",
    "mblock_target_los = np.array(np.transpose( np.stack( [ np.repeat(za_grid, aa_grid.size) , \n",
    "                                           np.tile(  aa_grid, za_grid.size) ]) ) , order = \"C\")\n",
    "## need to specify 'C' order or else stride is wrong and array values are read wrong by ARTS\n",
    "\n",
    "print(mblock_target_los.shape)\n",
    "\n",
    "# use diffZaAa to convert reference frame in angle space\n",
    "ws.DiffZaAa(ws.mblock_dlos_grid, mblock_reference_los, mblock_target_los)\n",
    "\n",
    "print(np.shape(ws.mblock_dlos_grid.value))\n",
    "print(np.diff(ws.mblock_dlos_grid.value[0:10,1]))\n",
    "print(info(ws.mblock_dlos_grid.value[:,0]),info(ws.mblock_dlos_grid.value[:,1]))"
   ]
  },
  {
   "cell_type": "code",
   "execution_count": 20,
   "metadata": {
    "scrolled": false
   },
   "outputs": [
    {
     "name": "stdout",
     "output_type": "stream",
     "text": [
      "before sensor_response\n",
      "after sensor_response\n"
     ]
    }
   ],
   "source": [
    "### take commands from patrick's amsr2_cfile.arts\n",
    "ws.VectorCreate(\"antenna_reference_los\")\n",
    "ws.MatrixCreate(\"antenna_target_los\")\n",
    "ws.antenna_reference_los = np.array(los0)\n",
    "ws.antenna_target_los = np.array(bsights, order=\"C\")\n",
    "ws.DiffZaAa(ws.antenna_dlos, ws.antenna_reference_los, ws.antenna_target_los)\n",
    "\n",
    "# define sensor... done above, but apply gf4 typhon/arts object to antenna_response:\n",
    "ws.sensor_norm = 1\n",
    "ws.antenna_dim = 2\n",
    "ws.antenna_response = gf4 \n",
    "\n",
    "#print('before sensor_response')\n",
    "ws.sensor_responseInit()\n",
    "\n",
    "## flipping from I/Q to V/H here... \n",
    "ws.instrument_pol = [5,6] # indices for V,H (1,2 are I,Q)\n",
    "ws.sensor_responsePolarisation()\n",
    "\n",
    "ws.sensor_responseAntenna()\n",
    "#print('after sensor_response')\n",
    "ws.sensor_checkedCalc()\n",
    "\n",
    "\n",
    "# should this get called? not yet -- will give bsights from designated positions, draw a line \n",
    "#ws.sensor_losGeometricFromSensorPosToOtherPositions(ws.target_pos=np.array([]))"
   ]
  },
  {
   "cell_type": "code",
   "execution_count": 21,
   "metadata": {
    "collapsed": true
   },
   "outputs": [],
   "source": [
    "# after performing all the checks, run yCalc:\n",
    "\n",
    "ws.yCalc()"
   ]
  },
  {
   "cell_type": "code",
   "execution_count": 22,
   "metadata": {
    "scrolled": true
   },
   "outputs": [
    {
     "name": "stdout",
     "output_type": "stream",
     "text": [
      "(198,)\n"
     ]
    }
   ],
   "source": [
    "\n",
    "# convert from stokes parameters to V/H-pol Tb\n",
    "savey = np.copy(ws.y.value)\n",
    "savey_vh = savey #np.zeros_like(savey)  # unnecessary now but eh\n",
    "#for c in range(int(savey.size/2)):\n",
    "#    #savey_vh[c*2]   = savey[c*2]+savey[c*2+1]  # V-pol = I+Q\n",
    "#    #savey_vh[c*2+1] = savey[c*2]-savey[c*2+1]  # H-pol = I-Q\n",
    "#    savey_vh[c*2]   = savey[c*2]    # I only -- but flipped to V/H by Polarisation command above\n",
    "#    savey_vh[c*2+1] = savey[c*2+1]  # Q only\n",
    "\n",
    "\n",
    "geo = np.copy(ws.y_geo.value)\n",
    "print(np.shape(ws.y.value))\n",
    "# y vector should be of size [nf*2 (stokes dim 2) ] * npix*nscans  \n",
    "\n",
    "# vars coming out of yCalc should be in order, nch then npix then nscans, i.e.:\n",
    "## with nch=6 first 6 values are from pix1,sc1 then next 6 are pix2,sc1 and so on -- be careful!"
   ]
  },
  {
   "cell_type": "code",
   "execution_count": 23,
   "metadata": {
    "scrolled": false
   },
   "outputs": [
    {
     "name": "stdout",
     "output_type": "stream",
     "text": [
      "6 11 3\n",
      "0.8522212352482615\n",
      "0.3703078384117977\n",
      "0.16658635151148474\n",
      "0.006036512651790186\n",
      "0.34309450235806593\n",
      "0.014171071610148607\n",
      "(198,)\n"
     ]
    },
    {
     "data": {
      "image/png": "[encoded data removed]",
      "text/plain": [
       "<Figure size 432x288 with 2 Axes>"
      ]
     },
     "metadata": {},
     "output_type": "display_data"
    },
    {
     "data": {
      "image/png": "[encoded data removed]",
      "text/plain": [
       "<Figure size 432x288 with 2 Axes>"
      ]
     },
     "metadata": {},
     "output_type": "display_data"
    }
   ],
   "source": [
    "chan_tb = np.zeros([nscans,npix,nf*2]) #np.copy(ws.y.value[0::6])\n",
    "arts_pos = np.zeros([nscans,npix,4]) #np.copy(ws.y.value[0::6])\n",
    "print(nf*2,npix,nscans)\n",
    "for c in range(nf*2):\n",
    "    chan_tb[:,:,c] = savey_vh[c::nf*2].reshape(nscans,npix)\n",
    "    #chan_tb[:,:,c] = savey_vh[c::nf*2].reshape(npix,nscans).transpose()\n",
    "    print(np.std(savey_vh[c::nf*2]))\n",
    "    for bb in range(4):\n",
    "        arts_pos[:,:,bb] = geo[c::nf*2,bb+1].reshape(nscans,npix) ## arts obs points\n",
    "        \n",
    "    \n",
    "print(np.shape(savey_vh))\n",
    "#print(chan_tb[:,2,0])\n",
    "plt.imshow(chan_tb[:,:,-4])\n",
    "plt.colorbar()\n",
    "plt.show()\n",
    "#plt.imshow(chan_tb[:,:,1])\n",
    "#plt.colorbar()\n",
    "#plt.show()\n",
    "plt.imshow(chan_tb[:,:,-2])\n",
    "plt.colorbar()\n",
    "plt.show()\n",
    "\n"
   ]
  },
  {
   "cell_type": "code",
   "execution_count": 24,
   "metadata": {
    "scrolled": true
   },
   "outputs": [
    {
     "name": "stdout",
     "output_type": "stream",
     "text": [
      "['-2.01E-1', '-7.80E-3', '-1.03E-1', '7.46E-2']\n",
      "['-4.02E-1', '4.02E-1', '-1.17E-16', '2.54E-1']\n",
      "geo obs points for first scan (lat/lon/za/aa): \n"
     ]
    }
   ],
   "source": [
    "geo = np.copy(ws.y_geo.value)\n",
    "#print(np.shape(ws.y_geo.value))\n",
    "print(info(geo[:,1]))\n",
    "print(info(geo[:,2]))\n",
    "print('geo obs points for first scan (lat/lon/za/aa): ')  # verified that's the data from first scan\n",
    "#print(geo[:npix*nf*npol,1])  # columns are altitude, lat, lon, zenith, azimuth of measurement geoposition\n",
    "#print(geo[:npix*nf*npol,2])  # columns are altitude, lat, lon, zenith, azimuth of measurement geoposition\n",
    "#print(geo[:npix*nf*npol,3])  # columns are altitude, lat, lon, zenith, azimuth of measurement geoposition\n",
    "#print(geo[:npix*nf*npol,4])  # note: zenith angles should be identical and be very close to EIA reported\n",
    "# can compare [:,3] (az) to EIA from L1R (later), just 180-az to get EIA"
   ]
  },
  {
   "cell_type": "code",
   "execution_count": 25,
   "metadata": {},
   "outputs": [
    {
     "name": "stdout",
     "output_type": "stream",
     "text": [
      "VERIFY THAT THESE ARE WHOLLY EVEN ON THE GRID!\n",
      "[0.08028398 0.08032142 0.08034951 0.08036823 0.0803776  0.0803776\n",
      " 0.08036823 0.08034951 0.08032142 0.08028398]\n",
      "[0.09125046 0.09125046]\n"
     ]
    }
   ],
   "source": [
    "widths  = np.array([35., 35., 24., 14., 15.,  7., 3.])[fsub] # in km across\n",
    "heights = np.array([62., 62., 42., 22., 26., 12., 5.])[fsub] #  per freq, 6/7/10/18/23/36/89\n",
    "\n",
    "# convert (roughly!) to deg near equator... okay as first approximation for plotting:\n",
    "widths *= 360.0/40075.\n",
    "heights*= 360.0/40075. # deg/circumference\n",
    "\n",
    "### if wanting to get more exact with widths/heights of FOVs, can back out lat/lon differences\n",
    "###  for edge of FOVs using positions with this package:\n",
    "#from astropy import coordinates\n",
    "#from astropy.coordinates import EarthLocation\n",
    "#ploc = EarthLocation.from_geodetic(arts_pos[0,0,1],arts_pos[0,0,0], 0.0,ellipsoid='WGS84')\n",
    "#ploc.\n",
    "print('VERIFY THAT THESE ARE WHOLLY EVEN ON THE GRID!')\n",
    "print(np.diff(arts_pos[0,:,1]))\n",
    "print(np.diff(arts_pos[:,0,0]))"
   ]
  },
  {
   "cell_type": "code",
   "execution_count": 26,
   "metadata": {
    "scrolled": false
   },
   "outputs": [
    {
     "name": "stdout",
     "output_type": "stream",
     "text": [
      "(33,)\n"
     ]
    },
    {
     "data": {
      "image/png": "[encoded data removed]",
      "text/plain": [
       "<Figure size 1080x720 with 3 Axes>"
      ]
     },
     "metadata": {},
     "output_type": "display_data"
    }
   ],
   "source": [
    "# plotting representative ellipses:\n",
    "from matplotlib.patches import Ellipse\n",
    "from cartopy import crs as ccrs\n",
    "from cmocean import cm as cmo\n",
    "\n",
    "# provide x,y coords, width, height, angle of ellipse\n",
    "\n",
    "k=4 #nf*2-2\n",
    "\n",
    "ells = [Ellipse(xy=[arts_pos[i,j,1],arts_pos[i,j,0]], width=widths[int(k/2)], height=heights[int(k/2)], \n",
    "                angle=-arts_pos[i,j,3], linewidth=0.2, alpha=0.7, fill=False) \n",
    "        for i in range(nscans) for j in range(npix)]# for k in [0]] #range(nf*2)]\n",
    "print(np.shape(ells))\n",
    "\n",
    "#ax.fill(x, y, alpha=0.2, facecolor='yellow',\n",
    "#        edgecolor='yellow', linewidth=1, zorder=1)\n",
    "#ax.add_patch()\n",
    "\n",
    "fig = plt.figure(figsize=[15,10])\n",
    "projj = ccrs.PlateCarree()\n",
    "ax = plt.subplot(111, projection=projj )\n",
    "\n",
    "inn =  1.0#.7 #-0.3 # zoom in by x degrees from edges of lat/lon grid\n",
    "#reg = [np.min(arts_pos[:,:,0])+inn, np.max(arts_pos[:,:,0])-inn,\n",
    "#       np.min(arts_pos[:,:,1])+inn, np.max(arts_pos[:,:,1])-inn]\n",
    "reg = [np.min(lat_grid)+inn, np.max(lat_grid)-inn,\n",
    "       np.min(lon_grid)+inn, np.max(lon_grid)-inn]\n",
    "ax.set_xlim(left=reg[2], right=reg[3])\n",
    "ax.set_ylim(bottom=reg[0], top=reg[1])\n",
    "nx,ny = 5,5\n",
    "ax.set_xticks( np.linspace(reg[2],reg[3], nx) )\n",
    "ax.set_yticks( np.linspace(reg[0],reg[1], ny) )\n",
    "\n",
    "#thenorm1=plt.Normalize(vmin=tmean-5,vmax=tmean+5)\n",
    "thenorm1=plt.Normalize(vmin=tmean,vmax=tmean+12)\n",
    "#thenorm1 = plt.Normalize(vmin=wsp,vmax=wsp+12)\n",
    "ceem1=cmo.dense\n",
    "#bb= ax.pcolormesh(lon_grid,lat_grid,s_data[1,:,:],norm=thenorm1, # so windspeed\n",
    "bb= ax.pcolormesh(lon_grid,lat_grid,s_data[0,:,:],norm=thenorm1, # so SST\n",
    "             transform=projj, cmap=ceem1)\n",
    "\n",
    "\n",
    "#for e in ells[::nf*2][-npix:-1]:  # so just 6V right now\n",
    "for e in ells[:]: \n",
    "    ax.add_artist(e)\n",
    "\n",
    "vmin=np.min(chan_tb[:,:,k]) #-.5\n",
    "vmax=np.max(chan_tb[:,:,k]) #+.5\n",
    "thenorm=plt.Normalize(vmin=vmin,vmax=vmax)\n",
    "#print(chan_tb[-1,:,0])\n",
    "#print(arts_pos[-1,:,1])\n",
    "ceem = cmo.thermal\n",
    "#ax.scatter( arts_pos[-1,:,1], arts_pos[-1,:,0], s=90.0, c=chan_tb[-1,:,0], marker='o', \\\n",
    "ax.scatter( arts_pos[:,:,1], arts_pos[:,:,0], s=200.0, c=chan_tb[:,:,k], marker='o', \\\n",
    "            transform=projj, alpha=0.8, cmap=ceem, norm=thenorm);\n",
    "sm = plt.cm.ScalarMappable(cmap=ceem, norm=thenorm)\n",
    "sm._A = []\n",
    "cb = plt.colorbar(sm,ax=ax)\n",
    "cb.set_label(ch_str[k]+' TB [K]')\n",
    "sm1 = plt.cm.ScalarMappable(cmap=ceem1, norm=thenorm1)\n",
    "sm1._A = []\n",
    "cb1 = plt.colorbar(sm1,ax=ax)\n",
    "cb1.set_label('SST [K]')\n",
    "\n",
    "plt.savefig('img/example_syn_scene_'+ch_str[k]+'_v3-b.png',bbox_inches='tight',dpi=350)\n",
    "plt.show()"
   ]
  },
  {
   "cell_type": "code",
   "execution_count": 27,
   "metadata": {},
   "outputs": [
    {
     "name": "stdout",
     "output_type": "stream",
     "text": [
      "[273.6516068  273.62084672 273.5203548  273.37442949 273.24786706\n",
      " 273.20250121 273.24854328 273.37578509 273.52239188 273.62355689\n",
      " 273.65488803]\n",
      "[273.87270627 273.86039058 273.61468859 273.36717793 273.11604303\n",
      " 272.87002825 273.11670467 273.36851773 273.61672301 273.86313602\n",
      " 273.87613952]\n",
      "[273.87270627 273.87270547 273.87247991]\n",
      "[-0.40170075 -0.40169901 -0.40169829]\n"
     ]
    },
    {
     "ename": "NameError",
     "evalue": "name 'satp' is not defined",
     "output_type": "error",
     "traceback": [
      "\u001b[0;31m---------------------------------------------------------------------------\u001b[0m",
      "\u001b[0;31mNameError\u001b[0m                                 Traceback (most recent call last)",
      "\u001b[0;32m<ipython-input-27-a30b75d16f55>\u001b[0m in \u001b[0;36m<module>\u001b[0;34m()\u001b[0m\n\u001b[1;32m      3\u001b[0m \u001b[0mprint\u001b[0m\u001b[0;34m(\u001b[0m\u001b[0mchan_tb\u001b[0m\u001b[0;34m[\u001b[0m\u001b[0;34m:\u001b[0m\u001b[0;34m,\u001b[0m\u001b[0;36m0\u001b[0m\u001b[0;34m,\u001b[0m\u001b[0;36m4\u001b[0m\u001b[0;34m]\u001b[0m\u001b[0;34m)\u001b[0m\u001b[0;34m\u001b[0m\u001b[0;34m\u001b[0m\u001b[0m\n\u001b[1;32m      4\u001b[0m \u001b[0mprint\u001b[0m\u001b[0;34m(\u001b[0m\u001b[0marts_pos\u001b[0m\u001b[0;34m[\u001b[0m\u001b[0;34m:\u001b[0m\u001b[0;34m,\u001b[0m\u001b[0;36m0\u001b[0m\u001b[0;34m,\u001b[0m\u001b[0;36m1\u001b[0m\u001b[0;34m]\u001b[0m\u001b[0;34m)\u001b[0m\u001b[0;34m\u001b[0m\u001b[0;34m\u001b[0m\u001b[0m\n\u001b[0;32m----> 5\u001b[0;31m \u001b[0msatp\u001b[0m\u001b[0;34m\u001b[0m\u001b[0;34m\u001b[0m\u001b[0m\n\u001b[0m\u001b[1;32m      6\u001b[0m \u001b[0mprint\u001b[0m\u001b[0;34m(\u001b[0m\u001b[0mlon_grid\u001b[0m\u001b[0;34m.\u001b[0m\u001b[0msize\u001b[0m\u001b[0;34m,\u001b[0m \u001b[0ms_data\u001b[0m\u001b[0;34m[\u001b[0m\u001b[0;36m0\u001b[0m\u001b[0;34m,\u001b[0m\u001b[0;36m0\u001b[0m\u001b[0;34m,\u001b[0m\u001b[0;34m:\u001b[0m\u001b[0;34m]\u001b[0m\u001b[0;34m.\u001b[0m\u001b[0msize\u001b[0m\u001b[0;34m)\u001b[0m\u001b[0;34m\u001b[0m\u001b[0;34m\u001b[0m\u001b[0m\n\u001b[1;32m      7\u001b[0m \u001b[0mprint\u001b[0m\u001b[0;34m(\u001b[0m\u001b[0mchan_tb\u001b[0m\u001b[0;34m[\u001b[0m\u001b[0;34m:\u001b[0m\u001b[0;34m,\u001b[0m\u001b[0;36m1\u001b[0m\u001b[0;34m,\u001b[0m\u001b[0;36m0\u001b[0m\u001b[0;34m]\u001b[0m\u001b[0;34m)\u001b[0m\u001b[0;34m\u001b[0m\u001b[0;34m\u001b[0m\u001b[0m\n",
      "\u001b[0;31mNameError\u001b[0m: name 'satp' is not defined"
     ]
    }
   ],
   "source": [
    "print(chan_tb[0,:,2])\n",
    "print(chan_tb[0,:,4])\n",
    "print(chan_tb[:,0,4])\n",
    "print(arts_pos[:,0,1])\n",
    "satp\n",
    "print(lon_grid.size, s_data[0,0,:].size)\n",
    "print(chan_tb[:,1,0])\n",
    "print(chan_tb[:,6,0])"
   ]
  },
  {
   "cell_type": "code",
   "execution_count": null,
   "metadata": {},
   "outputs": [],
   "source": [
    "for c in range(nf*2):\n",
    "    print(info(chan_tb[:,:,c]))"
   ]
  },
  {
   "cell_type": "code",
   "execution_count": null,
   "metadata": {
    "collapsed": true
   },
   "outputs": [],
   "source": [
    "# to run fastem alone for testing, outputting emissivities and expected TBs with no atmosphere:\n",
    "#ws.MatrixCreate(\"emissivity\")\n",
    "#ws.MatrixCreate(\"reflectivity\")\n",
    "#ws.reflectivity = np.zeros([f_grid.size,4])\n",
    "#ws.emissivity   = np.zeros([f_grid.size,4])\n",
    "##ws.surface_skin_t = tmean #s_data[0,:,:]\n",
    "##ws.transmittance\n",
    "#ws.transmittance = np.ones( ws.f_grid.value.shape ) * 0.7\n",
    "#yep = 34\n",
    "#emii = np.zeros([yep,nf,2])\n",
    "#tbout= np.zeros([yep,nf,2])\n",
    "#tmean=270.0\n",
    "#for y in range(yep):\n",
    "#    ws.surface_skin_t = tmean+float(y) #s_data[0,:,:]\n",
    "#    ws.FastemStandAlone(surface_skin_t= tmean+y, f_grid=ws.f_grid,\n",
    "#                        emissivity=ws.emissivity, reflectivity=ws.reflectivity,\n",
    "#                        za=125.0, wind_speed=wsp, rel_aa=0.0, transmittance=ws.transmittance.value)\n",
    "#    emii[y,:,:] = ws.emissivity.value[:,0:2]\n",
    "#    tbout[y,:,:]= ws.emissivity.value[:,0:2]*tmean+y"
   ]
  },
  {
   "cell_type": "code",
   "execution_count": null,
   "metadata": {
    "collapsed": true
   },
   "outputs": [],
   "source": [
    "#### soooo, emissivity varies quite little with temperature for 6V (0.557->.553->.56),\n",
    "#     declines slightly at 18 (.64->.58), then bigtime at 89 (.84->.74)\n",
    "##print(ws.emissivity.value)\n",
    "#print(emii[:,0,0]) # 6\n",
    "##print(emii[:,3,0]) # 18\n",
    "##print(emii[:,5,0]) # 36\n",
    "#print(emii[:,-1,0]) # 89\n",
    "#\n",
    "#print(tbout[:,1,0])\n",
    "##print(tbout[:,2,0])\n",
    "#print(tbout[:,-1,0])"
   ]
  },
  {
   "cell_type": "code",
   "execution_count": null,
   "metadata": {
    "collapsed": true
   },
   "outputs": [],
   "source": [
    "# 89v @ 1.85\n",
    "#[273.72615686 273.71760372 273.57292552 273.3606657  273.17057684\n",
    "# 273.09250485 273.17124776 273.3620163  273.5749662  273.72033496\n",
    "# 273.72954625]\n",
    "# 89v @ 0.15:\n",
    "#[273.86979114 273.85747958 273.6117788  273.36426764 273.11314323\n",
    "# 272.8765316  273.11380517 273.365608   273.61381406 273.8602261\n",
    "# 273.87322565]\n",
    "# wider (2.85)\n",
    "#[273.6516068  273.62084672 273.5203548  273.37442949 273.24786706\n",
    "# 273.20250121 273.24854328 273.37578509 273.52239188 273.62355689\n",
    "# 273.65488803]\n",
    "# narrower (0.10)\n",
    "#[273.87270627 273.86039058 273.61468859 273.36717793 273.11604303\n",
    "# 272.87002825 273.11670467 273.36851773 273.61672301 273.86313602\n",
    "# 273.87613952]"
   ]
  }
 ],
 "metadata": {
  "jupytext": {
   "main_language": "python",
   "text_representation": {
    "extension": ".py",
    "format_name": "light"
   }
  },
  "kernelspec": {
   "display_name": "Python 3",
   "language": "python",
   "name": "python3"
  },
  "language_info": {
   "codemirror_mode": {
    "name": "ipython",
    "version": 3
   },
   "file_extension": ".py",
   "mimetype": "text/x-python",
   "name": "python",
   "nbconvert_exporter": "python",
   "pygments_lexer": "ipython3",
   "version": "3.6.8"
  }
 },
 "nbformat": 4,
 "nbformat_minor": 2
}
