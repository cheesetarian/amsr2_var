{
 "cells": [
  {
   "cell_type": "markdown",
   "metadata": {},
   "source": [
    "# ARTS AMSR2 multi-FOV surface simulations"
   ]
  },
  {
   "cell_type": "code",
   "execution_count": 1,
   "metadata": {
    "collapsed": true
   },
   "outputs": [],
   "source": [
    "#  d duncan, 28/01/19\n",
    "#  adapting a mixture of arts and matlab scripts from patrick to ipynb\n",
    "#   so that i can play around with running the forward model before doing\n",
    "#   any surface retrievals \n",
    "\n",
    "# this setup, in words:\n",
    "### - define an antenna response that is frequency dependent, gaussian, symmetric\n",
    "### - define sensor position and line of sight for each scan at middle of scan\n",
    "### - define an angular grid (zenith & azimuth) for each scan that encompasses npix\n",
    "### - sensor angles are all 'absolute' whereas the angular grid and antenna response \n",
    "###    are all relative to the central bore sight of the scan\n",
    "### - a lat/lon grid is also defined that must encompass all observation points simulated\n",
    "### - the same angular grid and simulation setup is assumed/copied for all nscans, and \n",
    "###    mblock_dlos_grid allows all simulations to be run at the same time\n",
    "\n",
    "### *** this setup outputs simulated TBs for chosen channels of AMSR2\n",
    "###    with antenna patterns taken into account and decoupled from any retrieval grid, with\n",
    "###    pencil beam calculations sampling the antenna pattern according to the angular grid\n",
    "###    defined"
   ]
  },
  {
   "cell_type": "code",
   "execution_count": 2,
   "metadata": {
    "collapsed": true
   },
   "outputs": [],
   "source": [
    "\n",
    "###nfoot    =  7  # currently both nscans and npix (assuming a square setup)\n",
    "npix     =  8  # pixels across each scan considered\n",
    "nscans   =  5  # consecutive scans considered\n",
    "angfac   =  5   # angular samples per degree\n",
    "npol     =  2   # number of polarizations considered (2=V/H both, 1=intensity only)"
   ]
  },
  {
   "cell_type": "code",
   "execution_count": 3,
   "metadata": {
    "lines_to_next_cell": 2
   },
   "outputs": [
    {
     "name": "stdout",
     "output_type": "stream",
     "text": [
      "env: ARTS_INCLUDE_PATH=/home/dudavid/arts/controlfiles/\n",
      "env: ARTS_BUILD_PATH=/home/dudavid/arts/build/\n",
      "env: ARTS_DATA_PATH=/home/dudavid/arts/arts-xml/\n",
      "Loading ARTS API from: /home/dudavid/arts/build/src/libarts_api.so\n"
     ]
    }
   ],
   "source": [
    "\n",
    "%env ARTS_INCLUDE_PATH=/home/dudavid/arts/controlfiles/\n",
    "%env ARTS_BUILD_PATH=/home/dudavid/arts/build/\n",
    "%env ARTS_DATA_PATH=/home/dudavid/arts/arts-xml/ \n",
    "\n",
    "%matplotlib inline\n",
    "#from h5py import File\n",
    "\n",
    "from typhon.arts.workspace import Workspace, arts_agenda\n",
    "ws = Workspace(verbosity=0)\n",
    "ws.execute_controlfile(\"general/general.arts\")\n",
    "ws.execute_controlfile(\"general/continua.arts\")\n",
    "ws.execute_controlfile(\"general/agendas.arts\")\n",
    "ws.execute_controlfile(\"general/planet_earth.arts\")\n",
    "\n",
    "from typhon.arts.workspace.variables import *\n",
    "\n",
    "ws.Copy( ws.abs_xsec_agenda, ws.abs_xsec_agenda__noCIA )\n",
    "ws.Copy( ws.iy_main_agenda, ws.iy_main_agenda__Emission )\n",
    "ws.Copy( ws.iy_space_agenda, ws.iy_space_agenda__CosmicBackground )\n",
    "ws.Copy( ws.propmat_clearsky_agenda, ws.propmat_clearsky_agenda__OnTheFly )\n",
    "ws.Copy( ws.ppath_agenda, ws.ppath_agenda__FollowSensorLosPath )\n",
    "ws.Copy( ws.ppath_step_agenda, ws.ppath_step_agenda__GeometricPath )\n",
    "@arts_agenda\n",
    "def geo_pos_agendaPY(ws):\n",
    "    ws.geo_posEndOfPpath()\n",
    "ws.Copy( ws.geo_pos_agenda, geo_pos_agendaPY)  ## new one, set by patrick in his cfile\n",
    "\n",
    "# define absorbing species and sensor (here using metmm library, used again below)\n",
    "ws.abs_speciesSet(species=[\"H2O-PWR98\",\"O2-PWR93\",\"N2-SelfContStandardType\"])#,\"liquidcloud-ELL07\"])\n",
    "ws.abs_lines_per_speciesSetEmpty()\n",
    "\n",
    "ws.stokes_dim = npol # to get V and H pol set to 2\n",
    "ws.iy_unit = \"PlanckBT\" # equivalent: ws.StringSet( iy_unit, \"PlanckBT\" )"
   ]
  },
  {
   "cell_type": "code",
   "execution_count": 4,
   "metadata": {
    "collapsed": true,
    "lines_to_next_cell": 2
   },
   "outputs": [],
   "source": [
    "# Define lat/lon grid that observation points and angular grid lie within\n",
    "lat0     = 0.62  # center of grid in lat, lon\n",
    "lon0     = 0\n",
    "nlat, nlon = 30, 30    # number of lat and lon divisions\n",
    "latwid, lonwid = 10, 10  # just asssume square for now\n",
    " \n",
    "lat_grid = lat0 + np.linspace(-latwid,latwid,nlat) # [-3:0.25:3]\n",
    "lon_grid = lon0 + np.linspace(-lonwid,lonwid,nlat) # [-3:0.25:3]\n",
    " \n",
    "ws.lat_grid = lat_grid\n",
    "ws.lon_grid = lon_grid"
   ]
  },
  {
   "cell_type": "code",
   "execution_count": 5,
   "metadata": {},
   "outputs": [],
   "source": [
    "# set up atmosphere and surface variables:\n",
    "ws.atmosphere_dim = 3 \n",
    "p = np.array([1015.,950.,900.,800.,650.,500.,300.,100.])*100.0  # keep it simple\n",
    "#p = np.array([1015.,975.,950.,925.,900.,850.,800.,750.,700.,650.,600.,550.,500.,400.,300.,200.,100.])*100.0\n",
    "ws.p_grid = p[:] \n",
    "ws.AtmRawRead( basename = \"planets/Earth/Fascod/tropical/tropical\") #tropical atmosphere assumed\n",
    "ws.AtmosphereSet3D()\n",
    "ws.AtmFieldsCalcExpand1D()  # set to given p_grid or z_grid"
   ]
  },
  {
   "cell_type": "code",
   "execution_count": 6,
   "metadata": {
    "lines_to_next_cell": 2
   },
   "outputs": [],
   "source": [
    "# Surface properties\n",
    "\n",
    "s_names = ['Water skin temperature','Wind speed','Wind direction','Salinity']\n",
    "s_data = np.zeros([len(s_names), lat_grid.size, lon_grid.size])\n",
    "\n",
    "tmean                     = 296   # sst mean\n",
    "wsp                       = 7.3   # 10m wind speed\n",
    "s_data[0,:,:] = tmean\n",
    "s_data[0,2,4] = tmean+3.5 # some preturbation\n",
    "s_data[1,:,:] = wsp\n",
    "s_data[1,5,1] = wsp-3.2 # some perturbation\n",
    "s_data[2,:,:] = 90 # token wind direction value\n",
    "s_data[3,:,:] = 0.034 # token salinity value\n",
    "# write these to ARTS variables (don't write to xml)\n",
    "ws.Copy(ws.surface_props_names, s_names)\n",
    "ws.Copy(ws.surface_props_data, s_data)\n",
    "ws.MatrixSetConstant(ws.z_surface, nlat, nlon, 0.0)\n"
   ]
  },
  {
   "cell_type": "code",
   "execution_count": 7,
   "metadata": {
    "lines_to_next_cell": 2
   },
   "outputs": [
    {
     "name": "stdout",
     "output_type": "stream",
     "text": [
      "0.624 0.09125269978401726\n"
     ]
    }
   ],
   "source": [
    "# Set and calculate some basic variables for antenna and scanning\n",
    "### all will be replaced or superseded when moving to using L1R data as input\n",
    " \n",
    "zsat   = 699.7e3      # Satellite altitde [m] -- can read this in later\n",
    "vsat   = 6.76e3       # Satellite velocity [m/s]\n",
    "dt     = 2.6e-3       # Integration time [s] -- 2.6ms for low freqs, 1.3ms for 89GHz\n",
    "rpm    = 40           # Rotations per minute -- same for AMSR-E and AMSR2\n",
    " \n",
    "# find nautical mile constant?  1852m = 1nmi\n",
    "m2deg  = 1/(60*1852) #constants('NAUTICAL_MILE'))    # Conversion from m to latitude\n",
    "dang   = dt * 360 * rpm / 60                  # Angular distance between samples\n",
    "dlat   = m2deg * vsat * 60 / rpm              # Latitude distance between scans\n",
    "print(dang,dlat)"
   ]
  },
  {
   "cell_type": "code",
   "execution_count": 9,
   "metadata": {},
   "outputs": [
    {
     "name": "stdout",
     "output_type": "stream",
     "text": [
      "angular resolution of response grid [deg]:  0.02\n",
      "size of antenna_reponse grid:  (1, 3, 201, 201)\n"
     ]
    }
   ],
   "source": [
    "# define antenna pattern:\n",
    "\n",
    "# for a given angular resolution (might vary), width=2 yields 99.96% of total power @6GHz \n",
    "#   compared to width=20 and 99.99999% @10GHz, width=1.5 yields 99.0 and 99.994.\n",
    "width = 2.0            # Max half-width of antenna  (HPBW is 1.8deg, so awidth=2 covers over 2x the HPBW)\n",
    "resol  = 0.02          # angular resolution (same in zenith/azimuth for now)\n",
    "#resol, width = dang/(angfac*5), awidth # set here instead of calling func\n",
    "print('angular resolution of response grid [deg]: ',resol)\n",
    "adata = [[ 6.925e9 ,  1.8],   # AMSR2 center frequency and beamwidth (deg)\n",
    "         [ 7.300e9 ,  1.8],   # assumed the same for V/H polarizations\n",
    "         [ 10.65e9 ,  1.2]] #,\n",
    "         #[ 18.70e9 ,  0.65],\n",
    "         #[ 23.80e9 ,  0.75],\n",
    "         #[ 36.50e9 ,  0.35],\n",
    "         #[ 89.00e9 ,  0.15] ]\n",
    "adata = np.array(adata).transpose()\n",
    "\n",
    "# define zenith, azimuth grid on the ground (relative to bore sight) -- assumed to be \n",
    "x  = np.arange( -width, width+resol, resol )  #this gives angular antenna response points in za,aa\n",
    "x2 = x**2   # since assumed origin is 0, do squaring here \n",
    "nf, nx = len(adata[0,:]), np.size(x)\n",
    "\n",
    "from typhon.arts.griddedfield import GriddedField4\n",
    "gf4 = GriddedField4()\n",
    "gf4.name = 'AMSR2 antenna response'\n",
    "gf4.gridnames =  [ 'Polarisation', 'Frequency', 'Zenith angle', 'Azimuth angle' ]\n",
    "###  note: za & aa are equally spaced, and we're treating V/H as having identical responses\n",
    "if npol==2: gsp=\"1\" \n",
    "else: gsp=\"0\"\n",
    "gf4.grids = [ [gsp], adata[0,:], x, x ]\n",
    "gf4.dataname  = 'Response'\n",
    "gf4.data      = np.zeros([ 1, nf, nx, nx ])\n",
    "print('size of antenna_reponse grid: ',gf4.data.shape)\n",
    "\n",
    "#blah = [4589.014643600229,\n",
    "#4589.014643600229,\n",
    "#2039.5620638223247]\n",
    "for i in range(nf):\n",
    "    si = adata[1,i] / (2*np.sqrt(2*np.log(2)))  # calculate standard deviation first, based on HPBW\n",
    "    gf4.data[0,i,:,:] = np.exp( - np.tile(x2,[nx,1])/si**2 - np.tile(x2,[nx,1]).transpose()/ si**2 )\n",
    "    #gf4.data[0,i,:,:] = np.exp( - (np.tile(x2,[nx,1]) + np.tile(x2,[nx,1]).transpose())/ si**2 ) # equivalent\n",
    "    #print(np.sum(gf4.data[0,i,:,:])/blah[i])\n",
    "\n"
   ]
  },
  {
   "cell_type": "code",
   "execution_count": 10,
   "metadata": {
    "lines_to_next_cell": 2
   },
   "outputs": [
    {
     "name": "stdout",
     "output_type": "stream",
     "text": [
      "f_grid:  [6.925e+09 7.300e+09 1.065e+10]\n"
     ]
    }
   ],
   "source": [
    "# frequency grid of simulation is defined according to sensor setup above (may change with use of metmm)\n",
    "f_grid = np.copy(gf4.grids[1])  # array with each frequency (not channel)\n",
    "\n",
    "ws.f_grid.value = f_grid\n",
    "print('f_grid: ',ws.f_grid.value)\n",
    " "
   ]
  },
  {
   "cell_type": "code",
   "execution_count": 11,
   "metadata": {
    "lines_to_next_cell": 2
   },
   "outputs": [
    {
     "name": "stdout",
     "output_type": "stream",
     "text": [
      "bsights: [[132.5    -2.184]\n",
      " [132.5    -1.56 ]\n",
      " [132.5    -0.936]\n",
      " [132.5    -0.312]\n",
      " [132.5     0.312]\n",
      " [132.5     0.936]\n",
      " [132.5     1.56 ]\n",
      " [132.5     2.184]]\n"
     ]
    }
   ],
   "source": [
    "# Determine bore-sight angles to use for one scan \n",
    " \n",
    "# steps defines the pixels in one scan\n",
    "psteps   = np.arange(-(npix-1)/2, (npix-1)/2 +1, 1)  #  assumes npix is odd, with bore in the middle\n",
    "ssteps   = np.arange(-(nscans-1)/2, (nscans-1)/2 +1, 1) # assumes nscans is odd, with bore in the middle\n",
    "#print('pixel steps',psteps)\n",
    "\n",
    "#  center line of sight... defined as AMSR2 EIA and 0 azimuth angle\n",
    "los0    = [ 180-47.5, 0 ]  # 47.5 is off-nadir angle of AMSR2\n",
    "\n",
    "# bsights defines the bore sight zenith and azimuth angles across the scan \n",
    "##-- just for one scan, assumed to be same for each scan?\n",
    "bsights = np.array([ np.repeat(los0[0],npix), los0[1]+dang*psteps ]).transpose()  # size: [npix,2]\n",
    "print('bsights:',bsights)"
   ]
  },
  {
   "cell_type": "code",
   "execution_count": 12,
   "metadata": {
    "lines_to_next_cell": 2
   },
   "outputs": [
    {
     "name": "stdout",
     "output_type": "stream",
     "text": [
      "10.0\n",
      "[130.5 130.7 130.9 131.1 131.3 131.5 131.7 131.9 132.1 132.3 132.5 132.7\n",
      " 132.9 133.1 133.3 133.5 133.7 133.9 134.1 134.3 134.5]\n",
      "20.0\n",
      "[-4.  -3.8 -3.6 -3.4 -3.2 -3.  -2.8 -2.6 -2.4 -2.2 -2.  -1.8 -1.6 -1.4\n",
      " -1.2 -1.  -0.8 -0.6 -0.4 -0.2  0.   0.2  0.4  0.6  0.8  1.   1.2  1.4\n",
      "  1.6  1.8  2.   2.2  2.4  2.6  2.8  3.   3.2  3.4  3.6  3.8  4. ]\n"
     ]
    }
   ],
   "source": [
    "# Store data describing angles\n",
    "\n",
    "#n = np.floor( angfac * width / dang )  # number per degree * angular width / distance between boresights\n",
    "n = np.floor( width * angfac )  # angular width * angular samples per deg\n",
    "print(n)\n",
    "#za_grid = np.array( los0[0] + (dang/angfac) * np.arange(-n,n+1))  # zenith angle grid\n",
    "za_grid = np.array( los0[0] +  np.arange(-n,n+1)/angfac)  ## effectively taking 'width' on either side of 0\n",
    "print(za_grid) # should be something like \n",
    "\n",
    "en = np.floor((bsights[-1,1]+width)*angfac) ## yields az from boresight at edge plus 'width' (could prob do width/2)\n",
    "#en       = 1 + np.floor( angfac * ( bsights[-1,1] + width ) / dang ) # azimuth of boresight at edge +width\n",
    "print(en)\n",
    "#aa_grid = np.array( los0[1] + (dang/angfac) * np.arange(-en,en+1))  # azimuth angle grid\n",
    "aa_grid = np.array( los0[1] + np.arange(-en,en+1/angfac)/angfac)  # azimuth angle grid\n",
    "print(aa_grid)\n",
    "\n",
    "\n"
   ]
  },
  {
   "cell_type": "code",
   "execution_count": 13,
   "metadata": {},
   "outputs": [
    {
     "name": "stdout",
     "output_type": "stream",
     "text": [
      "[[ 6.9970000e+05 -7.0625054e+00  0.0000000e+00]\n",
      " [ 6.9970000e+05 -6.9712527e+00  0.0000000e+00]\n",
      " [ 6.9970000e+05 -6.8800000e+00  0.0000000e+00]\n",
      " [ 6.9970000e+05 -6.7887473e+00  0.0000000e+00]\n",
      " [ 6.9970000e+05 -6.6974946e+00  0.0000000e+00]]\n",
      "(5, 3)\n"
     ]
    }
   ],
   "source": [
    "# Set sensor_pos, sensor_los\n",
    "\n",
    "ws.sensor_los = np.tile(los0, [nscans,1])  # sensor line of sight for each scan\n",
    "\n",
    "shift   = 7.5    # Latitude shift to centre calculations around lat0\n",
    "\n",
    "#### sensor_pos should be columns of altitude, SClat, SClon  ###  \n",
    "####   so take all this from L1R files and transform X/Y/Z to lat/lon\n",
    "# currently one alt/sclat/sclon for each scan (i.e. each of nscans)\n",
    "ws.sensor_pos = np.hstack([np.repeat(zsat, nscans).reshape(nscans,1),\n",
    "                          np.array(lat0 - shift + dlat * ssteps).reshape(nscans,1), \n",
    "                          np.repeat(lon0, nscans).reshape(nscans,1)])\n",
    "\n",
    "print(ws.sensor_pos.value)\n",
    "#print(np.transpose(ws.sensor_pos.value))\n",
    "print(np.shape(ws.sensor_pos.value))\n",
    "\n",
    "#  spos = [ repmat(zsat,nfoot,1), lat0-shift+dlat*steps, repmat(lon0,nfoot,1) ];\n",
    "#xmlStore( fullfile(wfolder,'sensor_pos.xml'), spos, 'Matrix' )"
   ]
  },
  {
   "cell_type": "code",
   "execution_count": 14,
   "metadata": {},
   "outputs": [],
   "source": [
    "# other controlfile things done in common.arts\n",
    "ws.jacobianOff()\n",
    "ws.cloudboxOff()"
   ]
  },
  {
   "cell_type": "code",
   "execution_count": 15,
   "metadata": {},
   "outputs": [],
   "source": [
    "# define surface agenda:\n",
    "varnam = [\"Optical depth\"]\n",
    "ws.Copy(ws.iy_aux_vars, varnam)\n",
    "ws.VectorCreate( \"transmittance\" )\n",
    "ws.transmittance = np.ones( ws.f_grid.value.shape ) * 0.7\n",
    "@arts_agenda\n",
    "def iy_surface_agendaPY(ws):\n",
    "    ws.specular_losCalc()\n",
    "    # if ppathCalc is called and uses assumed inputs, problems! so specify all!\n",
    "    ws.ppathCalc(ws.ppath_agenda, ws.ppath_lmax, \n",
    "       ws.ppath_lraytrace, ws.atmgeom_checked, ws.t_field, ws.z_field, \n",
    "       ws.vmr_field, ws.f_grid, ws.cloudbox_on, ws.cloudbox_checked, \n",
    "       ws.ppath_inside_cloudbox_do, ws.rtp_pos, ws.specular_los, ws.rte_pos2 )\n",
    "    ws.iyEmissionStandard()\n",
    "    \n",
    "    ws.transmittanceFromIy_aux(transmittance=ws.transmittance)\n",
    "    ws.SurfaceFastem( transmittance = ws.transmittance, fastem_version=6 ) \n",
    "    ws.iySurfaceRtpropCalc()\n",
    "    \n",
    "ws.Copy(ws.iy_surface_agenda, iy_surface_agendaPY) # copy python-defined agenda to ARTS"
   ]
  },
  {
   "cell_type": "code",
   "execution_count": 16,
   "metadata": {},
   "outputs": [],
   "source": [
    "# perform some checks:\n",
    "ws.abs_xsec_agenda_checkedCalc()\n",
    "ws.propmat_clearsky_agenda_checkedCalc()\n",
    "ws.atmfields_checkedCalc( bad_partition_functions_ok = 1 )\n",
    "ws.atmgeom_checkedCalc()\n",
    "ws.cloudbox_checkedCalc()"
   ]
  },
  {
   "cell_type": "code",
   "execution_count": 17,
   "metadata": {
    "scrolled": false
   },
   "outputs": [
    {
     "name": "stdout",
     "output_type": "stream",
     "text": [
      "[132.5   0. ]\n",
      "[[130.5  -4. ]\n",
      " [130.5  -3.8]\n",
      " [130.5  -3.6]\n",
      " [130.5  -3.4]\n",
      " [130.5  -3.2]\n",
      " [130.5  -3. ]\n",
      " [130.5  -2.8]\n",
      " [130.5  -2.6]\n",
      " [130.5  -2.4]\n",
      " [130.5  -2.2]]\n",
      "(861, 2)\n",
      "(861, 2)\n",
      "[[-1.92825774 -3.04230502]\n",
      " [-1.93524991 -2.8902983 ]\n",
      " [-1.94188405 -2.7382749 ]\n",
      " [-1.94816006 -2.58623569]\n",
      " [-1.95407788 -2.43418156]\n",
      " [-1.95963743 -2.28211337]\n",
      " [-1.96483862 -2.13003199]\n",
      " [-1.96968141 -1.97793831]\n",
      " [-1.97416571 -1.82583321]\n",
      " [-1.97829149 -1.67371754]]\n",
      "['-2.00E+0', '2.07E+0', '2.43E-2', '1.21E+0'] ['-3.04E+0', '3.04E+0', '-8.25E-18', '1.74E+0']\n"
     ]
    }
   ],
   "source": [
    "# create vector mblock_reference_los and matrix mblock_target_los (to be used by DiffZaAa)\n",
    "mblock_reference_los = np.array(los0)\n",
    "print(mblock_reference_los)\n",
    "\n",
    "# want to have all individual angle pairs distinct... so repeat one serially and one n times\n",
    "mblock_target_los = np.array(np.transpose( np.stack( [ np.repeat(za_grid, aa_grid.size) , \n",
    "                                           np.tile(  aa_grid, za_grid.size) ]) ) , order = \"C\")\n",
    "## need to specify 'C' order or else stride is wrong and array values are read wrong by ARTS\n",
    "\n",
    "print(mblock_target_los[0:10,:])\n",
    "print(mblock_target_los.shape)\n",
    "\n",
    "#### this causes kernel to die, throws arts error \"Assertion `za != 0 && za != 180' failed.\"\n",
    "# which exists in 'ppath.cc' -- none of the *za* values going are zeros, but if column 2 has nonzeros, it works?\n",
    "\n",
    "### 31/01 -- mblock_target_los is now correct, but still this function has weird bug... and output looks wrong!\n",
    "\n",
    "ws.DiffZaAa(ws.mblock_dlos_grid, mblock_reference_los, mblock_target_los)\n",
    "\n",
    "print(np.shape(ws.mblock_dlos_grid.value))\n",
    "print(ws.mblock_dlos_grid.value[0:10,:])\n",
    "print(info(ws.mblock_dlos_grid.value[:,0]),info(ws.mblock_dlos_grid.value[:,1]))"
   ]
  },
  {
   "cell_type": "code",
   "execution_count": 18,
   "metadata": {},
   "outputs": [
    {
     "name": "stdout",
     "output_type": "stream",
     "text": [
      "True\n"
     ]
    }
   ],
   "source": [
    "### take commands from patrick's amsr2_cfile.arts\n",
    "ws.VectorCreate(\"antenna_reference_los\")\n",
    "ws.MatrixCreate(\"antenna_target_los\")\n",
    "ws.antenna_reference_los = np.array(los0)\n",
    "ws.antenna_target_los = np.array(bsights, order=\"C\")\n",
    "ws.DiffZaAa(ws.antenna_dlos, ws.antenna_reference_los, ws.antenna_target_los)\n",
    "\n",
    "# define sensor... done above, but apply gf4 typhon/arts object to antenna_response:\n",
    "ws.sensor_norm = 1\n",
    "ws.antenna_dim = 2\n",
    "#ws.antenna_response.from_typhon?\n",
    "ws.antenna_response = gf4 \n",
    "print(ws.antenna_response.initialized)\n",
    "\n",
    "ws.sensor_responseInit()\n",
    "ws.sensor_responseAntenna()\n",
    "#print(ws.sensor_pos.value)\n",
    "ws.sensor_checkedCalc()\n",
    "\n",
    "\n",
    "# should this get called? not yet -- will give bsights from designated positions, draw a line \n",
    "#ws.sensor_losGeometricFromSensorPosToOtherPositions(ws.target_pos=np.array([]))\n",
    "\n"
   ]
  },
  {
   "cell_type": "code",
   "execution_count": 19,
   "metadata": {},
   "outputs": [],
   "source": [
    "# after performing all the checks, run yCalc:\n",
    "\n",
    "ws.yCalc()\n",
    "\n",
    "# y vector should be of size [nf*2 (stokes dim 2) ] * npix*nscans   ##formerly nfoot**2 "
   ]
  },
  {
   "cell_type": "code",
   "execution_count": 20,
   "metadata": {},
   "outputs": [
    {
     "name": "stdout",
     "output_type": "stream",
     "text": [
      "40.0\n",
      "[127.81197795  43.13759143 128.34399467  43.06563046 133.69235401\n",
      "  42.22864806]\n",
      "[127.81312334  43.13793165 128.34517398  43.06602711 133.69312238\n",
      "  42.22832154]\n",
      "[127.81410313  43.13840586 128.34618403  43.06656169 133.69337392\n",
      "  42.22816308]\n",
      "[127.81497383  43.139211   128.34708039  43.06743041 133.69344462\n",
      "  42.22810291]\n",
      "[127.81564176  43.13988518 128.34777243  43.06817144 133.69344462\n",
      "  42.22810291]\n",
      "[127.81610691  43.1404284  128.34826013  43.06878479 133.69337392\n",
      "  42.22816308]\n",
      "[127.81646141  43.14130098 128.34863254  43.06973054 133.69312238\n",
      "  42.22832154]\n",
      "[127.81663211  43.14228916 128.34881681  43.07079402 133.69235401\n",
      "  42.22864806]\n",
      "[127.80962193  43.13829415 128.34152768  43.06636602 133.69013251\n",
      "  42.22934167]\n",
      "[127.81060408  43.13879438 128.34254358  43.06692541 133.69008005\n",
      "  42.2294435 ]\n",
      "[127.81156674  43.13935658 128.34354188  43.06754841 133.69007822\n",
      "  42.22949432]\n",
      "[127.81246304  43.14019776 128.3444685   43.06845285 133.6900549\n",
      "  42.22953052]\n",
      "[127.81313112  43.14087209 128.34516069  43.06919405 133.6900549\n",
      "  42.22953052]\n",
      "[127.81357098  43.14137958 128.34561845  43.06977202 133.69007822\n",
      "  42.22949432]\n",
      "[127.81394291  43.14216447 128.34600292  43.07062968 133.69008005\n",
      "  42.2294435 ]\n",
      "[127.81427712  43.14299291 128.34635089  43.07153072 133.69013251\n",
      "  42.22934167]\n",
      "[127.81314339  43.13710054 128.3452077   43.06512198 133.69598289\n",
      "  42.22723629]\n",
      "[127.81453162  43.13738802 128.34663608  43.06546427 133.69676731\n",
      "  42.22693508]\n",
      "[127.81558532  43.13786609 128.34772406  43.06600203 133.69695834\n",
      "  42.22684006]\n",
      "[127.81647298  43.13868309 128.34863982  43.06688227 133.69701083\n",
      "  42.2268118 ]\n",
      "[127.81714118  43.13935754 128.34933214  43.0676236  133.69701083\n",
      "  42.2268118 ]\n",
      "[127.8175899   43.13988944 128.34980099  43.06822602 133.69695834\n",
      "  42.22684006]\n",
      "[127.81787104  43.14075871 128.35009602  43.06916919 133.69676731\n",
      "  42.22693508]\n",
      "[127.81779943  43.14180016 128.35003178  43.07028762 133.69598289\n",
      "  42.22723629]\n",
      "[127.81134162  43.13777952 128.3433546   43.06581889 133.69494094\n",
      "  42.22774282]\n",
      "[127.8122145   43.13826902 128.34425413  43.06636842 133.69530669\n",
      "  42.22763699]\n",
      "[127.81307592  43.1388307  128.34514393  43.06699212 133.69535841\n",
      "  42.22761884]\n",
      "[127.81392574  43.13967055 128.3460205   43.06789583 133.69536279\n",
      "  42.22762189]\n",
      "[127.8145941   43.14034516 128.34671297  43.06863734 133.69536279\n",
      "  42.22762189]\n",
      "[127.81508096  43.14085451 128.34722134  43.06921662 133.69535841\n",
      "  42.22761884]\n",
      "[127.81555467  43.14164046 128.34771486  43.07007418 133.69530669\n",
      "  42.22763699]\n",
      "[127.81599868  43.14248017 128.34817974  43.07098566 133.69494094\n",
      "  42.22774282]\n",
      "[127.81255344  43.13727445 128.34460518  43.0653     133.69540287\n",
      "  42.22752727]\n",
      "[127.81363107  43.13765028 128.34573233  43.06572813 133.69548655\n",
      "  42.227479  ]\n",
      "[127.81446278  43.13818077 128.34660445  43.06631652 133.69519207\n",
      "  42.22754609]\n",
      "[127.81526282  43.13901823 128.34743471  43.06721659 133.69511434\n",
      "  42.22756871]\n",
      "[127.8159313   43.13969296 128.34812732  43.06795824 133.69511434\n",
      "  42.22756871]\n",
      "[127.8164682   43.14020497 128.34868226  43.06854145 133.69519207\n",
      "  42.22754609]\n",
      "[127.81697189  43.14102237 128.34919372  43.0694346  133.69548655\n",
      "  42.227479  ]\n",
      "[127.81721141  43.14197602 128.34943127  43.07046778 133.69540287\n",
      "  42.22752727]\n"
     ]
    }
   ],
   "source": [
    "\n",
    "print(len(ws.y.value)/(nf*2))\n",
    "for c in range(int(len(ws.y.value)/(nf*2))):\n",
    "    print(ws.y.value[c*nf*2:(c+1)*nf*2])"
   ]
  },
  {
   "cell_type": "code",
   "execution_count": 22,
   "metadata": {
    "scrolled": false
   },
   "outputs": [
    {
     "name": "stdout",
     "output_type": "stream",
     "text": [
      "(240, 5)\n",
      "[125.09904978 125.09904978 125.09904978 125.09904978 125.09904978\n",
      " 125.09904978 125.09904978 125.09904978 125.09904978 125.09904978\n",
      " 125.09904978 125.09904978 125.09904978 125.09904978 125.09904978\n",
      " 125.09904978 125.09904978 125.09904978 125.09904978 125.09904978\n",
      " 125.09904978 125.09904978 125.09904978 125.09904978 125.09904978\n",
      " 125.09904978 125.09904978 125.09904978 125.09904978 125.09904978\n",
      " 125.09904978 125.09904978 125.09904978 125.09904978 125.09904978\n",
      " 125.09904978 125.09904978 125.09904978 125.09904978 125.09904978\n",
      " 125.09904978 125.09904978 125.09904978 125.09904978 125.09904978\n",
      " 125.09904978 125.09904978 125.09904978]\n",
      "[-2.18333653 -2.18333653 -2.18333653 -2.18333653 -2.18333653 -2.18333653\n",
      " -1.5878843  -1.5878843  -1.5878843  -1.5878843  -1.5878843  -1.5878843\n",
      " -0.99242905 -0.99242905 -0.99242905 -0.99242905 -0.99242905 -0.99242905\n",
      " -0.39697191 -0.39697191 -0.39697191 -0.39697191 -0.39697191 -0.39697191\n",
      "  0.39697191  0.39697191  0.39697191  0.39697191  0.39697191  0.39697191\n",
      "  0.99242905  0.99242905  0.99242905  0.99242905  0.99242905  0.99242905\n",
      "  1.5878843   1.5878843   1.5878843   1.5878843   1.5878843   1.5878843\n",
      "  2.18333653  2.18333653  2.18333653  2.18333653  2.18333653  2.18333653]\n"
     ]
    }
   ],
   "source": [
    "print(np.shape(ws.y_geo.value))\n",
    "print('geo obs points for first scan: ')\n",
    "print(ws.y_geo.value[:npix*nf*npol,3])  # columns are altitude, lat, lon, zenith, azimuth of measurement geoposition\n",
    "print(ws.y_geo.value[:npix*nf*npol,4])  # note: zenith angles should be identical and be very close to EIA reported\n",
    "# can compare [:,3] (az) to EIA from L1R (later), just 180-az to get EIA"
   ]
  },
  {
   "cell_type": "code",
   "execution_count": null,
   "metadata": {
    "collapsed": true
   },
   "outputs": [],
   "source": []
  }
 ],
 "metadata": {
  "jupytext": {
   "main_language": "python",
   "text_representation": {
    "extension": ".py",
    "format_name": "light"
   }
  },
  "kernelspec": {
   "display_name": "Python 3",
   "language": "python",
   "name": "python3"
  },
  "language_info": {
   "codemirror_mode": {
    "name": "ipython",
    "version": 3
   },
   "file_extension": ".py",
   "mimetype": "text/x-python",
   "name": "python",
   "nbconvert_exporter": "python",
   "pygments_lexer": "ipython3",
   "version": "3.6.8"
  }
 },
 "nbformat": 4,
 "nbformat_minor": 2
}
