{
 "cells": [
  {
   "cell_type": "markdown",
   "metadata": {},
   "source": [
    "# ARTS multi-FOV surface retrievals"
   ]
  },
  {
   "cell_type": "code",
   "execution_count": 1,
   "metadata": {
    "collapsed": true
   },
   "outputs": [],
   "source": [
    "#  d duncan, 08/02/19\n",
    "#  this script builds on amsr2_test2.ipynb and adds the use of ARTS OEM to experiment\n",
    "#    with retrieval of a perturbed scene. the goal here is to probe the spatial resolution\n",
    "#    of geophysical parameter variations that may be possible with such a sensor, focused\n",
    "#    here on AMSR2 and surface parameters (SST, wind speed)\n",
    "\n",
    "#  note: for speed, the angular grid is the big culprit, so if using low frequencies only\n",
    "#    then angfac<10 is quite justified\n",
    "\n",
    "# this setup, in steps/words:\n",
    "### - define an antenna response that is frequency dependent, gaussian, symmetric\n",
    "### - define sensor position and line of sight for each scan at middle of scan\n",
    "### - define an angular grid (zenith & azimuth) for each scan that encompasses npix\n",
    "### - sensor angles are all 'absolute' whereas the angular grid and antenna response \n",
    "###    are all relative to the central bore sight of the scan\n",
    "### - a lat/lon grid is also defined that must encompass all observation points simulated\n",
    "### - the same angular grid and simulation setup is assumed/copied for all nscans, and \n",
    "###    mblock_dlos_grid allows all simulations to be run at the same time\n",
    "\n",
    "### *** this setup outputs simulates TBs for chosen channels of AMSR2\n",
    "###    with antenna patterns taken into account and decoupled from any retrieval grid, with\n",
    "###    pencil beam calculations sampling the antenna pattern according to the angular grid\n",
    "###    defined\n",
    "\n",
    "### a priori covariances are defined in terms of standard deviations and decorrelation lengths\n",
    "###  and observation error covariances are frequency dependent"
   ]
  },
  {
   "cell_type": "code",
   "execution_count": 2,
   "metadata": {},
   "outputs": [],
   "source": [
    "deco = 0.75  # decorrelation length of a priori [deg] -- set to small but nonzero if wanting none\n",
    "pv = 'v3' # plot version (end of plots' filenames)\n",
    "\n",
    "# frequency subset, defined by AMSR2 frequency indices: 0=6GHz, 1=7, 2=10, 3=18, 4=23, 5=36, 6=89\n",
    "#fsub  = np.array([0, 1, 2]) # choose which frequencies to run (runs both polarisations--v/h)\n",
    "fsub = np.array([0,1,2]) #,3]) #,4,5])\n",
    "\n",
    "npix     =  21   # pixels across each scan considered\n",
    "nscans   =  19   # consecutive scans considered\n",
    "angfac   =   2   # angular samples per degree or between pix -- should be min ~10 (but depends on freqs used)\n",
    "npol     =  2    # number of polarizations considered (2=V/H both, 1=intensity only)\n",
    "\n",
    "nrvar = 1 # number of retrieval variables, 1 will be SST only, 2 for SST+windspeed\n",
    "sx_sst = 0.6   # a priori std deviation for SST\n",
    "nedt   = np.array([0.34, 0.43, 0.7, 0.7, 0.6, 0.7, 1.2])[fsub] # from published NEdT values"
   ]
  },
  {
   "cell_type": "code",
   "execution_count": 3,
   "metadata": {
    "lines_to_next_cell": 2
   },
   "outputs": [
    {
     "name": "stdout",
     "output_type": "stream",
     "text": [
      "env: ARTS_INCLUDE_PATH=/home/dudavid/arts/controlfiles/\n",
      "env: ARTS_BUILD_PATH=/home/dudavid/arts/build/\n",
      "env: ARTS_DATA_PATH=/home/dudavid/arts/arts-xml/\n",
      "Loading ARTS API from: /home/dudavid/arts/build/src/libarts_api.so\n"
     ]
    }
   ],
   "source": [
    "\n",
    "%env ARTS_INCLUDE_PATH=/home/dudavid/arts/controlfiles/\n",
    "%env ARTS_BUILD_PATH=/home/dudavid/arts/build/\n",
    "%env ARTS_DATA_PATH=/home/dudavid/arts/arts-xml/ \n",
    "\n",
    "%matplotlib inline\n",
    "#from h5py import File\n",
    "\n",
    "from typhon.arts.workspace import Workspace, arts_agenda\n",
    "ws = Workspace(verbosity=0)\n",
    "ws.execute_controlfile(\"general/general.arts\")\n",
    "ws.execute_controlfile(\"general/continua.arts\")\n",
    "ws.execute_controlfile(\"general/agendas.arts\")\n",
    "ws.execute_controlfile(\"general/planet_earth.arts\")\n",
    "\n",
    "from typhon.arts.workspace.variables import *\n",
    "\n",
    "ws.Copy( ws.abs_xsec_agenda, ws.abs_xsec_agenda__noCIA )\n",
    "ws.Copy( ws.iy_main_agenda, ws.iy_main_agenda__Emission )\n",
    "ws.Copy( ws.iy_space_agenda, ws.iy_space_agenda__CosmicBackground )\n",
    "ws.Copy( ws.propmat_clearsky_agenda, ws.propmat_clearsky_agenda__OnTheFly )\n",
    "ws.Copy( ws.ppath_agenda, ws.ppath_agenda__FollowSensorLosPath )\n",
    "ws.Copy( ws.ppath_step_agenda, ws.ppath_step_agenda__GeometricPath )\n",
    "@arts_agenda\n",
    "def geo_pos_agendaPY(ws):\n",
    "    ws.geo_posEndOfPpath()\n",
    "ws.Copy( ws.geo_pos_agenda, geo_pos_agendaPY)  ## new one, set by patrick in his cfile\n",
    "\n",
    "# define absorbing species and sensor (here using metmm library, used again below)\n",
    "ws.abs_speciesSet(species=[\"H2O-PWR98\",\"O2-PWR93\",\"N2-SelfContStandardType\"])#,\"liquidcloud-ELL07\"])\n",
    "ws.abs_lines_per_speciesSetEmpty()\n",
    "\n",
    "ws.stokes_dim = npol # to get V and H pol set to 2\n",
    "ws.iy_unit = \"PlanckBT\" # equivalent: ws.StringSet( iy_unit, \"PlanckBT\" )"
   ]
  },
  {
   "cell_type": "code",
   "execution_count": 4,
   "metadata": {
    "lines_to_next_cell": 2,
    "scrolled": true
   },
   "outputs": [
    {
     "name": "stdout",
     "output_type": "stream",
     "text": [
      "grid resolution is  0.12 0.13333333333333333\n"
     ]
    }
   ],
   "source": [
    "# Define lat/lon grid that observation points and angular grid lie within\n",
    "lat0     = 0.0  # center of grid in lat, lon\n",
    "lon0     = 4.0\n",
    "nlat, nlon = 50, 30    # number of lat and lon divisions\n",
    "latwid, lonwid = 3.0, 2  # just asssume square for now, widths double these\n",
    "resa = 2*latwid/nlat\n",
    "reso = 2*lonwid/nlon \n",
    "print('grid resolution is ',resa,reso)\n",
    " \n",
    "#lat_grid = lat0 + np.linspace(-latwid,latwid,nlat) # [-3:0.25:3]\n",
    "lat_grid = lat0 + np.arange(-latwid,latwid+resa,resa)\n",
    "lon_grid = lon0 + np.arange(-lonwid,lonwid+reso,reso)\n",
    "# keep these (non-ws vars) for sake of plotting at the end!\n",
    " \n",
    "ws.lat_grid = lat_grid[0:nlat]+np.diff(lat_grid)*.5 # to avoid mismatch between ARTS and pcolormesh\n",
    "ws.lon_grid = lon_grid[0:nlon]+np.diff(lon_grid)*.5 #  i.e. getting lat/lon midpoints of boxes\n",
    "#print(lon_grid)\n",
    "#print(ws.lon_grid.value)\n",
    "#print('corners of lat_grid: ',lat_grid)\n",
    "#print('midpoints of lat_grid (ARTS ws grid): ',lat_grid[0:nlat]+np.diff(lat_grid)*.5)"
   ]
  },
  {
   "cell_type": "code",
   "execution_count": 5,
   "metadata": {
    "collapsed": true
   },
   "outputs": [],
   "source": [
    "# set up atmosphere and surface variables:\n",
    "ws.atmosphere_dim = 3  # 3D atmosphere\n",
    "p = np.array([1015.,950.,800.])*100.0 #keep it simple, otherwise slower fwd model -- IGNORES LOTS OF WV!!!\n",
    "#p = np.array([1015.,975.,950.,925.,900.,850.,800.,750.,700.,650.,600.,550.,500.,400.,300.,200.,100.])*100.0\n",
    "ws.p_grid = p[:] \n",
    "ws.AtmRawRead( basename = \"planets/Earth/Fascod/tropical/tropical\") #tropical atmosphere assumed\n",
    "ws.AtmosphereSet3D()\n",
    "ws.AtmFieldsCalcExpand1D()  # set to given p_grid or z_grid\n",
    "\n",
    "#ws.vmr_field.value[:,:,:,:] *= 0.00 # try decreasing water vapor by X\n",
    "\n",
    "# if using coarse atmosphere but wanting accurate ray tracing:\n",
    "ws.ppath_lmax = 250.0  # set maximum distance between points when computing absorption along path"
   ]
  },
  {
   "cell_type": "code",
   "execution_count": 6,
   "metadata": {
    "lines_to_next_cell": 2,
    "scrolled": false
   },
   "outputs": [
    {
     "data": {
      "image/png": "[encoded data removed]",
      "text/plain": [
       "<Figure size 432x288 with 2 Axes>"
      ]
     },
     "metadata": {},
     "output_type": "display_data"
    },
    {
     "data": {
      "image/png": "[encoded data removed]",
      "text/plain": [
       "<Figure size 432x288 with 2 Axes>"
      ]
     },
     "metadata": {},
     "output_type": "display_data"
    }
   ],
   "source": [
    "# Surface properties -- define ocean surface for simulations\n",
    "\n",
    "nala, nalo = np.size(ws.lat_grid.value), np.size(ws.lon_grid.value) # size of ARTS lat/lon grid\n",
    "s_names = [\"Water skin temperature\",\"Wind speed\",\"Wind direction\",\"Salinity\"]\n",
    "s_data = np.zeros([len(s_names), nala, nalo])\n",
    "\n",
    "tmean                   = 280.0 # sst mean\n",
    "wsp                     = 2.3   # 10m wind speed\n",
    "s_data[0,:,:] = tmean\n",
    "#s_data[0,int(nlat/2)-1:int(nlat/2)+2,int(nlon/2)-1:int(nlon/2)+2] += 6\n",
    "#s_data[0,:,::8] += 0.9  ## czechers\n",
    "s_data[0,int(nlat/2)-2:int(nlat/2)+3,int(nlon/2)-2:int(nlon/2)+3] += 5.0\n",
    "s_data[0,1::4,::2] += 2.9  ## czechers\n",
    "s_data[0,::2,1::3] += 1.9\n",
    "s_data[0,::2,2::3] += 0.9\n",
    "#s_data[0,:,:] += np.tile(np.arange(0,nala),[nalo,1])\n",
    "#s_data[0,18:21,18:21] = tmean +6.5 # some preturbation\n",
    "#s_data[0,int(nlat/2),int(nlon/2)] = tmean +9.5 # some preturbation\n",
    "s_data[1,:,:] = wsp\n",
    "s_data[1,:,:] += 0.1 * np.tile(np.arange(0,nala),[nalo,1]).transpose() \n",
    "s_data[2,:,:] = 90 # token wind direction value\n",
    "s_data[3,:,:] = 0.034 # token salinity value\n",
    "\n",
    "# write these to ARTS variables \n",
    "ws.Copy(ws.surface_props_names, s_names)\n",
    "ws.Copy(ws.surface_props_data, s_data)\n",
    "ws.MatrixSetConstant(ws.z_surface, nala, nalo, 0.0) # explicitly set the surface to 0m altitude\n",
    "\n",
    "plt.imshow(s_data[0,:,:]) # quick look for SST\n",
    "plt.colorbar()\n",
    "plt.show()\n",
    "plt.imshow(s_data[1,:,:])\n",
    "plt.colorbar()\n",
    "plt.show()"
   ]
  },
  {
   "cell_type": "code",
   "execution_count": 7,
   "metadata": {
    "lines_to_next_cell": 2
   },
   "outputs": [
    {
     "name": "stdout",
     "output_type": "stream",
     "text": [
      "0.624 0.09125269978401726\n"
     ]
    }
   ],
   "source": [
    "# Set and calculate some basic variables for antenna and scanning\n",
    "### all will be replaced or superseded when moving to using L1R data as input\n",
    " \n",
    "zsat   = 699.7e3      # Satellite altitde [m] -- can read this in later\n",
    "vsat   = 6.76e3       # Satellite velocity [m/s]\n",
    "dt     = 2.6e-3       # Integration time [s] -- 2.6ms for low freqs, 1.3ms for 89GHz\n",
    "rpm    = 40           # Rotations per minute -- same for AMSR-E and AMSR2\n",
    " \n",
    "# find nautical mile constant?  1852m = 1nmi\n",
    "m2deg  = 1/(60*1852) #constants('NAUTICAL_MILE'))    # Conversion from m to latitude\n",
    "dang   = dt * 360 * rpm / 60                  # Angular distance between samples\n",
    "dlat   = m2deg * vsat * 60 / rpm              # Latitude distance between scans\n",
    "print(dang,dlat)"
   ]
  },
  {
   "cell_type": "markdown",
   "metadata": {},
   "source": [
    "# Define antenna pattern"
   ]
  },
  {
   "cell_type": "code",
   "execution_count": 8,
   "metadata": {
    "scrolled": true
   },
   "outputs": [
    {
     "name": "stdout",
     "output_type": "stream",
     "text": [
      "angular resolution of response grid [deg]:  0.01\n",
      "['6V' '6H' '7V' '7H' '10V' '10H']\n",
      "size of antenna_reponse grid:  (1, 3, 361, 361)\n",
      "f_grid:  [6.925e+09 7.300e+09 1.065e+10]\n"
     ]
    }
   ],
   "source": [
    "\n",
    "width  = 1.8           # Max half-width of antenna (if HPBW is 1.8deg, width=2 covers 2x the HPBW)\n",
    "resol  = 0.01          # angular resolution (same in zenith/azimuth for now)\n",
    "# for a given angular resolution (might vary), width=2 yields 99.96% of total power @6GHz \n",
    "#   compared to width=20 and 99.99999% @10GHz, width=1.5 yields 99.0 and 99.994.\n",
    "#resol, width = dang/(angfac*5), awidth # set here instead of calling func\n",
    "print('angular resolution of response grid [deg]: ',resol)\n",
    "\n",
    "adata = [[ 6.925e9 ,  1.80],   # AMSR2 center frequency and beamwidth (deg)\n",
    "         [ 7.300e9 ,  1.80],   # assumed the same for V/H polarizations\n",
    "         [ 10.65e9 ,  1.20],\n",
    "         [ 18.70e9 ,  0.65],\n",
    "         [ 23.80e9 ,  0.75],\n",
    "         [ 36.50e9 ,  0.35],\n",
    "         [ 89.00e9 ,  0.15]] \n",
    "#adata = [[ 6.600e9 ,  1.8],   # AMSR2 center frequency and beamwidth (deg)\n",
    "#         [ 7.300e9 ,  1.8],   # assumed the same for V/H polarizations\n",
    "#         [ 11.00e9 ,  1.2]] #,  ## changed to be greater than f_grid defined in metmm\n",
    "\n",
    "adata = np.array(adata, order=\"C\").transpose()[:,fsub] # choose selected frequencies (set above)\n",
    "\n",
    "# define zenith, azimuth grid on the ground (relative to bore sight) -- assumed to be square, 2xWidth wide\n",
    "x  = np.arange( -width, width+resol, resol )  #this gives angular antenna response points in za,aa\n",
    "x2 = x**2   # since assumed origin is 0, do squaring here \n",
    "nf, nx = len(adata[0,:]), np.size(x)\n",
    "\n",
    "csub = np.sort(np.append(fsub*2,fsub*2+1))\n",
    "ch_str = np.array(['6V','6H','7V','7H','10V','10H','18V','18H',\n",
    "                   '23V','23H','36V','36H','89V','89H'])[csub] # just chosen freqs\n",
    "print(ch_str)\n",
    "\n",
    "from typhon.arts.griddedfield import GriddedField4\n",
    "gf4 = GriddedField4()\n",
    "gf4.name = 'AMSR2 antenna response'\n",
    "gf4.gridnames =  [ 'Polarisation', 'Frequency', 'Zenith angle', 'Azimuth angle' ]\n",
    "###  note: za & aa are equally spaced, and we're treating V/H as having identical responses\n",
    "if npol==2: gsp=\"1\" \n",
    "else: gsp=\"0\"\n",
    "gf4.grids = [ [gsp], adata[0,:], x, x ]\n",
    "gf4.dataname  = 'Response'\n",
    "gf4.data      = np.zeros([ 1, nf, nx, nx ], order=\"C\")\n",
    "print('size of antenna_reponse grid: ',gf4.data.shape)\n",
    "\n",
    "#blah = [4589.014643600229,\n",
    "#4589.014643600229,\n",
    "#2039.5620638223247]\n",
    "for i in range(nf):\n",
    "    si = adata[1,i] / (2*np.sqrt(2*np.log(2)))  # calculate standard deviation first, based on HPBW\n",
    "    gf4.data[0,i,:,:] = np.exp( - np.tile(x2,[nx,1])/si**2 - np.tile(x2,[nx,1]).transpose()/ si**2 )\n",
    "    #gf4.data[0,i,:,:] = np.exp( - (np.tile(x2,[nx,1]) + np.tile(x2,[nx,1]).transpose())/ si**2 ) # equivalent\n",
    "    #print(np.sum(gf4.data[0,i,:,:])/blah[i])\n",
    "\n",
    "\n",
    "# frequency grid of simulation is defined according to sensor setup above (may change with use of metmm)\n",
    "f_grid = np.copy(gf4.grids[1])  # array with each frequency (not channel)\n",
    "\n",
    "ws.f_grid.value = f_grid\n",
    "print('f_grid: ',ws.f_grid.value)\n",
    " "
   ]
  },
  {
   "cell_type": "code",
   "execution_count": 9,
   "metadata": {
    "collapsed": true
   },
   "outputs": [],
   "source": [
    "\n",
    "#plt.figure(figsize=[9,9])\n",
    "#plt.pcolormesh(gf4.data[0,0,:,:])\n",
    "#plt.colorbar()\n",
    "#plt.show()"
   ]
  },
  {
   "cell_type": "markdown",
   "metadata": {},
   "source": [
    "# Define bore sights for one scan, angular grid for fwd model"
   ]
  },
  {
   "cell_type": "code",
   "execution_count": 10,
   "metadata": {
    "lines_to_next_cell": 2
   },
   "outputs": [
    {
     "name": "stdout",
     "output_type": "stream",
     "text": [
      "bsights: [-6.24  -5.616 -4.992 -4.368 -3.744 -3.12  -2.496 -1.872 -1.248 -0.624\n",
      "  0.     0.624  1.248  1.872  2.496  3.12   3.744  4.368  4.992  5.616\n",
      "  6.24 ]\n"
     ]
    }
   ],
   "source": [
    "# Determine bore-sight angles to use for one scan \n",
    " \n",
    "# psteps defines the pixels across one scan\n",
    "psteps   = np.arange(-(npix-1)/2, (npix-1)/2 +1, 1)  #  if npix is odd then middle boresight is in the middle\n",
    "# ssteps defines position of spacecraft for each scan, evenly distributed around a middle scan\n",
    "ssteps   = np.arange(-(nscans-1)/2, (nscans-1)/2 +1, 1) \n",
    "#print('pixel steps',psteps)\n",
    "\n",
    "#  center line of sight... defined as AMSR2 EIA and 0 azimuth angle\n",
    "#los0    = [ 180-47.5, 0 ]  # 47.5 is off-nadir angle of AMSR2\n",
    "los0    = [ 180-52.5, 0 ]  # 47.5 is off-nadir angle of AMSR2\n",
    "\n",
    "# bsights defines the bore sight zenith and azimuth angles across the scan \n",
    "##-- just for one scan, assumed to be same for each scan?\n",
    "bsights = np.array([ np.repeat(los0[0],npix), los0[1]+dang*psteps ]).transpose()  # size: [npix,2]\n",
    "print('bsights:',(bsights[:,1]))"
   ]
  },
  {
   "cell_type": "code",
   "execution_count": 11,
   "metadata": {
    "lines_to_next_cell": 2,
    "scrolled": true
   },
   "outputs": [
    {
     "name": "stdout",
     "output_type": "stream",
     "text": [
      "3.0\n",
      "zenith grid:  [126.  126.5 127.  127.5 128.  128.5 129. ]\n",
      "25.0\n",
      "azimuth grid:  [-7.8   -7.488 -7.176 -6.864 -6.552 -6.24  -5.928 -5.616 -5.304 -4.992\n",
      " -4.68  -4.368 -4.056 -3.744 -3.432 -3.12  -2.808 -2.496 -2.184 -1.872\n",
      " -1.56  -1.248 -0.936 -0.624 -0.312  0.     0.312  0.624  0.936  1.248\n",
      "  1.56   1.872  2.184  2.496  2.808  3.12   3.432  3.744  4.056  4.368\n",
      "  4.68   4.992  5.304  5.616  5.928  6.24   6.552  6.864  7.176  7.488\n",
      "  7.8  ]\n"
     ]
    }
   ],
   "source": [
    "# Define angular grid for pencilbeam calculations\n",
    "\n",
    "# can use 'dang' or not, but benefit of using it is having RT calc at each boresight\n",
    "#  in azimuth direction. if using 'dang' for zenith too then it's an evenly spaced angular grid.\n",
    "\n",
    "n = np.floor( width * angfac )  # angular width * angular samples per deg\n",
    "print(n)\n",
    "za_grid = np.array( los0[0] +  np.arange(-n,n+1)/angfac)  ## effectively taking 'width' on either side of 0\n",
    "#n = np.floor( angfac * width / dang )  # number per degree * angular width / distance between boresights\n",
    "#za_grid = np.array( los0[0] + (dang/angfac) * np.arange(-n,n+1))  # zenith angle grid\n",
    "print('zenith grid: ',za_grid) \n",
    "\n",
    "en = np.floor( angfac * ( bsights[-1,1] + width ) / dang ) # azimuth of boresight at edge +width\n",
    "print(en)\n",
    "aa_grid = np.array( los0[1] + (dang/angfac) * np.arange(-en,en+1))  # azimuth angle grid\n",
    "#en = np.floor((bsights[-1,1]+width)*angfac) ## yields az from boresight at edge plus 'width' (could prob do width/2)\n",
    "#aa_grid = np.array( los0[1] + np.arange(-en,en+1/angfac)/angfac)  # azimuth angle grid\n",
    "print('azimuth grid: ',aa_grid) \n"
   ]
  },
  {
   "cell_type": "code",
   "execution_count": 12,
   "metadata": {},
   "outputs": [
    {
     "name": "stdout",
     "output_type": "stream",
     "text": [
      "[[ 6.9970000e+05 -9.8212743e+00  4.0000000e+00]\n",
      " [ 6.9970000e+05 -9.7300216e+00  4.0000000e+00]\n",
      " [ 6.9970000e+05 -9.6387689e+00  4.0000000e+00]\n",
      " [ 6.9970000e+05 -9.5475162e+00  4.0000000e+00]\n",
      " [ 6.9970000e+05 -9.4562635e+00  4.0000000e+00]\n",
      " [ 6.9970000e+05 -9.3650108e+00  4.0000000e+00]\n",
      " [ 6.9970000e+05 -9.2737581e+00  4.0000000e+00]\n",
      " [ 6.9970000e+05 -9.1825054e+00  4.0000000e+00]\n",
      " [ 6.9970000e+05 -9.0912527e+00  4.0000000e+00]\n",
      " [ 6.9970000e+05 -9.0000000e+00  4.0000000e+00]\n",
      " [ 6.9970000e+05 -8.9087473e+00  4.0000000e+00]\n",
      " [ 6.9970000e+05 -8.8174946e+00  4.0000000e+00]\n",
      " [ 6.9970000e+05 -8.7262419e+00  4.0000000e+00]\n",
      " [ 6.9970000e+05 -8.6349892e+00  4.0000000e+00]\n",
      " [ 6.9970000e+05 -8.5437365e+00  4.0000000e+00]\n",
      " [ 6.9970000e+05 -8.4524838e+00  4.0000000e+00]\n",
      " [ 6.9970000e+05 -8.3612311e+00  4.0000000e+00]\n",
      " [ 6.9970000e+05 -8.2699784e+00  4.0000000e+00]\n",
      " [ 6.9970000e+05 -8.1787257e+00  4.0000000e+00]]\n",
      "(19, 3)\n"
     ]
    }
   ],
   "source": [
    "# Set sensor_pos, sensor_los\n",
    "\n",
    "ws.sensor_los = np.tile(los0, [nscans,1])  # sensor line of sight for each scan\n",
    "\n",
    "shift   = 9.0  #7.5   # Latitude shift to centre calculations around lat0\n",
    "\n",
    "#### sensor_pos should be columns of altitude, SClat, SClon  ###  \n",
    "####   so take all this from L1R files and transform X/Y/Z to lat/lon\n",
    "# currently one alt/sclat/sclon for each scan (i.e. each of nscans)\n",
    "ws.sensor_pos = np.hstack([np.repeat(zsat, nscans).reshape(nscans,1),\n",
    "                          np.array(lat0 - shift + dlat * ssteps).reshape(nscans,1), \n",
    "                          np.repeat(lon0, nscans).reshape(nscans,1)])\n",
    "\n",
    "print(ws.sensor_pos.value)\n",
    "#print(np.transpose(ws.sensor_pos.value))\n",
    "print(np.shape(ws.sensor_pos.value))\n"
   ]
  },
  {
   "cell_type": "code",
   "execution_count": 13,
   "metadata": {
    "collapsed": true
   },
   "outputs": [],
   "source": [
    "# other controlfile things done in common.arts\n",
    "ws.jacobianOff()\n",
    "ws.cloudboxOff()"
   ]
  },
  {
   "cell_type": "markdown",
   "metadata": {},
   "source": [
    "# set the surface agenda for ARTS"
   ]
  },
  {
   "cell_type": "code",
   "execution_count": 14,
   "metadata": {
    "collapsed": true
   },
   "outputs": [],
   "source": [
    "# define surface agenda:\n",
    "varnam = [\"Optical depth\"]\n",
    "ws.Copy(ws.iy_aux_vars, varnam)\n",
    "ws.VectorCreate( \"transmittance\" )\n",
    "#ws.transmittance = np.ones( ws.f_grid.value.shape ) * 0.0  #  FOR TESTING ONLY!!!!!\n",
    "@arts_agenda\n",
    "def iy_surface_agendaPY(ws):\n",
    "    ws.specular_losCalc()\n",
    "    # if wanting to test transmittance values, comment out next 3 calls and set outside agenda\n",
    "    # if ppathCalc is called and uses assumed inputs, problems! so specify all!\n",
    "    ws.ppathCalc(ws.ppath_agenda, ws.ppath_lmax, \n",
    "       ws.ppath_lraytrace, ws.atmgeom_checked, ws.t_field, ws.z_field, \n",
    "       ws.vmr_field, ws.f_grid, ws.cloudbox_on, ws.cloudbox_checked, \n",
    "       ws.ppath_inside_cloudbox_do, ws.rtp_pos, ws.specular_los, ws.rte_pos2 )\n",
    "    ws.iyEmissionStandard()\n",
    "    ws.transmittanceFromIy_aux(transmittance=ws.transmittance)\n",
    "    ws.SurfaceFastem( transmittance = ws.transmittance, fastem_version=6 ) \n",
    "    ws.iySurfaceRtpropCalc()\n",
    "    \n",
    "ws.Copy(ws.iy_surface_agenda, iy_surface_agendaPY) # copy python-defined agenda to ARTS"
   ]
  },
  {
   "cell_type": "markdown",
   "metadata": {},
   "source": [
    "# Perform checks and set up mblock grid"
   ]
  },
  {
   "cell_type": "code",
   "execution_count": 15,
   "metadata": {
    "collapsed": true
   },
   "outputs": [],
   "source": [
    "# perform some checks:\n",
    "ws.abs_xsec_agenda_checkedCalc()\n",
    "ws.propmat_clearsky_agenda_checkedCalc()\n",
    "ws.atmfields_checkedCalc( bad_partition_functions_ok = 1 )\n",
    "ws.atmgeom_checkedCalc()\n",
    "ws.cloudbox_checkedCalc()"
   ]
  },
  {
   "cell_type": "code",
   "execution_count": 16,
   "metadata": {
    "scrolled": false
   },
   "outputs": [
    {
     "name": "stdout",
     "output_type": "stream",
     "text": [
      "[127.5   0. ]\n",
      "(357, 2)\n",
      "(357, 2)\n",
      "[0.25164369 0.25171168 0.25177691 0.25183938 0.25189907 0.25195597\n",
      " 0.25201008 0.25206139 0.25210989]\n",
      "['-1.50E+0', '1.75E+0', '8.88E-2', '1.00E+0'] ['-6.31E+0', '6.31E+0', '0.00E+2', '3.64E+0']\n"
     ]
    }
   ],
   "source": [
    "# create vector mblock_reference_los and matrix mblock_target_los (to be used by DiffZaAa)\n",
    "mblock_reference_los = np.array(los0)\n",
    "print(mblock_reference_los)\n",
    "\n",
    "# want to have all individual angle pairs distinct... so repeat one serially and one n times\n",
    "mblock_target_los = np.array(np.transpose( np.stack( [ np.repeat(za_grid, aa_grid.size) , \n",
    "                                           np.tile(  aa_grid, za_grid.size) ]) ) , order = \"C\")\n",
    "## need to specify 'C' order or else stride is wrong and array values are read wrong by ARTS\n",
    "\n",
    "print(mblock_target_los.shape)\n",
    "\n",
    "\n",
    "ws.DiffZaAa(ws.mblock_dlos_grid, mblock_reference_los, mblock_target_los)\n",
    "\n",
    "print(np.shape(ws.mblock_dlos_grid.value))\n",
    "print(np.diff(ws.mblock_dlos_grid.value[0:10,1]))\n",
    "print(info(ws.mblock_dlos_grid.value[:,0]),info(ws.mblock_dlos_grid.value[:,1]))"
   ]
  },
  {
   "cell_type": "code",
   "execution_count": 17,
   "metadata": {
    "collapsed": true,
    "scrolled": false
   },
   "outputs": [],
   "source": [
    "### Calculate the sensor response function from the antenna response\n",
    "ws.VectorCreate(\"antenna_reference_los\")\n",
    "ws.MatrixCreate(\"antenna_target_los\")\n",
    "ws.antenna_reference_los = np.array(los0)\n",
    "ws.antenna_target_los = np.array(bsights, order=\"C\")\n",
    "ws.DiffZaAa(ws.antenna_dlos, ws.antenna_reference_los, ws.antenna_target_los)\n",
    "\n",
    "# define sensor... done above, but apply gf4 typhon/arts object to antenna_response:\n",
    "ws.sensor_norm = 1\n",
    "ws.antenna_dim = 2\n",
    "ws.antenna_response = gf4 \n",
    "\n",
    "ws.sensor_responseInit()\n",
    "\n",
    "##### don't know why this call (should be within metmm?) has to be done outside...\n",
    "## flipping from I/Q to V/H here... \n",
    "ws.instrument_pol = [5,6] # indices for V,H (1,2 are I,Q)\n",
    "\n",
    "ws.sensor_responsePolarisation()\n",
    "ws.sensor_responseAntenna()\n",
    "ws.sensor_checkedCalc()\n",
    "\n",
    "\n",
    "# should this get called? not yet -- will give bsights from designated positions, draw a line \n",
    "#ws.sensor_losGeometricFromSensorPosToOtherPositions(ws.target_pos=np.array([]))"
   ]
  },
  {
   "cell_type": "markdown",
   "metadata": {},
   "source": [
    "# Initiate the retrieval setup"
   ]
  },
  {
   "cell_type": "code",
   "execution_count": 18,
   "metadata": {
    "scrolled": true
   },
   "outputs": [
    {
     "name": "stdout",
     "output_type": "stream",
     "text": [
      "retrieval grid resolution:  0.36 0.4\n",
      "retrieval lon grid:  [3.2 3.6 4.  4.4 4.8]\n",
      "retrieval lat grid:  [-0.9  -0.54 -0.18  0.18  0.54  0.9   1.26]\n",
      "5 7\n",
      "(5, 7) (5, 7)\n"
     ]
    }
   ],
   "source": [
    "# first, set up the retrieval grid, which is independent from fwd model and can be\n",
    "#  independent from the background (lat/lon) grid\n",
    "\n",
    "utx, uty = 0.8, 0.9 # radially out from center\n",
    "r_lims = [lat0-uty, lat0+uty, lon0-utx, lon0+utx] # lat/lon limits  (box in middle of overall box)\n",
    "r_resa  = resa*3.0 # setting to multiple of lat/lon grid resolution -- not exact same points as lat/lon grid \n",
    "r_reso  = reso*3.0 # setting to multiple of lat/lon grid resolution -- not exact same points as lat/lon grid \n",
    "print('retrieval grid resolution: ', r_resa, r_reso)\n",
    "r_lon  = np.arange(r_lims[2], r_lims[3]+r_reso, r_reso)\n",
    "r_lat  = np.arange(r_lims[0], r_lims[1]+r_resa, r_resa)\n",
    "\n",
    "print('retrieval lon grid: ', r_lon)\n",
    "print('retrieval lat grid: ', r_lat)\n",
    "print(r_lon.size,r_lat.size)\n",
    "#print(np.shape(initial_tb))\n",
    "\n",
    "# create grids of retrieval lats/lons for calculations of distance and plotting below\n",
    "rx, ry = np.meshgrid(r_lon, r_lat, indexing='ij')\n",
    "print(rx.shape,ry.shape)\n",
    "#print(rx[0:2,:])"
   ]
  },
  {
   "cell_type": "code",
   "execution_count": 19,
   "metadata": {},
   "outputs": [
    {
     "name": "stdout",
     "output_type": "stream",
     "text": [
      "(5, 7, 1)\n",
      "(2394, 2394)\n",
      "['0.00E+2', '2.69E+0', '1.16E+0', '5.68E-1', (35, 35)]\n",
      "['2.78E-2', '1.00E+0', '2.77E-1', '2.06E-1', (35, 35)]\n"
     ]
    },
    {
     "data": {
      "image/png": "[encoded data removed]",
      "text/plain": [
       "<Figure size 432x288 with 2 Axes>"
      ]
     },
     "metadata": {},
     "output_type": "display_data"
    }
   ],
   "source": [
    "# set the a priori state and an initial 'measurement' vector by running yCalc first\n",
    "\n",
    "# set Xa (formally set in ARTS below)\n",
    "xa = np.zeros([r_lon.size, r_lat.size, nrvar]) # a priori matrix, should be similar to s_data\n",
    "print(xa.shape)\n",
    "xa[:,:,0] = tmean #+ 0.07  # set constant, or maybe some perturbation\n",
    "#s_data[0,:,:]  # or set to copy(ws.surface_props_data[0,:,:])\n",
    "#xa[1,:,:] = s_data[1,:,:]  # if adding wind speed\n",
    "\n",
    "\n",
    "# then observation errors (first just sensor noise)\n",
    "se_cov = np.diag(np.tile(nedt**2, npix*nscans*nf*2))  # if nedt constant for all chans\n",
    "se_cov = np.diag(np.tile(np.repeat(nedt**2,2), npix*nscans ))  # if nedt constant for all chans\n",
    "print(se_cov.shape) # square matrix of side length npix*nscans*nf*2\n",
    "\n",
    "# define decorrelation length for a priori correlations, use distance-dependent correlations in sx_cov\n",
    "#deco = 0.05     # in degrees for now\n",
    "# if doing more than just sst, can calculate separately with another decorr length then use covmat_sxAddBlock\n",
    "from scipy.spatial.distance import pdist      # calculate pair-wise distances (euclidean)\n",
    "from scipy.spatial.distance import squareform # convert from reduced matrix to square\n",
    "dists = squareform( pdist( np.array([ry.flatten(), rx.flatten()]).transpose() ))\n",
    "corrs = np.exp(-dists/deco)\n",
    "#plt.figure(figsize=[14,14])\n",
    "#plt.imshow(corrs)\n",
    "#plt.colorbar()\n",
    "#plt.show()\n",
    "\n",
    "print(shinfo(dists))\n",
    "print(shinfo(corrs))\n",
    "\n",
    "# then a priori state errors\n",
    "sx_cov = np.diag(np.tile(sx_sst**2, r_lon.size*r_lat.size)) #creates diagonal matrix with sigma=sx_sst for all\n",
    "for n in range(sx_cov[0,:].size):\n",
    "    sx_cov[n,:] = sx_cov[n,n] * corrs[n,:]\n",
    "\n",
    "plt.imshow(sx_cov)\n",
    "plt.colorbar()\n",
    "plt.show()"
   ]
  },
  {
   "cell_type": "code",
   "execution_count": 20,
   "metadata": {
    "collapsed": true
   },
   "outputs": [],
   "source": [
    "ws.retrievalDefInit()  # initialize jacobian quantities, then add variables\n",
    "\n",
    "#sx_cov = np.zeros([r_lon.size, r_lat.size], order=\"C\").flatten()  # make into 1d for ARTS\n",
    "#sx_cov = np.zeros([nrvar, r_lon.size, r_lat.size]).flatten()  # make into 1d for ARTS\n",
    "#sx_cov = np.diag(nrvar*r_lon.size*r_lat.size) # CHANGE TO MATCH SIZE OF Xa!!\n",
    "\n",
    "# kernel used to die here because of atm dimension check in add_block (or something)\n",
    "ws.retrievalAddSurfaceQuantity( g1=r_lat, g2=r_lon, quantity=s_names[0])\n",
    "ws.covmat_sxSet(sx_cov)\n",
    "#ws.covmat_sxAddBlock(block = sx_cov ) #[:1, :1])\n",
    "#  duplicate for other retrieved surface variables\n",
    "\n",
    "\n",
    "ws.Copy(ws.xa, xa.flatten())  # copy python xa to arts xa\n",
    "# print Xa to terminal:\n",
    "#ws.Print(ws.xa, 0) # Print Xa\n",
    "\n",
    "ws.covmat_seSet(se_cov)\n",
    "\n",
    "ws.retrievalDefClose()\n",
    "\n"
   ]
  },
  {
   "cell_type": "code",
   "execution_count": 21,
   "metadata": {},
   "outputs": [
    {
     "name": "stdout",
     "output_type": "stream",
     "text": [
      "(2394,)\n"
     ]
    }
   ],
   "source": [
    "# after performing all the checks, run yCalc:\n",
    "\n",
    "ws.yCalc()  # calculate synthetic observation vector\n",
    "#print(ws.y.value)\n",
    "initial_tb = np.copy(ws.y.value)  \n",
    "print(np.shape(initial_tb))\n"
   ]
  },
  {
   "cell_type": "code",
   "execution_count": 22,
   "metadata": {
    "collapsed": true
   },
   "outputs": [],
   "source": [
    "# define the iteration agenda for ARTS\n",
    "\n",
    "@arts_agenda\n",
    "def inversion_iterate_agenda(ws):\n",
    "    ws.Ignore(ws.inversion_iteration_counter) # on simon's advice\n",
    "    ws.x2artsAtmAndSurf()  # map x to ARTS's variables\n",
    "    \n",
    "    ws.yCalc() \n",
    "\n",
    "    ws.Copy(ws.y_baseline, np.zeros([initial_tb.size])) # kinda silly but necessary?\n",
    "    ws.VectorAddVector( ws.yf, ws.y, ws.y_baseline )  # add baseline term (need to create ws.yf)\n",
    "    \n",
    "    ws.jacobianAdjustAndTransform()\n",
    "    # last line takes care of some fixes needed to get the jacobian right for iterative solutions\n",
    "\n",
    "ws.Copy(ws.inversion_iterate_agenda, inversion_iterate_agenda)"
   ]
  },
  {
   "cell_type": "code",
   "execution_count": null,
   "metadata": {},
   "outputs": [
    {
     "name": "stdout",
     "output_type": "stream",
     "text": [
      "last gasp\n"
     ]
    }
   ],
   "source": [
    "# before calling OEM, modify (synthetic) observation vector by adding noise and/or bias offsets:\n",
    "\n",
    "# add random gaussian noise to y -- mean, std, # of random samples\n",
    "for c in range(nf):   #for chan-specific sensor noise -- assumes V/H-pol have same noise \n",
    "    initial_tb[2*c::nf*2]   += np.random.normal(0, nedt[c], initial_tb[::nf*2].size)   \n",
    "    initial_tb[2*c+1::nf*2] += np.random.normal(0, nedt[c], initial_tb[::nf*2].size)   \n",
    "#initial_tb[:] += np.random.normal(-0.9, nedt*0, initial_tb.size)  # noise + bias!\n",
    "ws.Copy(ws.y, initial_tb)  # copy to the ARTS y vector prior to running OEM\n",
    "\n",
    "if np.diagonal(se_cov).size != initial_tb.size:\n",
    "    print('Se covariance matrix and Tb vector not same size!')\n",
    "    aaaaandstop\n",
    "\n",
    "print('last gasp')"
   ]
  },
  {
   "cell_type": "code",
   "execution_count": null,
   "metadata": {
    "scrolled": false
   },
   "outputs": [],
   "source": [
    "# Call OEM:\n",
    "ws.OEM(method=\"gn\", #lm\",\"gn\"\n",
    "    max_iter=12,\n",
    "    display_progress=1,\n",
    "    max_start_cost=1e5,\n",
    "    lm_ga_settings=np.array([10.0,2.0,3.0,10000000000.0,1.0,1.0])) # only applicable for method='lm'\n",
    "\n",
    "print(ws.oem_errors.value)  # check for errors -- empty set [] if none\n",
    "\n",
    "# calculate averaging kernel (A matrix) and a posteriori \n",
    "ws.avkCalc()\n",
    "Amat = ws.avk.value\n",
    "# A matrix should be [x,x] where x is each retrieved var. Trace(A) yields DOF for signal.\n",
    "print('Trace of A Matrix: ', np.trace(Amat))\n",
    "print('(out of possible points and vars:',np.diagonal(Amat).size)\n",
    "print(np.diagonal(Amat))\n",
    "ws.covmat_soCalc()\n",
    "post = ws.covmat_so.value    \n",
    "print(info(post))\n",
    "# should be [x,x], providing uncertainties of each retrieved var, where x=npix*nscans*nretvar"
   ]
  },
  {
   "cell_type": "code",
   "execution_count": null,
   "metadata": {
    "scrolled": true
   },
   "outputs": [],
   "source": [
    "# yf is y_fit whereas y itself is the measurement vector here, so obs-sim is y-yf:\n",
    "ydif = np.copy( ws.y.value - ws.yf.value )\n",
    "ysim = np.copy( ws.yf.value)\n",
    "\n",
    "if nrvar==1:\n",
    "    #xretr = np.copy( ws.x.value ).reshape(r_lat.size, r_lon.size)  # are these right in lat vs. lon reconstruction?\n",
    "    #Amat_re = np.copy( np.diagonal(Amat) ).reshape(r_lat.size, r_lon.size)\n",
    "    xretr = np.copy( ws.x.value ).reshape(r_lon.size, r_lat.size)  # are these right in lat vs. lon reconstruction?\n",
    "    Amat_re = np.copy( np.diagonal(Amat) ).reshape(r_lon.size, r_lat.size)\n",
    "    xdif = xretr - xa[:,:,0]\n",
    "else:\n",
    "    print('modify to get right dimensionality in x array')\n",
    "\n",
    "print(shinfo(xdif))\n",
    "\n",
    "geo = np.copy(ws.y_geo.value) #columns are altitude, lat, lon, zenith, azimuth of measurement geoposition\n",
    "print(np.shape(ws.y.value))\n",
    "# y vector should be of size [nf*2 (stokes dim 2) ] * npix*nscans  \n",
    "\n",
    "# vars coming out of yCalc should be in order, nch then npix then nscans, i.e.:\n",
    "## with nch=6 first 6 values are from pix1,sc1 then next 6 are pix2,sc1 and so on -- be careful!\n",
    "\n",
    "# can compare geo[:,3] (az) to EIA from L1R (later), just 180-az to get EIA"
   ]
  },
  {
   "cell_type": "code",
   "execution_count": null,
   "metadata": {
    "scrolled": false
   },
   "outputs": [],
   "source": [
    "# convert vectors back to scan/pixel matrices:\n",
    "sim_tb = np.zeros([nscans,npix,nf*2])\n",
    "dif_tb = np.zeros([nscans,npix,nf*2]) \n",
    "arts_pos = np.zeros([nscans,npix,4]) \n",
    "print(nf*2,npix,nscans)\n",
    "\n",
    "for c in range(nf*2):\n",
    "    sim_tb[:,:,c] = ysim[c::nf*2].reshape(nscans,npix)\n",
    "    dif_tb[:,:,c] = ydif[c::nf*2].reshape(nscans,npix)\n",
    "    for bb in range(4):\n",
    "        arts_pos[:,:,bb] = geo[c::nf*2,bb+1].reshape(nscans,npix) \n",
    "        ## arts obs points -- can differ slightly from prescribed, are wherever max response is registered\n",
    "        \n",
    "    \n",
    "print(np.shape(dif_tb))\n",
    "#print(chan_tb[:,2,0])\n",
    "plt.imshow(dif_tb[:,:,0]) # 6V obs-sim\n",
    "plt.colorbar()\n",
    "plt.show()\n",
    "plt.imshow(dif_tb[:,:,nf*2-1]) # 10H obs-sim\n",
    "plt.colorbar()\n",
    "plt.show()\n"
   ]
  },
  {
   "cell_type": "code",
   "execution_count": null,
   "metadata": {},
   "outputs": [],
   "source": [
    "widths  = np.array([35., 35., 24., 14., 15.,  7., 3.])[fsub] # in km across\n",
    "heights = np.array([62., 62., 42., 22., 26., 12., 5.])[fsub] #  per freq, 6/7/10/18/23/36/89\n",
    "\n",
    "# convert (roughly!) to deg near equator... okay as first approximation for plotting:\n",
    "widths *= 360.0/40075.\n",
    "heights*= 360.0/40075. # deg/circumference\n",
    "\n",
    "### if wanting to get more exact with widths/heights of FOVs, can back out lat/lon differences\n",
    "###  for edge of FOVs using positions with this package:\n",
    "#from astropy import coordinates\n",
    "#from astropy.coordinates import EarthLocation\n",
    "#ploc = EarthLocation.from_geodetic(arts_pos[0,0,1],arts_pos[0,0,0], 0.0,ellipsoid='WGS84')\n",
    "#ploc.\n",
    "print('VERIFY THAT THESE ARE WHOLLY EVEN ON THE GRID!')\n",
    "print(np.diff(arts_pos[0,:,1]))\n",
    "print(np.diff(arts_pos[:,0,0]))"
   ]
  },
  {
   "cell_type": "code",
   "execution_count": null,
   "metadata": {
    "scrolled": false
   },
   "outputs": [],
   "source": [
    "# plotting representative ellipses:\n",
    "from matplotlib.patches import Ellipse\n",
    "from cartopy import crs as ccrs\n",
    "from cmocean import cm as cmo\n",
    "\n",
    "# provide x,y coords, width, height, angle of ellipse\n",
    "\n",
    "k = 0\n",
    "\n",
    "ells = [Ellipse(xy=[arts_pos[i,j,1],arts_pos[i,j,0]], width=widths[int(k/2)], height=heights[int(k/2)], \n",
    "                angle=-arts_pos[i,j,3], linewidth=0.2, alpha=0.7, fill=False) \n",
    "        for i in range(nscans) for j in range(npix)]# for k in [0]] #range(nf*2)]\n",
    "\n",
    "projj = ccrs.PlateCarree()\n",
    "inn =  0.8\n",
    "\n",
    "fig = plt.figure(figsize=[15,10])\n",
    "ax = plt.subplot(111, projection=projj )\n",
    "\n",
    "#reg = [np.min(arts_pos[:,:,0])+inn, np.max(arts_pos[:,:,0])-inn,\n",
    "#       np.min(arts_pos[:,:,1])+inn, np.max(arts_pos[:,:,1])-inn]\n",
    "reg = [np.min(lat_grid)+inn, np.max(lat_grid)-inn,\n",
    "       np.min(lon_grid)+inn, np.max(lon_grid)-inn]\n",
    "ax.set_xlim(left=reg[2], right=reg[3])\n",
    "ax.set_ylim(bottom=reg[0], top=reg[1])\n",
    "nx,ny = 5,5\n",
    "ax.set_xticks( np.linspace(reg[2],reg[3], nx) )\n",
    "ax.set_yticks( np.linspace(reg[0],reg[1], ny) )\n",
    "\n",
    "thenorm1=plt.Normalize(vmin = np.min(s_data[0,:,:])-1, vmax = np.max(s_data[0,:,:])+1)\n",
    "ceem1=cmo.dense\n",
    "bb= ax.pcolormesh(lon_grid,lat_grid,s_data[0,:,:],norm=thenorm1, # so SST\n",
    "             transform=projj, cmap=ceem1)\n",
    "\n",
    "for e in ells[:]: \n",
    "    ax.add_artist(e)\n",
    "    \n",
    "vmin, vmax = -np.max(np.abs(dif_tb[:,:,k])), np.max(np.abs(dif_tb[:,:,k]))\n",
    "thenorm = plt.Normalize(vmin=vmin,vmax=vmax)\n",
    "ceem = cmo.balance #thermal\n",
    "ax.scatter( arts_pos[:,:,1], arts_pos[:,:,0], s=200.0, c=dif_tb[:,:,k], marker='o', \\\n",
    "            transform=projj, alpha=0.8, cmap=ceem, norm=thenorm);\n",
    "sm = plt.cm.ScalarMappable(cmap=ceem, norm=thenorm)\n",
    "sm._A = []\n",
    "cb = plt.colorbar(sm,ax=ax)\n",
    "cb.set_label(ch_str[k]+' TB [K] (obs-sim)')\n",
    "sm1 = plt.cm.ScalarMappable(cmap=ceem1, norm=thenorm1)\n",
    "sm1._A = []\n",
    "cb1 = plt.colorbar(sm1,ax=ax)\n",
    "cb1.set_label('SST [K]')\n",
    "\n",
    "plt.savefig('img/retr-y_syn__'+ch_str[k]+'_'+pv+'.png',bbox_inches='tight',dpi=350)\n",
    "plt.show()\n",
    "\n",
    "\n"
   ]
  },
  {
   "cell_type": "code",
   "execution_count": null,
   "metadata": {},
   "outputs": [],
   "source": [
    "\n",
    "# and for the state vector, retrieved vs. a priori laid over background (truth):\n",
    "fig2 = plt.figure(figsize=[15,10])\n",
    "ax2 = plt.subplot(111, projection=projj )\n",
    "\n",
    "ax2.set_xlim(left=reg[2], right=reg[3])\n",
    "ax2.set_ylim(bottom=reg[0], top=reg[1])\n",
    "ax2.set_xticks( np.linspace(reg[2],reg[3], nx) )\n",
    "ax2.set_yticks( np.linspace(reg[0],reg[1], ny) )\n",
    "\n",
    "bb= ax2.pcolormesh(lon_grid,lat_grid,s_data[0,:,:],norm=thenorm1, # so SST\n",
    "             transform=projj, cmap=ceem1)\n",
    "\n",
    "#for e in ells[:]: \n",
    "#    ax2.add_artist(e)\n",
    "    \n",
    "vmin, vmax = -np.max(np.abs(xdif[:,:])), np.max(np.abs(xdif[:,:]))\n",
    "thenorm = plt.Normalize(vmin=vmin,vmax=vmax)\n",
    "ceem = cmo.balance #thermal\n",
    "# rx,ry defined earlier via meshgrid, i.e. retrieval lon and lat grids respectively\n",
    "ax2.scatter( rx, ry, s=200.0, c=xdif[:,:], marker='o', \\\n",
    "            transform=projj, alpha=0.8, cmap=ceem, norm=thenorm);\n",
    "sm = plt.cm.ScalarMappable(cmap=ceem, norm=thenorm)\n",
    "sm._A = []\n",
    "cb = plt.colorbar(sm,ax=ax2)\n",
    "cb.set_label('SST [K] (retr - prior)')\n",
    "sm1 = plt.cm.ScalarMappable(cmap=ceem1, norm=thenorm1)\n",
    "sm1._A = []\n",
    "cb1 = plt.colorbar(sm1,ax=ax2)\n",
    "cb1.set_label('SST [K]')\n",
    "\n",
    "plt.savefig('img/retr-x_syn_'+pv+'.png',bbox_inches='tight',dpi=350)\n",
    "plt.show()"
   ]
  },
  {
   "cell_type": "code",
   "execution_count": null,
   "metadata": {},
   "outputs": [],
   "source": [
    "stappp\n",
    "print(ry.shape)"
   ]
  },
  {
   "cell_type": "code",
   "execution_count": null,
   "metadata": {},
   "outputs": [],
   "source": [
    "\n",
    "# and for the DOF, take elements from A matrix diagonal:\n",
    "fig3 = plt.figure(figsize=[15,10])\n",
    "ax3 = plt.subplot(111, projection=projj )\n",
    "\n",
    "ax3.set_xlim(left=reg[2], right=reg[3])\n",
    "ax3.set_ylim(bottom=reg[0], top=reg[1])\n",
    "ax3.set_xticks( np.linspace(reg[2],reg[3], nx) )\n",
    "ax3.set_yticks( np.linspace(reg[0],reg[1], ny) )\n",
    "\n",
    "bb= ax3.pcolormesh(lon_grid,lat_grid,s_data[0,:,:],norm=thenorm1, # so SST\n",
    "             transform=projj, cmap=ceem1)\n",
    "\n",
    "#for e in ells[:]: \n",
    "#    ax3.add_artist(e)\n",
    "    \n",
    "vmin, vmax = 0, 1 #-np.max(np.abs(xdif[:,:])), np.max(np.abs(xdif[:,:]))\n",
    "thenorm = plt.Normalize(vmin=vmin,vmax=vmax)\n",
    "ceem = cmo.solar\n",
    "# rx,ry defined earlier via meshgrid\n",
    "ax3.scatter( rx, ry, s=200.0, c=Amat_re[:,:], marker='o', \\\n",
    "            transform=projj, alpha=0.8, cmap=ceem, norm=thenorm);\n",
    "sm = plt.cm.ScalarMappable(cmap=ceem, norm=thenorm)\n",
    "sm._A = []\n",
    "cb = plt.colorbar(sm,ax=ax3)\n",
    "cb.set_label('DOFS')\n",
    "sm1 = plt.cm.ScalarMappable(cmap=ceem1, norm=thenorm1)\n",
    "sm1._A = []\n",
    "cb1 = plt.colorbar(sm1,ax=ax3)\n",
    "cb1.set_label('SST [K]')\n",
    "\n",
    "plt.savefig('img/retr-A_syn_'+pv+'.png',bbox_inches='tight',dpi=350)\n",
    "plt.show()"
   ]
  },
  {
   "cell_type": "code",
   "execution_count": null,
   "metadata": {},
   "outputs": [],
   "source": [
    "for c in range(nf*2):\n",
    "    print(info(dif_tb[:,:,c]))\n",
    "    \n",
    "    \n"
   ]
  },
  {
   "cell_type": "code",
   "execution_count": null,
   "metadata": {
    "collapsed": true
   },
   "outputs": [],
   "source": [
    "# to run fastem alone for testing, outputting emissivities and expected TBs with no atmosphere:\n",
    "#ws.MatrixCreate(\"emissivity\")\n",
    "#ws.MatrixCreate(\"reflectivity\")\n",
    "#ws.reflectivity = np.zeros([f_grid.size,4])\n",
    "#ws.emissivity   = np.zeros([f_grid.size,4])\n",
    "##ws.surface_skin_t = tmean #s_data[0,:,:]\n",
    "##ws.transmittance\n",
    "#ws.transmittance = np.ones( ws.f_grid.value.shape ) * 0.7\n",
    "#yep = 34\n",
    "#emii = np.zeros([yep,nf,2])\n",
    "#tbout= np.zeros([yep,nf,2])\n",
    "#tmean=270.0\n",
    "#for y in range(yep):\n",
    "#    ws.surface_skin_t = tmean+float(y) #s_data[0,:,:]\n",
    "#    ws.FastemStandAlone(surface_skin_t= tmean+y, f_grid=ws.f_grid,\n",
    "#                        emissivity=ws.emissivity, reflectivity=ws.reflectivity,\n",
    "#                        za=125.0, wind_speed=wsp, rel_aa=0.0, transmittance=ws.transmittance.value)\n",
    "#    emii[y,:,:] = ws.emissivity.value[:,0:2]\n",
    "#    tbout[y,:,:]= ws.emissivity.value[:,0:2]*tmean+y"
   ]
  },
  {
   "cell_type": "code",
   "execution_count": null,
   "metadata": {
    "collapsed": true
   },
   "outputs": [],
   "source": [
    "#### soooo, emissivity varies quite little with temperature for 6V (0.557->.553->.56),\n",
    "#     declines slightly at 18 (.64->.58), then bigtime at 89 (.84->.74)\n",
    "##print(ws.emissivity.value)\n",
    "#print(emii[:,0,0]) # 6\n",
    "##print(emii[:,3,0]) # 18\n",
    "##print(emii[:,5,0]) # 36\n",
    "#print(emii[:,-1,0]) # 89\n",
    "#\n",
    "#print(tbout[:,1,0])\n",
    "##print(tbout[:,2,0])\n",
    "#print(tbout[:,-1,0])"
   ]
  },
  {
   "cell_type": "code",
   "execution_count": null,
   "metadata": {
    "collapsed": true
   },
   "outputs": [],
   "source": []
  }
 ],
 "metadata": {
  "jupytext": {
   "main_language": "python",
   "text_representation": {
    "extension": ".py",
    "format_name": "light"
   }
  },
  "kernelspec": {
   "display_name": "Python 3",
   "language": "python",
   "name": "python3"
  },
  "language_info": {
   "codemirror_mode": {
    "name": "ipython",
    "version": 3
   },
   "file_extension": ".py",
   "mimetype": "text/x-python",
   "name": "python",
   "nbconvert_exporter": "python",
   "pygments_lexer": "ipython3",
   "version": "3.6.8"
  }
 },
 "nbformat": 4,
 "nbformat_minor": 2
}
