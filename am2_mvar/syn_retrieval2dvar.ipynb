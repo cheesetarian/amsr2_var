{
 "cells": [
  {
   "cell_type": "markdown",
   "metadata": {},
   "source": [
    "# -- ARTS multi-FOV 2DVAR surface retrievals --"
   ]
  },
  {
   "cell_type": "code",
   "execution_count": 1,
   "metadata": {},
   "outputs": [],
   "source": [
    "#  David Duncan, Chalmers University, Feb 2019\n",
    "\n",
    "#  this script uses ARTS OEM to experiment with retrieval of a synthetic scene. \n",
    "#    the goal here is to probe the spatial resolution of geophysical parameter \n",
    "#    that may be retrievable with such a sensor, focused on AMSR2 and surface params\n",
    "\n",
    "# this setup, in steps/words:\n",
    "### - define an antenna response that is frequency dependent, gaussian, symmetric\n",
    "### - define sensor position and line of sight for each scan at middle of scan\n",
    "### - define an angular grid (zenith & azimuth) for each scan that encompasses npix\n",
    "### - sensor angles are all 'absolute' whereas the angular grid and antenna response \n",
    "###    are all relative to the central bore sight of the scan\n",
    "### - a lat/lon grid is also defined that must encompass all observation points simulated\n",
    "### - the same angular grid and simulation setup is assumed/copied for all nscans, and \n",
    "###    mblock_dlos_grid allows all simulations to be run at the same time\n",
    "\n",
    "### *** this setup outputs simulates TBs for chosen channels of AMSR2\n",
    "###    with antenna patterns taken into account and decoupled from any retrieval grid, with\n",
    "###    pencil beam calculations sampling the antenna pattern according to the angular grid\n",
    "###    defined\n",
    "\n",
    "### a priori covariances are defined in terms of standard deviations and decorrelation lengths\n",
    "###  and observation error covariances are frequency dependent\n",
    "\n",
    "# updated/revisited early April to finalize synthetic setup for the manuscript, update plotting\n",
    "#  calls to match real scenes retrieval code output. update in april to use true x derived from Sx"
   ]
  },
  {
   "cell_type": "code",
   "execution_count": 2,
   "metadata": {},
   "outputs": [],
   "source": [
    "import numpy as np\n",
    "import matplotlib.pyplot as plt\n",
    "from cmocean import cm as cmo\n",
    "from h5py import File\n",
    "from netCDF4 import Dataset\n",
    "import time\n",
    "startt = time.time()\n",
    "\n",
    "from matplotlib.patches import Ellipse\n",
    "from matplotlib import ticker\n",
    "import matplotlib.patheffects as path_effects\n",
    "from cartopy import crs as ccrs\n",
    "from cmocean import cm as cmo"
   ]
  },
  {
   "cell_type": "markdown",
   "metadata": {},
   "source": [
    "# Define # of vars, channels, size of retrieval, and covariance assumptions"
   ]
  },
  {
   "cell_type": "code",
   "execution_count": 3,
   "metadata": {},
   "outputs": [
    {
     "name": "stdout",
     "output_type": "stream",
     "text": [
      "syn-c_ap15-10d_r5-6a_1n_frs02356\n"
     ]
    }
   ],
   "source": [
    "\n",
    "# frequency subset, defined by AMSR2 frequency indices: 0=6.9GHz, 1=7.3, 2=10.6, 3=18.7, 4=23.8, 5=36.5, 6=89\n",
    "fsub  = np.array([0, 2, 3, 5, 6]) # choose which frequencies to run (runs both polarisations--v/h)\n",
    "#fsub  = np.array([0, 1, 2, 3, 5, 6]) # choose which frequencies to run (runs both polarisations--v/h)\n",
    "sfsub= str(\"frs\")+\"\".join(map(str,fsub)) #  string of frequencies (for plot outputs)\n",
    "\n",
    "# if decorrelations lengths less than .1 -> diagonal Sx matrix\n",
    "deco_sst = 1.0  # SST decorrelation length of a priori [deg] -- set to near-zero if wanting none\n",
    "deco_wsp = 1.0  # wind decorrelation length of a priori [deg] \n",
    "sv = True      # whether or not to save output plots\n",
    "x_correct = True  # if true, the true x state is derived from S_a covariance as defined via deco/sx\n",
    "                  # if false, s_data is prescribed and S_a is a guess (not accurate)\n",
    "\n",
    "nrvar    =   2   # number of retrieval variables, 1 will be SST only, 2 for SST+windspeed\n",
    "\n",
    "angfac   =   6   # angular samples per degree or between pix (good value depends on freqs used)\n",
    "sx_sst   = 1.5   # a priori std deviation for SST\n",
    "sx_wsp   = 1.5   # a priori std deviation for wind speed (if nrvar > 1)\n",
    "#xcorr    = 0.0   # cross correlation between SST and wind speed -- not currently used (sparse matrix faster)\n",
    "#  note: for speed, the angular grid is the biggest limiting factor, so if using low frequencies only\n",
    "\n",
    "npix     =  15   # pixels across each scan considered\n",
    "nscans   =  11   # consecutive scans considered\n",
    "\n",
    "# these should likely remain fixed:\n",
    "noise_fac = 1.0  # multiply sense noise (nedt) by this factor\n",
    "nedt = np.array([0.34, 0.43, 0.7, 0.7, 0.6, 0.7, 1.2])[fsub] # from published NEdT values\n",
    "npol     =  2    # number of polarizations considered (2=V/H both, 1=intensity only)\n",
    "\n",
    "# retrieval grid resolution (set down below)\n",
    "r_resa, r_reso = 0.05, 0.05\n",
    "uty,    utx    = 0.8,  0.8      # grid defined radially out from center, so these are half-widths\n",
    "\n",
    "# plot version (end of plot filenames):    ## assumes decorrelation, prior, rgrid dimensions are same for both\n",
    "kor = 'syn'\n",
    "if x_correct: kor += '-c'\n",
    "pv = kor+'_ap'+str(round(sx_sst*10))+'-'+str(round(deco_sst*10))+'d_'+\\\n",
    "    'r'+str(round(100*r_reso))+'-'+str(angfac)+'a_'+str(round(noise_fac))+'n_'+sfsub      \n",
    "print(pv)"
   ]
  },
  {
   "cell_type": "code",
   "execution_count": 4,
   "metadata": {
    "lines_to_next_cell": 2,
    "scrolled": true
   },
   "outputs": [
    {
     "name": "stdout",
     "output_type": "stream",
     "text": [
      "Grid resolution is  0.1 0.1\n",
      "Retr grid resolution is  0.05 0.05\n"
     ]
    }
   ],
   "source": [
    "# Define lat/lon grid that observation points and angular grid lie within\n",
    "lat0     = 0.0  # center of grid in lat, lon \n",
    "lon0     = 0.0\n",
    "nlat, nlon =  30, 30 #100        # number of lat and lon divisions\n",
    "latwid, lonwid = 1.5, 1.5    # actual grid widths are double these\n",
    "\n",
    "resa = 2*latwid/nlat  #lat grid resolution\n",
    "reso = 2*lonwid/nlon  #lon grid resolution\n",
    "print('Grid resolution is ', resa, reso)\n",
    "print('Retr grid resolution is ', r_resa, r_reso)\n",
    " \n",
    "la_grid = lat0 + np.arange(-latwid, latwid+resa, resa)\n",
    "lo_grid = lon0 + np.arange(-lonwid, lonwid+reso, reso)\n",
    "# keep these (non-ARTS vars) for sake of plotting at the end!\n",
    " \n",
    "#print('corners of la_grid: ',la_grid)\n",
    "#print('midpoints of la_grid (ARTS ws grid): ',latgrid[0:nlat]+np.diff(la_grid)*.5)"
   ]
  },
  {
   "cell_type": "markdown",
   "metadata": {},
   "source": [
    "# Set up ARTS environment"
   ]
  },
  {
   "cell_type": "code",
   "execution_count": 5,
   "metadata": {
    "lines_to_next_cell": 2,
    "scrolled": false
   },
   "outputs": [
    {
     "name": "stdout",
     "output_type": "stream",
     "text": [
      "env: ARTS_INCLUDE_PATH=/home/dudavid/arts/controlfiles/\n",
      "env: ARTS_BUILD_PATH=/home/dudavid/arts/build/\n",
      "env: ARTS_DATA_PATH=/home/dudavid/arts/arts-xml/\n",
      "Loading ARTS API from: /home/dudavid/arts/build/src/libarts_api.so\n"
     ]
    }
   ],
   "source": [
    "%env ARTS_INCLUDE_PATH=/home/dudavid/arts/controlfiles/\n",
    "%env ARTS_BUILD_PATH=/home/dudavid/arts/build/\n",
    "%env ARTS_DATA_PATH=/home/dudavid/arts/arts-xml/ \n",
    "#%env OMP_NUM_THREADS=1 # to limit computation to single core or set # of cores, set the above ARTS API keyword\n",
    "\n",
    "%matplotlib inline\n",
    "from scipy.spatial.distance import pdist      # calculate pair-wise distances (euclidean)\n",
    "from scipy.spatial.distance import squareform # convert from reduced matrix to square\n",
    "\n",
    "from typhon.arts.workspace import Workspace, arts_agenda\n",
    "ws = Workspace(verbosity=0)\n",
    "ws.execute_controlfile(\"general/general.arts\")\n",
    "ws.execute_controlfile(\"general/continua.arts\")\n",
    "ws.execute_controlfile(\"general/agendas.arts\")\n",
    "ws.execute_controlfile(\"general/planet_earth.arts\")\n",
    "\n",
    "from typhon.arts.workspace.variables import *\n",
    "\n",
    "# set various ARTS agendas:\n",
    "ws.Copy( ws.abs_xsec_agenda, ws.abs_xsec_agenda__noCIA )\n",
    "ws.Copy( ws.iy_main_agenda, ws.iy_main_agenda__Emission )\n",
    "ws.Copy( ws.iy_space_agenda, ws.iy_space_agenda__CosmicBackground )\n",
    "ws.Copy( ws.propmat_clearsky_agenda, ws.propmat_clearsky_agenda__OnTheFly )\n",
    "ws.Copy( ws.ppath_agenda, ws.ppath_agenda__FollowSensorLosPath )\n",
    "ws.Copy( ws.ppath_step_agenda, ws.ppath_step_agenda__GeometricPath )\n",
    "@arts_agenda\n",
    "def geo_pos_agendaPY(ws):\n",
    "    ws.geo_posEndOfPpath()\n",
    "ws.Copy( ws.geo_pos_agenda, geo_pos_agendaPY)  ## new one, set by patrick in his cfile\n",
    "\n",
    "# define absorbing species and sensor (here using metmm library, used again below)\n",
    "ws.abs_speciesSet(species=[\"H2O-PWR98\",\"O2-PWR93\",\"N2-SelfContStandardType\"])#,\"liquidcloud-ELL07\"])\n",
    "ws.abs_lines_per_speciesSetEmpty()\n",
    "\n",
    "ws.stokes_dim = npol     # to get V and H pol set to 2\n",
    "ws.iy_unit = \"PlanckBT\"  # equivalent: ws.StringSet( iy_unit, \"PlanckBT\" )"
   ]
  },
  {
   "cell_type": "code",
   "execution_count": 6,
   "metadata": {},
   "outputs": [],
   "source": [
    "# set up atmosphere and surface variables:\n",
    "ws.atmosphere_dim = 3  # 3D atmosphere\n",
    "p = np.array([1015.,950.,800., 600.,300.])*100.0 #keep it simple, otherwise slower fwd model \n",
    "#p = np.array([1015.,975.,950.,925.,900.,850.,800.,750.,700.,650.,600.,550.,500.,400.,300.,200.,100.])*100.0\n",
    "ws.p_grid = p[:] \n",
    "ws.AtmRawRead( basename = \"planets/Earth/Fascod/tropical/tropical\") #tropical atmosphere assumed\n",
    "ws.AtmosphereSet3D()\n",
    "\n",
    "ws.lat_grid = np.copy( la_grid[0:nlat] + np.diff(la_grid)*.5 ) # to avoid mismatch between ARTS and pcolormesh\n",
    "ws.lon_grid = np.copy( lo_grid[0:nlon] + np.diff(lo_grid)*.5 ) #  i.e. getting lat/lon midpoints of boxes\n",
    "\n",
    "ws.AtmFieldsCalcExpand1D()  # set to given p_grid or z_grid\n",
    "#ws.vmr_field.value[0,:,:,:] *= 0.50 # if wanting to scale water vapour\n",
    "\n",
    "# if using coarse atmosphere but wanting accurate ray tracing:\n",
    "ws.ppath_lmax = 350.0  # set maximum distance between points when computing absorption along path [m]"
   ]
  },
  {
   "cell_type": "markdown",
   "metadata": {},
   "source": [
    "# Define synthetic ocean surface scene, set in ARTS"
   ]
  },
  {
   "cell_type": "code",
   "execution_count": 7,
   "metadata": {
    "lines_to_next_cell": 2,
    "scrolled": false
   },
   "outputs": [
    {
     "name": "stdout",
     "output_type": "stream",
     "text": [
      "s_data shape:  (4, 30, 30)\n"
     ]
    }
   ],
   "source": [
    "# Surface properties -- define ocean surface for simulations\n",
    "\n",
    "nala, nalo = np.size(ws.lat_grid.value), np.size(ws.lon_grid.value) # size of ARTS lat/lon grid\n",
    "s_names = [\"Water skin temperature\",\"Wind speed\",\"Wind direction\",\"Salinity\"]\n",
    "s_data = np.zeros([len(s_names), nala, nalo])  ## page/row/col\n",
    "print('s_data shape: ',s_data.shape)\n",
    "\n",
    "tback                   = 292.0 # sst background\n",
    "wsp                     = 6.3   # 10m wind speed\n",
    "s_data[0,:,:] = tback\n",
    "s_data[0,:,:] += 3.0 * np.cos( np.tile(np.linspace(-2*np.pi,2*np.pi,nalo),[nala,1])) #.transpose() \n",
    "s_data[1,:,:] = wsp\n",
    "#s_data[1,:,:] += np.random.normal(1.2, 1.9, [nala,nalo])\n",
    "#s_data[1,:,:] += 0.35 * np.tile(np.arange(0,nala),[nalo,1]).transpose() \n",
    "s_data[1,:,:] += 5.0 * np.sin( np.tile(np.linspace(-np.pi,np.pi,nala),[nalo,1])).transpose() \n",
    "s_data[2,:,:] = 90 # token wind direction value\n",
    "s_data[3,:,:] = 0.034 # token salinity value\n",
    "\n",
    "# write these to ARTS variables \n",
    "ws.Copy(ws.surface_props_names, s_names)\n",
    "#ws.Copy(ws.surface_props_data, s_data)  # defined (for arts) later!\n",
    "ws.MatrixSetConstant(ws.z_surface, nala, nalo, 0.0) # explicitly set the surface to 0m altitude\n"
   ]
  },
  {
   "cell_type": "markdown",
   "metadata": {},
   "source": [
    "# Define antenna pattern"
   ]
  },
  {
   "cell_type": "code",
   "execution_count": 8,
   "metadata": {
    "lines_to_next_cell": 2
   },
   "outputs": [
    {
     "name": "stdout",
     "output_type": "stream",
     "text": [
      "0.624 0.09125269978401726\n"
     ]
    }
   ],
   "source": [
    "# Set and calculate some basic variables for antenna and scanning\n",
    "\n",
    "### All will be replaced or superseded if using L1R data as input\n",
    " \n",
    "zsat   = 699.7e3      # Satellite altitude [m] -- can read this in later\n",
    "vsat   = 6.76e3       # Satellite velocity [m/s]\n",
    "dt     = 2.6e-3       # Integration time [s] -- 2.6ms for low freqs, 1.3ms for 89GHz\n",
    "rpm    = 40           # Rotations per minute -- same for AMSR-E and AMSR2\n",
    " \n",
    "# nautical mile constant?  1852m = 1nmi\n",
    "m2deg  = 1/(60*1852)                          # Conversion from m to latitude\n",
    "dang   = dt * 360 * rpm / 60                  # Angular distance between samples\n",
    "dlat   = m2deg * vsat * 60 / rpm              # Latitude distance between scans\n",
    "print(dang,dlat)"
   ]
  },
  {
   "cell_type": "code",
   "execution_count": 9,
   "metadata": {
    "scrolled": true
   },
   "outputs": [
    {
     "name": "stdout",
     "output_type": "stream",
     "text": [
      "angular resolution of response grid [deg]:  0.01\n",
      "size of antenna_reponse grid:  (1, 5, 361, 361)\n"
     ]
    }
   ],
   "source": [
    "# channel HPBW sizes in km, from amsr2 documentation\n",
    "widths  = np.array([35., 35., 24., 14., 15.,  7., 3.])[fsub] # in km across\n",
    "heights = np.array([62., 62., 42., 22., 26., 12., 5.])[fsub] #  per freq, 6/7/10/18/23/36/89\n",
    "\n",
    "width  = 1.8           # Max half-width of antenna simulated (if HPBW is 1.8deg, width=2 covers 2x the HPBW)\n",
    "resol  = 0.01          # angular resolution (same in zenith/azimuth)\n",
    "# note: for a given angular resolution (might vary), width=2 yields 99.96% of total power @6GHz \n",
    "#   compared to width=20 and 99.99999% @10GHz, width=1.5 yields 99.0 and 99.994 @ 6,10\n",
    "#resol, width = dang/(angfac*5), awidth # set here instead of calling func\n",
    "print('angular resolution of response grid [deg]: ',resol)\n",
    "\n",
    "adata = [[ 6.925e9 ,  1.80],   # AMSR2 center frequency and beamwidth (deg)\n",
    "         [ 7.300e9 ,  1.80],   # assumed the same for V/H polarizations\n",
    "         [ 10.65e9 ,  1.20],\n",
    "         [ 18.70e9 ,  0.65],\n",
    "         [ 23.80e9 ,  0.75],\n",
    "         [ 36.50e9 ,  0.35],\n",
    "         [ 89.00e9 ,  0.15]] \n",
    "\n",
    "adata = np.array(adata, order=\"C\").transpose()[:,fsub] # choose selected frequencies (set above)\n",
    "\n",
    "# define zenith, azimuth grid on the ground (relative to bore sight) -- assumed to be square, 2xWidth wide\n",
    "x  = np.arange( -width, width+resol, resol )  #this gives angular antenna response points in za,aa\n",
    "x2 = x**2   # since assumed origin is 0, do squaring here \n",
    "nf, nx = len(adata[0,:]), np.size(x)   # num frequencies, size of antenna grid\n",
    "\n",
    "csub = np.sort(np.append(fsub*2,fsub*2+1))\n",
    "ch_str = np.array(['6V','6H','7V','7H','10V','10H','18V','18H',\n",
    "                   '23V','23H','36V','36H','89V','89H'])[csub] \n",
    "#print(ch_str)\n",
    "\n",
    "from typhon.arts.griddedfield import GriddedField4\n",
    "gf4 = GriddedField4()   # ARTS variable type, found in typhon\n",
    "gf4.name = 'AMSR2 antenna response'\n",
    "gf4.gridnames =  [ 'Polarisation', 'Frequency', 'Zenith angle', 'Azimuth angle' ]\n",
    "###  note: za & aa are equally spaced, and we're treating V/H as having identical responses\n",
    "if npol==2: gsp=\"1\" \n",
    "else: gsp=\"0\"\n",
    "gf4.grids     = [ [gsp], adata[0,:], x, x ]\n",
    "gf4.dataname  = 'Response'\n",
    "gf4.data      = np.zeros([ 1, nf, nx, nx ], order=\"C\")\n",
    "print('size of antenna_reponse grid: ',gf4.data.shape)\n",
    "\n",
    "for i in range(nf):\n",
    "    si = adata[1,i] / (2*np.sqrt(2*np.log(2)))  # calculate standard deviation first, based on HPBW\n",
    "    gf4.data[0,i,:,:] = np.exp( - np.tile(x2,[nx,1])/si**2 - np.tile(x2,[nx,1]).transpose()/ si**2 )\n",
    "\n",
    "# frequency grid of simulation is defined according to sensor setup above \n",
    "ws.f_grid.value = np.copy(gf4.grids[1])  # array with each frequency (not channel)\n"
   ]
  },
  {
   "cell_type": "markdown",
   "metadata": {},
   "source": [
    "# Define bore sights for one scan, angular grid for fwd model"
   ]
  },
  {
   "cell_type": "code",
   "execution_count": 10,
   "metadata": {
    "lines_to_next_cell": 2
   },
   "outputs": [
    {
     "name": "stdout",
     "output_type": "stream",
     "text": [
      "bsights: [-4.368 -3.744 -3.12  -2.496 -1.872 -1.248 -0.624  0.     0.624  1.248\n",
      "  1.872  2.496  3.12   3.744  4.368]\n"
     ]
    }
   ],
   "source": [
    "# Determine bore-sight angles to use for one scan \n",
    " \n",
    "# psteps defines the pixels across one scan\n",
    "psteps   = np.arange(-(npix-1)/2, (npix-1)/2 +1, 1)  #  if npix is odd then middle boresight is in the middle\n",
    "# ssteps defines position of spacecraft for each scan, evenly distributed around the middle scan\n",
    "ssteps   = np.arange(-(nscans-1)/2, (nscans-1)/2 +1, 1) \n",
    "\n",
    "#  center line of sight... defined as AMSR2 EIA and 0 azimuth angle\n",
    "los0    = [ 180-47.5, 0 ]  # 47.5 is off-nadir angle of AMSR2, 180 for looking straight down\n",
    "\n",
    "# bsights defines the bore sight zenith and azimuth angles across the scan \n",
    "##-- just for one scan, assumed to be same / repeated for all scans\n",
    "bsights = np.array([ np.repeat(los0[0],npix), los0[1]+dang*psteps ]).transpose()  # size: [npix,2]\n",
    "print('bsights:',(bsights[:,1]))"
   ]
  },
  {
   "cell_type": "code",
   "execution_count": 11,
   "metadata": {
    "lines_to_next_cell": 2,
    "scrolled": true
   },
   "outputs": [
    {
     "name": "stdout",
     "output_type": "stream",
     "text": [
      "zenith grid spacing:  [0.16666667]\n",
      "azimuth grid spacing:  [0.104]\n"
     ]
    }
   ],
   "source": [
    "# Define angular grid for pencilbeam calculations\n",
    "\n",
    "# can use 'dang' or not, but benefit of using it is having RT calc at each boresight (i.e. antenna beam max)\n",
    "#  in azimuth direction. if using 'dang' for zenith too then it's an evenly spaced angular grid.\n",
    "\n",
    "n = np.floor( width * angfac )  # angular width * angular samples per deg\n",
    "za_grid = np.array( los0[0] +  np.arange(-n,n+1)/angfac)  ## effectively taking 'width' on either side of 0\n",
    "#n = np.floor( angfac * width / dang )  # number per degree * angular width / distance between boresights\n",
    "#za_grid = np.array( los0[0] + (dang/angfac) * np.arange(-n,n+1))  # zenith angle grid\n",
    "\n",
    "en = np.floor( angfac * ( bsights[-1,1] + width ) / dang ) # azimuth of boresight at edge +width\n",
    "aa_grid = np.array( los0[1] + (dang/angfac) * np.arange(-en,en+1))  # azimuth angle grid\n",
    "#en = np.floor((bsights[-1,1]+width)*angfac) ## yields az from boresight at edge plus 'width' (could prob do width/2)\n",
    "#aa_grid = np.array( los0[1] + np.arange(-en,en+1/angfac)/angfac)  # azimuth angle grid\n",
    "\n",
    "#print('zenith grid: ',za_grid) \n",
    "#print('azimuth grid: ',aa_grid) \n",
    "print('zenith grid spacing: ',np.diff(za_grid[:2]))\n",
    "print('azimuth grid spacing: ',np.diff(aa_grid[:2]))"
   ]
  },
  {
   "cell_type": "code",
   "execution_count": 12,
   "metadata": {},
   "outputs": [],
   "source": [
    "# Set sensor_pos (position), sensor_los (line of sight) for ARTS\n",
    "\n",
    "ws.sensor_los = np.tile(los0, [nscans,1])  # sensor line of sight for each scan\n",
    "\n",
    "shift   = 7.4   # Latitude shift to centre calculations around lat0\n",
    "\n",
    "# sensor_pos should be columns of altitude, SClat, SClon  ###  \n",
    "#   with real data these come from L1R files and transform X/Y/Z to lat/lon\n",
    "#   currently one alt/sclat/sclon for each scan (i.e. each of nscans)\n",
    "\n",
    "ws.sensor_pos = np.hstack([np.repeat(zsat, nscans).reshape(nscans,1),\n",
    "                          np.array(lat0 - shift + dlat * ssteps).reshape(nscans,1), \n",
    "                          np.repeat(lon0, nscans).reshape(nscans,1)])\n",
    "\n",
    "#print(ws.sensor_pos.value)\n",
    "#print(np.shape(ws.sensor_pos.value))  # should be alt, SClat, SClon for each of nscans"
   ]
  },
  {
   "cell_type": "code",
   "execution_count": 13,
   "metadata": {},
   "outputs": [],
   "source": [
    "# turn off jacobian calc for primary yCalc, keep clear-sky (non-scattering) setup\n",
    "ws.jacobianOff()\n",
    "ws.cloudboxOff()"
   ]
  },
  {
   "cell_type": "markdown",
   "metadata": {},
   "source": [
    "# Set the surface agenda for ARTS"
   ]
  },
  {
   "cell_type": "code",
   "execution_count": 14,
   "metadata": {},
   "outputs": [],
   "source": [
    "# define surface agenda (need transmittance to run FASTEM):\n",
    "varnam = [\"Optical depth\"]\n",
    "ws.Copy(ws.iy_aux_vars, varnam)\n",
    "ws.VectorCreate( \"transmittance\" )\n",
    "#ws.transmittance = np.ones( ws.f_grid.value.shape ) * 0.0  #  FOR TESTING ONLY!!!!!\n",
    "\n",
    "@arts_agenda\n",
    "def iy_surface_agendaPY(ws):\n",
    "    ws.specular_losCalc()\n",
    "    # if wanting to test transmittance values, comment out next 3 calls and set outside agenda...\n",
    "    #  if ppathCalc is called and uses assumed inputs there are problems, so specify all!\n",
    "    ws.ppathCalc(ws.ppath_agenda, ws.ppath_lmax, \n",
    "       ws.ppath_lraytrace, ws.atmgeom_checked, ws.t_field, ws.z_field, \n",
    "       ws.vmr_field, ws.f_grid, ws.cloudbox_on, ws.cloudbox_checked, \n",
    "       ws.ppath_inside_cloudbox_do, ws.rtp_pos, ws.specular_los, ws.rte_pos2 )\n",
    "    ws.iyEmissionStandard()\n",
    "    ws.transmittanceFromIy_aux(transmittance=ws.transmittance)\n",
    "    ws.SurfaceFastem( transmittance = ws.transmittance, fastem_version=6 ) \n",
    "    ws.iySurfaceRtpropCalc()\n",
    "    \n",
    "ws.Copy(ws.iy_surface_agenda, iy_surface_agendaPY) # copy python-defined agenda to ARTS"
   ]
  },
  {
   "cell_type": "markdown",
   "metadata": {},
   "source": [
    "# Perform checks and set up mblock grid"
   ]
  },
  {
   "cell_type": "code",
   "execution_count": 15,
   "metadata": {},
   "outputs": [],
   "source": [
    "# perform some checks:\n",
    "ws.abs_xsec_agenda_checkedCalc()\n",
    "ws.propmat_clearsky_agenda_checkedCalc()\n",
    "ws.atmfields_checkedCalc( bad_partition_functions_ok = 1 )\n",
    "ws.atmgeom_checkedCalc()\n",
    "ws.cloudbox_checkedCalc()"
   ]
  },
  {
   "cell_type": "code",
   "execution_count": 16,
   "metadata": {
    "scrolled": false
   },
   "outputs": [],
   "source": [
    "# create vector mblock_reference_los and matrix mblock_target_los (to be used by DiffZaAa)\n",
    "mblock_reference_los = np.array(los0)\n",
    "\n",
    "# want to have all individual angle pairs distinct... so repeat one serially and one n times\n",
    "mblock_target_los = np.array(np.transpose( np.stack( \n",
    "                    [ np.repeat(za_grid, aa_grid.size) , \n",
    "                      np.tile(  aa_grid, za_grid.size) ]) ) , order = \"C\")\n",
    "## need to specify 'C' order or else stride is wrong and array values are read wrong by ARTS!\n",
    "\n",
    "# take the differences of zenith and azimuth angles to convert to chosen angle space\n",
    "ws.DiffZaAa(ws.mblock_dlos_grid, mblock_reference_los, mblock_target_los)"
   ]
  },
  {
   "cell_type": "code",
   "execution_count": 17,
   "metadata": {
    "scrolled": false
   },
   "outputs": [],
   "source": [
    "### Calculate the sensor response function from the antenna response\n",
    "ws.VectorCreate(\"antenna_reference_los\")\n",
    "ws.MatrixCreate(\"antenna_target_los\")\n",
    "ws.antenna_reference_los = np.array(los0)\n",
    "ws.antenna_target_los = np.array(bsights, order=\"C\")\n",
    "ws.DiffZaAa(ws.antenna_dlos, ws.antenna_reference_los, ws.antenna_target_los)\n",
    "\n",
    "# define sensor... done above, but apply gf4 typhon/arts object to antenna_response:\n",
    "ws.sensor_norm = 1\n",
    "ws.antenna_dim = 2\n",
    "ws.antenna_response = gf4 \n",
    "\n",
    "ws.sensor_responseInit()\n",
    "\n",
    "## flipping from first two stokes components (I/Q) to V/H-pol Tb here... \n",
    "ws.instrument_pol = [5,6] # indices for V,H (1,2 are I,Q)\n",
    "\n",
    "ws.sensor_responsePolarisation()\n",
    "ws.sensor_responseAntenna()\n",
    "ws.sensor_checkedCalc()\n"
   ]
  },
  {
   "cell_type": "markdown",
   "metadata": {},
   "source": [
    "# Initiate the retrieval setup"
   ]
  },
  {
   "cell_type": "code",
   "execution_count": 18,
   "metadata": {
    "scrolled": true
   },
   "outputs": [
    {
     "name": "stdout",
     "output_type": "stream",
     "text": [
      "(33, 33) (33, 33)\n",
      "(30, 30) (30, 30)\n"
     ]
    }
   ],
   "source": [
    "# first, set up the retrieval grid, which is independent from fwd model and\n",
    "#  independent from the background (lat/lon/alt) grid if chosen\n",
    "\n",
    "r_lims = [lat0-uty, lat0+uty, lon0-utx, lon0+utx] # lat/lon limits  (box in middle of overall box)\n",
    "\n",
    "r_lon  = np.arange(r_lims[2], r_lims[3]+r_reso, r_reso)\n",
    "r_lat  = np.arange(r_lims[0], r_lims[1]+r_resa, r_resa)\n",
    "\n",
    "# create grids of retrieval lats/lons for calculations of distance and plotting below\n",
    "ri, rj = np.meshgrid(r_lat, r_lon, indexing='ij')  \n",
    "print(ri.shape,rj.shape)\n",
    "# and the same for original ARTS background grid\n",
    "gi, gj = np.meshgrid(ws.lat_grid, ws.lon_grid, indexing='ij')\n",
    "print(gi.shape,gj.shape)\n",
    "\n"
   ]
  },
  {
   "cell_type": "markdown",
   "metadata": {},
   "source": [
    "# Set prior and covariance matrices"
   ]
  },
  {
   "cell_type": "code",
   "execution_count": null,
   "metadata": {
    "scrolled": true
   },
   "outputs": [
    {
     "name": "stdout",
     "output_type": "stream",
     "text": [
      "Xa shape:  (2, 33, 33)\n",
      "Se cov shape:  (1650, 1650)\n",
      "Sa cov shape:  (1089, 1089, 3)\n"
     ]
    }
   ],
   "source": [
    "# define Xa (formally set in ARTS below)\n",
    "xa = np.zeros([nrvar, r_lat.size, r_lon.size]) # a priori matrix, should be similar to s_data\n",
    "print('Xa shape: ', xa.shape)\n",
    "xa[0,:,:] = tback    #np.mean(x_back[0,:,:]) # set constant\n",
    "if nrvar>1:\n",
    "    xa[1,:,:] = wsp ###np.mean(x_back[1,:,:])\n",
    "\n",
    "# then observation errors (uncorrelated sensor noise)\n",
    "se_cov = np.diag(np.tile(np.repeat((noise_fac*nedt)**2,2), npix*nscans )) \n",
    "print('Se cov shape: ', se_cov.shape) # square matrix of side length npix*nscans*nf*2\n",
    "\n",
    "# calculate distances between points on retrieval grid for distance-dependent correlations in sx_cov\n",
    "#   \"Convert a vector-form distance vector to a square-form distance matrix\", from point-wise distances\n",
    "#    from scipy pdist function:\n",
    "dists = squareform( pdist( np.array([ri.flatten(order=\"F\"), rj.flatten(order=\"F\")]).transpose() )) \n",
    "# ri/rj flattened in F order because all 2D arrays interpreted in 1D by arts get reshaped internally!\n",
    "\n",
    "# can try making decorrelation lengths gradient-dependent (wait for a non-flat prior for testing!):\n",
    "#rygrad, rxgrad = np.gradient(xa[:,:,0])\n",
    "#pseudo_grad = 0.5 * (np.abs(rygrad)*r_resa + np.abs(rxgrad)*r_reso)   # should be array of xa size\n",
    "## abs values, add gradients in x and y by retr grid resolution\n",
    "#deco_grid = np.ones_like(dists)*deco\n",
    "#deco_grid[pseudo_grad > 0] *= np.exp(-1.0*pseudo_grad[pseudo_grad>0])  \n",
    "## ad hoc, weight decorr length to be shorter if there's a non-zero gradient in apriori \n",
    "\n",
    "# then a priori state errors (Sa or Sx)\n",
    "len_rgrid = r_lat.size*r_lon.size # total number of points in retrieval grid\n",
    "nsx = np.sum(range(nrvar+1)) # 'triangle number' determines # of matrix blocks that define sx_cov\n",
    "\n",
    "# blocks of larger, sparse Sa unless the off-off diagonal elements are filled in (SST/wsp covariances)\n",
    "sx_cov = np.zeros([len_rgrid,len_rgrid, nsx], order=\"C\")\n",
    "print('Sa cov shape: ', sx_cov.shape) # square matrix of side length npix*nscans*nf*2\n",
    "\n",
    "# common for both:\n",
    "sx_cov[:,:,0] = np.diag( np.tile(sx_sst**2, len_rgrid)) \n",
    "corrs_sst = np.exp(-dists/deco_sst) \n",
    "if deco_sst > .1: # if less, call it zero (i.e. diagonal Sa)\n",
    "    sx_cov[:,:,0]  = sx_sst * sx_sst * corrs_sst[:,:]  # FOR NON-LOC-DEP SX_SST    i.e.  cov = r * sig * sig\n",
    "    \n",
    "if nrvar==2:  # wind and cross-correlations\n",
    "    corrs_wsp = np.exp(-dists/deco_wsp)\n",
    "    sx_cov[:,:,1] = np.diag( np.tile(sx_wsp**2, len_rgrid)) \n",
    "    if deco_wsp > .1: # if less, call it zero (i.e. diagonal Sa)\n",
    "        sx_cov[:,:,1] = sx_wsp * sx_wsp * corrs_wsp[:,:]  # if sx_wsp is NOT function of loc, calc here\n",
    "    #sx_cov[:,:,2] = sx_wsp * sx_sst * corrs_wsp[:,:] * xcorr  # cross correlations -- again, NOT f(loc)\n",
    "\n",
    "#for rv in range(nsx):   # can plot each a priori covariance matrix block:\n",
    "#    plt.matshow(sx_cov[:,:,rv])\n",
    "#    plt.colorbar()\n",
    "#    plt.show()\n",
    "#"
   ]
  },
  {
   "cell_type": "code",
   "execution_count": null,
   "metadata": {},
   "outputs": [],
   "source": [
    "# Use 'true' true state, derived from the defined S_a?\n",
    "if x_correct:\n",
    "    #  define Sx-like matrix for background state (same thing just bigger since it's a different grid)\n",
    "    bdists = squareform( pdist( np.array([gi.flatten(order=\"F\"), gj.flatten(order=\"F\")]).transpose() )) \n",
    "    bx_cov = np.zeros([nala*nalo,nala*nalo, 2], order=\"C\")\n",
    "    bx_cov[:,:,0] = np.diag( np.tile(sx_sst**2, nala*nalo)) \n",
    "    bx_cov[:,:,1] = np.diag( np.tile(sx_wsp**2, nala*nalo)) \n",
    "    bcorrs_sst = np.exp(-bdists/deco_sst) \n",
    "    if deco_sst > .1: # if less, call it zero (i.e. diagonal Sa)\n",
    "        bx_cov[:,:,0]  = sx_sst * sx_sst * bcorrs_sst[:,:]  # FOR NON-LOC-DEP SX_SST    i.e.  cov = r * sig * sig\n",
    "    if nrvar>1:\n",
    "        bcorrs_wsp = np.exp(-bdists/deco_wsp) \n",
    "        if deco_wsp > .1: # if less, call it zero (i.e. diagonal Sa)\n",
    "            bx_cov[:,:,1]  = sx_wsp * sx_wsp * bcorrs_wsp[:,:]  # FOR NON-LOC-DEP SX_SST    i.e.  cov = r * sig * sig\n",
    "\n",
    "    x_true = np.zeros_like(s_data[:2,:,:])\n",
    "    #print(x_true.shape, s_data.shape, np.tile(tback,nala*nalo).shape )\n",
    "    #for r in range(nrvar):\n",
    "    x_true[0,:,:] = np.random.multivariate_normal( np.tile(tback, nala*nalo), bx_cov[:,:,0]).reshape(s_data[0,:,:].shape)\n",
    "    if nrvar>1:\n",
    "        x_true[1,:,:] = np.random.multivariate_normal( np.tile(wsp, nala*nalo), bx_cov[:,:,1]).reshape(s_data[1,:,:].shape)\n",
    "        #x_true[r,:,:] = np.random.multivariate_normal( np.ravel(xa[r,:,:]), sx_cov[:,:,r]).reshape(xa[r,:,:].shape)\n",
    "\n",
    "    s_data[0:2,:,:] = x_true[:,:,:] # 'overwrite' s_data with the covariance-derived background "
   ]
  },
  {
   "cell_type": "code",
   "execution_count": null,
   "metadata": {},
   "outputs": [
    {
     "name": "stdout",
     "output_type": "stream",
     "text": [
      "rgrid dimensions:  (2, 33, 33)\n"
     ]
    },
    {
     "data": {
      "image/png": "[encoded data removed]",
      "text/plain": [
       "<Figure size 432x288 with 2 Axes>"
      ]
     },
     "metadata": {
      "needs_background": "light"
     },
     "output_type": "display_data"
    },
    {
     "data": {
      "image/png": "[encoded data removed]",
      "text/plain": [
       "<Figure size 432x288 with 2 Axes>"
      ]
     },
     "metadata": {
      "needs_background": "light"
     },
     "output_type": "display_data"
    }
   ],
   "source": [
    "\n",
    "# calculate 'x_back' (or background), which is mapping s_data to the retrieval grid\n",
    "x_back = np.zeros([nrvar, r_lat.size, r_lon.size])\n",
    "print('rgrid dimensions: ',x_back.shape)\n",
    "from scipy.interpolate import interp2d \n",
    "f = interp2d(ws.lon_grid, ws.lat_grid, s_data[0,:,:]) #, kind='cubic')\n",
    "x_back[0,:,:] = f(r_lon,r_lat)\n",
    "#print('std x1: ',np.std(x_back[0,:,:]))\n",
    "if nrvar>1:\n",
    "    f = interp2d(ws.lon_grid, ws.lat_grid, s_data[1,:,:]) #, kind='cubic')\n",
    "    x_back[1,:,:] = f(r_lon,r_lat)\n",
    "    #print('std x2: ',np.std(x_back[1,:,:]))\n",
    "\n",
    "\n",
    "# NOW write s_data into arts\n",
    "ws.Copy(ws.surface_props_data, s_data)  # define later?\n",
    "\n",
    "for r in range(nrvar):\n",
    "    plt.figure()\n",
    "    plt.imshow(s_data[r,:,:])\n",
    "    plt.colorbar()\n",
    "    #plt.figure()\n",
    "    #plt.imshow(x_back[r,:,:])\n",
    "    #plt.colorbar()\n"
   ]
  },
  {
   "cell_type": "markdown",
   "metadata": {},
   "source": [
    "# Finalize retrieval setup in ARTS, run yCalc for syn. observation vector"
   ]
  },
  {
   "cell_type": "code",
   "execution_count": null,
   "metadata": {},
   "outputs": [
    {
     "name": "stdout",
     "output_type": "stream",
     "text": [
      "running yCalc\n",
      "done initial yCalc\n"
     ]
    }
   ],
   "source": [
    "# first forward model call, to calculate synthetic observation vector\n",
    "print('running yCalc')\n",
    "ws.yCalc() \n",
    "print('done initial yCalc')\n",
    "initial_tb = np.copy(ws.y.value)  # copy into python memory\n",
    "#print(np.shape(initial_tb))\n",
    "\n",
    "\n",
    "# define first guess for x in iteration. if no ws.x is set before OEM runs, it uses ws.xa.\n",
    "#### flatten x_back / xa / whatever in correct order for ARTS\n",
    "firstg = np.concatenate([bla.flatten(order = \"f\") for bla in xa])\n",
    "ws.x = firstg\n",
    "#ws.x = ws.xa #firstg\n"
   ]
  },
  {
   "cell_type": "code",
   "execution_count": null,
   "metadata": {
    "scrolled": true
   },
   "outputs": [],
   "source": [
    "# formally set covarainces and prior for ARTS OEM:\n",
    "#  [use numpy copy to make damn sure arrays are separate in memory]\n",
    "\n",
    "ws.retrievalDefInit()  # initialize then add variables\n",
    "\n",
    "for r in range(nrvar):\n",
    "    ws.retrievalAddSurfaceQuantity( g1=r_lat, g2=r_lon, quantity=s_names[r])\n",
    "    ws.covmat_sxAddBlock(block = np.copy(np.squeeze(sx_cov[:,:,r])), i=r, j=r )  # for 'diagonal' blocks\n",
    "    \n",
    "# for cross-correlation blocks (if more than 2 vars, revisit this):\n",
    "#if nrvar>1:\n",
    "#    ws.covmat_sxAddBlock(block = np.copy(np.squeeze(sx_cov[:,:,2])), i=0, j=r )\n",
    "\n",
    "xa_forarts = np.concatenate([bla.flatten(order=\"F\") for bla in xa])  # ordering bullshit\n",
    "#xa_forarts = xa.flatten()\n",
    "ws.Copy(ws.xa, np.copy(xa_forarts))  # copy python xa to arts xa (everything collapsed to 1D)\n",
    "\n",
    "ws.covmat_seSet(np.copy(se_cov))\n",
    "\n",
    "ws.retrievalDefClose()\n"
   ]
  },
  {
   "cell_type": "markdown",
   "metadata": {},
   "source": [
    "# Define the iteration agenda for ARTS"
   ]
  },
  {
   "cell_type": "code",
   "execution_count": null,
   "metadata": {},
   "outputs": [],
   "source": [
    "# include 'clip' limits for retrieved variables\n",
    "from IPython.display import display, clear_output\n",
    "ic = 0\n",
    "#draw_fun = fig.canvas.draw\n",
    "plt.ion()\n",
    "#f, axs = plt.subplots(1, 2)\n",
    "#ax_sst, ax_w = axs\n",
    "#f.show()\n",
    "#\n",
    "#def update():\n",
    "#    f.canvas.draw()\n",
    "ceems = cmo.solar\n",
    "ceemb = cmo.balance\n",
    "\n",
    "@arts_agenda\n",
    "def inversion_iterate_agenda(ws):\n",
    "    ws.Ignore(ws.inversion_iteration_counter) # on simon's advice\n",
    "    \n",
    "    ws.xClip(ijq = 0, limit_low = 272.0, limit_high = 310.0)  #limits retrieval range of SST\n",
    "    if nrvar>1: ws.xClip(ijq = 1, limit_low = 0.5, limit_high = 20.0)  # limits wind_speed range\n",
    "        \n",
    "    ws.x2artsAtmAndSurf()  # map x to ARTS's variables -- THIS INVOLVES ARTS RESHAPE OF 1D to 3D FIELDS!\n",
    "    \n",
    "    x_iter = np.copy( ws.x.value ).reshape(nrvar, r_lat.size, r_lon.size) \n",
    "    xb_iter = np.copy( ws.surface_props_data.value ).reshape(4, nala, nalo) # on arts background grid\n",
    "    #x_iter[0,:,:] = np.copy(ws.x.value[0:r_lon.size*r_lat.size]).reshape(r_lat.size, r_lon.size, order=\"F\") \n",
    "    #if nrvar>1:\n",
    "    #    x_iter[1,:,:] = np.copy(ws.x.value[r_lon.size*r_lat.size:]).reshape(r_lat.size, r_lon.size, order=\"F\") \n",
    "    \n",
    "    ws.yCalc() \n",
    "\n",
    "    ws.Copy(ws.y_baseline, np.zeros([initial_tb.size])) # kinda silly but necessary?\n",
    "    ws.VectorAddVector( ws.yf, ws.y, ws.y_baseline )  # add baseline term (need to create ws.yf)\n",
    "    \n",
    "    # this takes care of some fixes needed to get the jacobian right for iterative solutions:\n",
    "    ws.jacobianAdjustAndTransform()\n",
    "    \n",
    "    #\n",
    "    # Debug stuff: view fields as iteration progresses (will show up below OEM call)\n",
    "    \n",
    "    if np.mod(ic,2)==0:\n",
    "        f, (ax_sst, ax_w) = plt.subplots(1, 2, figsize=[16,7])\n",
    "    \n",
    "        ax_sst.set_title('SST, Iter='+str(ic//2))\n",
    "        ax_w.set_title('Wind, Iter='+str(ic//2))\n",
    "    \n",
    "        vch = 2 # cbar change value (both sst/wsp)\n",
    "        #ax_sst.matshow(x_iter[0,:,:]-x_back[0,:,:], vmin=-vch, vmax=vch, cmap=ceemb)\n",
    "        ax_sst.matshow(xb_iter[0,:,:]-s_data[0,:,:], vmin=-vch, vmax=vch, cmap=ceemb)\n",
    "        sms = plt.cm.ScalarMappable(cmap=ceemb, norm= plt.Normalize(vmin=-vch,vmax=vch))\n",
    "        sms._A = []\n",
    "        cbs = plt.colorbar(sms, ax=ax_sst)\n",
    "        if nrvar>1:\n",
    "            #ax_w.matshow(x_iter[1,:,:]-x_back[1,:,:], vmin=-vch, vmax=vch, cmap=ceemb)\n",
    "            ax_w.matshow(xb_iter[1,:,:]-s_data[1,:,:], vmin=-vch, vmax=vch, cmap=ceemb)\n",
    "            smw = plt.cm.ScalarMappable(cmap=ceemb, norm= plt.Normalize(vmin=-vch,vmax=vch))\n",
    "            smw._A = []\n",
    "            cbw = plt.colorbar(smw, ax=ax_w)\n",
    "    \n",
    "        clear_output(wait=True)\n",
    "        display(f)  # outputs figure with x vectors to screen\n",
    "    \n",
    "    ic += 1\n",
    "\n",
    "ws.Copy(ws.inversion_iterate_agenda, inversion_iterate_agenda)"
   ]
  },
  {
   "cell_type": "markdown",
   "metadata": {},
   "source": [
    "# Perturb synthetic measurement, call OEM"
   ]
  },
  {
   "cell_type": "code",
   "execution_count": null,
   "metadata": {},
   "outputs": [
    {
     "name": "stdout",
     "output_type": "stream",
     "text": [
      "last gasp\n"
     ]
    }
   ],
   "source": [
    "# before calling OEM, modify (synthetic) observation vector by adding noise and/or bias offsets:\n",
    "\n",
    "# add random gaussian noise to y -- mean, std, # of random samples\n",
    "for c in range(nf):   #for chan-specific sensor noise -- assumes V/H-pol have same noise \n",
    "    initial_tb[2*c::nf*2]   += np.random.normal(0, noise_fac*nedt[c], initial_tb[::nf*2].size)   #bias=0,\n",
    "    initial_tb[2*c+1::nf*2] += np.random.normal(0, noise_fac*nedt[c], initial_tb[::nf*2].size)   #gaussian noise\n",
    "ws.Copy(ws.y, initial_tb)  # copy to the ARTS y vector prior to running OEM\n",
    "\n",
    "if np.diagonal(se_cov).size != initial_tb.size:\n",
    "    print('Se covariance matrix and Tb vector not same size!')\n",
    "    aaaaandstop\n",
    "\n",
    "print('last gasp')"
   ]
  },
  {
   "cell_type": "code",
   "execution_count": null,
   "metadata": {
    "scrolled": false
   },
   "outputs": [
    {
     "data": {
      "image/png": "[encoded data removed]",
      "text/plain": [
       "<Figure size 1152x504 with 4 Axes>"
      ]
     },
     "metadata": {},
     "output_type": "display_data"
    }
   ],
   "source": [
    "# Call OEM:\n",
    "\n",
    "#  note: LM is better for non-linear problems and sfc retrieval should be very linear, so stick with GN/GN_CG\n",
    "ws.OEM(method=\"gn\",  # in one test LM took ~3x longer than GN!!\n",
    "    max_iter=5,\n",
    "    display_progress=1,\n",
    "    max_start_cost=1e5,\n",
    "    stop_dx=.4, # default is .01? -- this is to limit iterations, can dial back later for more exactness\n",
    "    lm_ga_settings=np.array([10.0,2.0,3.0,10000000000.0,1.0,1.0])) # only applicable if method='lm'\n",
    "\n",
    "ws.Print(ws.oem_errors, 0)  # print any errors to terminal\n",
    "\n",
    "endt = time. time()\n",
    "print('Completion time [s]:',endt - startt)"
   ]
  },
  {
   "cell_type": "code",
   "execution_count": null,
   "metadata": {},
   "outputs": [],
   "source": [
    "print(np.trace(Amat[:len_rgrid,:len_rgrid]))\n",
    "print(np.trace(Amat[len_rgrid:,len_rgrid:]))"
   ]
  },
  {
   "cell_type": "code",
   "execution_count": null,
   "metadata": {
    "scrolled": true
   },
   "outputs": [],
   "source": [
    "###### calculate averaging kernel (A matrix) and a posteriori \n",
    "# A matrix, S_o, S_s are all same size: [x,x] where x=npix*nscans*nretvar\n",
    "ws.avkCalc()\n",
    "Amat = ws.avk.value\n",
    "print('Trace of A Matrix: ', np.trace(Amat))   #Trace(A) yields DOF for signal.\n",
    "print('(out of possible points and vars:',np.diagonal(Amat).size)\n",
    "print('  ...so DOF per retr grid point: ',np.trace(Amat)/np.diagonal(Amat).size)\n",
    "\n",
    "ws.covmat_soCalc()\n",
    "post = ws.covmat_so.value  # posterior error covariance matrix\n",
    "ws.covmat_ssCalc()\n",
    "smoov = ws.covmat_ss.value  # posterior error covariance matrix\n",
    "# should be [x,x], providing uncertainties of each retrieved var, where x=npix*nscans*nretvar\n",
    " \n",
    "### ARTS method: \"Extracts error estimates for retr quantities from covariance\n",
    "##  matrices for the error due to measurement noise covmat_so and the error \n",
    "##  due to limited resolution of the observation system\" -- fwd model and smoothing errors.\n",
    "ws.retrievalErrorsExtract( ws.covmat_so, ws.covmat_ss)  \n",
    "#print(np.shape(ws.retrieval_eo.value), np.shape(ws.retrieval_ss.value))\n",
    "obs_err = np.copy(ws.retrieval_eo.value[:len_rgrid].reshape(r_lat.size,r_lon.size,order=\"F\"))\n",
    "smo_err = np.copy(ws.retrieval_ss.value[:len_rgrid].reshape(r_lat.size,r_lon.size,order=\"F\"))\n",
    "if nrvar>1:\n",
    "    obs_err2 = np.copy(ws.retrieval_eo.value[len_rgrid:].reshape(r_lat.size,r_lon.size,order=\"F\"))\n",
    "    smo_err2 = np.copy(ws.retrieval_ss.value[len_rgrid:].reshape(r_lat.size,r_lon.size,order=\"F\"))\n",
    "    \n",
    "vmi,vma = .1,.5\n",
    "cm=cmo.thermal\n",
    "#plt.pcolor(obs_err,vmin=vmi,vmax=vma,cmap=cm)\n",
    "#plt.colorbar()\n",
    "#plt.show()\n",
    "#plt.pcolor(smo_err,vmin=vmi,vmax=vma,cmap=cm)\n",
    "#plt.colorbar()\n",
    "#plt.show()\n",
    "#plt.pcolor(obs_err2,vmin=vmi,vmax=vma,cmap=cm)\n",
    "#plt.colorbar()\n",
    "#plt.show()\n",
    "#plt.pcolor(smo_err2,vmin=vmi,vmax=vma,cmap=cm)\n",
    "#plt.colorbar()\n",
    "#plt.show()\n",
    "#plt.pcolor(obs_err+smo_err,vmin=.2,vmax=.6,cmap=cm)\n",
    "#plt.colorbar()\n",
    "#plt.show()\n",
    "#plt.pcolor(obs_err2+smo_err2,vmin=.2,vmax=.6,cmap=cm)\n",
    "#plt.colorbar()\n",
    "#plt.show()\n",
    "\n",
    "# save error arrays in case of multi-case plot later:\n",
    "np.save('arrs/obs-err1_'+pv, obs_err)\n",
    "np.save('arrs/smo-err1_'+pv, smo_err)\n",
    "if nrvar>1:\n",
    "    np.save('arrs/obs-err2_'+pv, obs_err2)\n",
    "    np.save('arrs/smo-err2_'+pv, smo_err2)\n"
   ]
  },
  {
   "cell_type": "code",
   "execution_count": null,
   "metadata": {},
   "outputs": [],
   "source": [
    "# save total errr plot\n",
    "f, axs = plt.subplots(1, 2, figsize=[15,5])\n",
    "ax_sst, ax_wsp = axs\n",
    "errno = plt.Normalize(vmin=.1,vmax=np.max(obs_err+smo_err))\n",
    "cm=cmo.thermal\n",
    "ax_sst.pcolor(obs_err +smo_err,  norm=errno, cmap=cm)\n",
    "ax_wsp.pcolor(obs_err2+smo_err2, norm=errno, cmap=cm)\n",
    "sm = plt.cm.ScalarMappable(cmap=cm, norm=errno)\n",
    "sm._A = []\n",
    "cb = plt.colorbar(sm,ax=ax_sst,label='SST (tot) error')\n",
    "sm2 = plt.cm.ScalarMappable(cmap=cm, norm=errno)\n",
    "sm2._A = []\n",
    "cb2 = plt.colorbar(sm2,ax=ax_wsp,label='Wind (tot) error')\n",
    "f.savefig('')\n",
    "if sv: plt.savefig('img2/tot-err_'+pv+'.png',bbox_inches='tight',dpi=350)\n",
    "plt.show()"
   ]
  },
  {
   "cell_type": "code",
   "execution_count": null,
   "metadata": {},
   "outputs": [],
   "source": [
    "# from middle of retrieval grid, judge where the dominant error is coming from:\n",
    "ed1,ed2 = int(.4/r_resa),int(.4/r_reso)\n",
    "print(ed1,ed2)\n",
    "print('ratio of smoothing to obs error (sst): ',np.mean( smo_err[ed2:-ed2,ed1:-ed1]/obs_err[ed2:-ed2,ed1:-ed1]))\n",
    "print('ratio of smoothing to obs error (wsp): ',np.mean(smo_err2[ed2:-ed2,ed1:-ed1]/obs_err2[ed2:-ed2,ed1:-ed1]))\n",
    "\n",
    "plt.plot(ws.y.value - ws.yf.value)  # quick dump of sim vs. 'obs' TBs in no [understandable] order"
   ]
  },
  {
   "cell_type": "markdown",
   "metadata": {},
   "source": [
    "# Map variables back to scan/pixel arrays"
   ]
  },
  {
   "cell_type": "code",
   "execution_count": null,
   "metadata": {},
   "outputs": [],
   "source": [
    "# yf is y_fit whereas y itself is the measurement vector here, so obs-sim is y-yf:\n",
    "ydif = np.copy( ws.y.value - ws.yf.value )\n",
    "ysim = np.copy( ws.yf.value)\n",
    "\n",
    "xretr = np.zeros_like(x_back)\n",
    "xretr[0,:,:] = np.copy(ws.x.value[:len_rgrid].reshape(r_lat.size,r_lon.size,order=\"F\"))\n",
    "if nrvar>1:\n",
    "    xretr[1,:,:] = np.copy(ws.x.value[len_rgrid:].reshape(r_lat.size,r_lon.size,order=\"F\"))\n",
    "\n",
    "xdif = xretr - x_back    # save retr vs prior/background on rgrid\n",
    "xdif_a = xretr - xa       # save difference of apriori vs retrieved\n",
    "\n",
    "geo = np.copy(ws.y_geo.value) #columns are altitude, lat, lon, zenith, azimuth of measurement geoposition\n",
    "# y vector should be of size [nf*2 (stokes dim 2) ] * npix*nscans  \n",
    "\n",
    "# vars coming out of yCalc should be in order, nch then npix then nscans, i.e.:\n",
    "## with nch=6 first 6 values are from pix1,sc1 then next 6 are pix2,sc1 and so on -- be careful!\n",
    "# can compare geo[:,3] (az) to EIA from L1R (later), just 180-az to get EIA\n",
    "\n",
    "\n",
    "# convert vectors back to scan/pixel matrices:\n",
    "sim_tb = np.zeros([nscans,npix,nf*2])\n",
    "dif_tb = np.zeros([nscans,npix,nf*2]) \n",
    "arts_pos = np.zeros([nscans,npix,4]) \n",
    "#print(nf*2,npix,nscans)\n",
    "\n",
    "for c in range(nf*2):\n",
    "    sim_tb[:,:,c] = ysim[c::nf*2].reshape(nscans,npix)\n",
    "    dif_tb[:,:,c] = ydif[c::nf*2].reshape(nscans,npix)\n",
    "    for bb in range(4):\n",
    "        arts_pos[:,:,bb] = geo[c::nf*2,bb+1].reshape(nscans,npix)  # lat,lon,zenith,azimuth\n",
    "        ## arts obs points -- can differ slightly from prescribed, defined where max response is registered!"
   ]
  },
  {
   "cell_type": "code",
   "execution_count": null,
   "metadata": {},
   "outputs": [],
   "source": [
    "# just diagonal elements from A matrix, back to rlat/rlon grid\n",
    "#Amat_d_re = np.zeros_like(x_back) \n",
    "#Amat_d_re[0,:,:] = np.copy( np.diagonal(Amat)[:len_rgrid].reshape(r_lat.size,r_lon.size,order=\"F\"))\n",
    "#if nrvar>1:\n",
    "#    Amat_d_re[1,:,:] = np.copy( np.diagonal(Amat)[len_rgrid:].reshape(r_lat.size,r_lon.size,order=\"F\"))\n",
    "    \n",
    "# want to fill [npts,rlat,rlon] grid with A values for each retrieval var\n",
    "\n",
    "Amat_chosen1 = np.copy( Amat[:len_rgrid, :len_rgrid].reshape(len_rgrid,r_lat.size,r_lon.size,order=\"F\") )\n",
    "print(np.shape(Amat_chosen1))\n",
    "# first quadrant of Amat (SST)\n",
    "if nrvar>1:\n",
    "    ## 2nd quadrant of Amat (wind)\n",
    "    Amat_chosen2 = np.copy( Amat[len_rgrid:, len_rgrid:].reshape(len_rgrid,r_lat.size,r_lon.size,order=\"F\") )\n",
    "\n",
    "# pick a rgrid point in middle of grid and extract Amat:\n",
    " # [if even number of points in rlon grid, need this to pick point near center of grid]\n",
    "rchos= 0 \n",
    "if np.mod(r_lon.size,2)==0:\n",
    "    rchose = int(r_lat.size/2)\n",
    "ehn = int(len_rgrid/2.0 +rchos)\n",
    "#print(ehn, rchos)\n",
    "print('A1 sum: ',np.sum(Amat_chosen1[ehn,:,:]))\n",
    "print('A2 sum: ',np.sum(Amat_chosen2[ehn,:,:]))\n",
    "\n",
    "# try gridspec?\n",
    "import matplotlib.gridspec as gridspec\n",
    "f1 = plt.figure(figsize=[14,12])\n",
    "gs = gridspec.GridSpec(3, 2, height_ratios = [0.05, 1.0, 1.0])#, figsize=[14,14])\n",
    "ax_cb1 = plt.subplot(gs[0, 0])\n",
    "ax_cb2 = plt.subplot(gs[0, 1])\n",
    "# Plot first image and draw colorbar in axes above.\n",
    "ax_im1 = plt.subplot(gs[1, 0])\n",
    "ax_im2 = plt.subplot(gs[1, 1])\n",
    "ax_p1  = plt.subplot(gs[2, 0])\n",
    "ax_p2  = plt.subplot(gs[2, 1])\n",
    "\n",
    "plt.style.use('bmh')\n",
    "fs = 16\n",
    "# to fix the lat/lon, since pcolor uses grid corners not midpoints:\n",
    "rjp = rj-r_reso/2\n",
    "rip = ri-r_resa/2\n",
    "pangl = -np.mean(arts_pos[:,:,3])  # just taking the mean angular orientation of FOVs from whole scene\n",
    "awidths = widths * 360.0/40075. #/ np.abs(np.cos(np.mean(ri)*np.pi/180.)) # scale widths by cos(lat)\n",
    "aheights= heights* 360.0/40075. \n",
    "#aheights /= np.abs(np.cos(np.mean(ri)*np.pi/180.)) # scale heights by cos(lat)\n",
    "#awidths /= np.abs(np.cos(np.mean(ri)*np.pi/180.))  # scale widths  by cos(lat)\n",
    "achans = [0,4,6,8]\n",
    "\n",
    "cmavk = cmo.dense\n",
    "av1mx = np.max(Amat_chosen1[ehn,:,:])\n",
    "avoff = 0.6  # degrees width on either side to be shown in figures\n",
    "thenorma1 = plt.Normalize(vmin=np.min(Amat_chosen1[ehn,:,:]),vmax=av1mx)\n",
    "im1 = ax_im1.pcolormesh(rjp,rip,Amat_chosen1[ehn,:,:], cmap=cmavk, norm=thenorma1)\n",
    "ax_im1.contour(rj,ri, Amat_chosen1[ehn,:,:], levels=[av1mx/2,av1mx], colors='white')\n",
    "cb1 = plt.colorbar(im1, cax=ax_cb1, label='SST averaging kernel', orientation='horizontal')\n",
    "cb1.locator = ticker.MaxNLocator(nbins=5) \n",
    "cb1.update_ticks()\n",
    "max_ind = np.unravel_index(np.argmax(Amat_chosen1[ehn,:,:], axis=None), rj.shape)\n",
    "ella = [Ellipse(xy=[rj[max_ind],ri[max_ind]], width=awidths[int(k/2)], height=aheights[int(k/2)], \n",
    "            angle=pangl, linewidth=0.6, alpha=0.4, fill=False, color='black') for k in achans]\n",
    "ax_im1.set_xlim([lon0-avoff, lon0+avoff]) #(if) shared axes, applies to both\n",
    "ax_im1.set_ylim([lat0-avoff, lat0+avoff]) \n",
    "ax_im1.set_ylabel('Latitude [$\\degree$N]', fontsize=fs-2)\n",
    "ax_im1.set_xlabel('Longitude [$\\degree$E]', fontsize=fs-2)\n",
    "ax_im2.set_xlabel('Longitude [$\\degree$E]', fontsize=fs-2)\n",
    "for el in ella:\n",
    "    ax_im1.add_artist(el)\n",
    "if nrvar>1:\n",
    "    av2mx = np.max(Amat_chosen2[ehn,:,:])\n",
    "    thenorma2 = plt.Normalize(vmin=np.min(Amat_chosen2[ehn,:,:]),vmax=av2mx)\n",
    "    max_ind = np.unravel_index(np.argmax(Amat_chosen2[ehn,:,:], axis=None), rj.shape)\n",
    "    ella2 = [Ellipse(xy=[rj[max_ind],ri[max_ind]], width=awidths[int(k/2)], height=aheights[int(k/2)], \n",
    "            angle=pangl, linewidth=0.6, alpha=0.4, fill=False, color='black') for k in achans]\n",
    "    im2 = ax_im2.pcolormesh(rjp,rip,Amat_chosen2[ehn,:,:], cmap=cmavk, norm=thenorma2)\n",
    "    ax_im2.contour(rj,ri, Amat_chosen2[ehn,:,:], levels=[av2mx/2,av2mx], colors='white')\n",
    "    cb2 = plt.colorbar(im2, cax=ax_cb2, label='WSP averaging kernel', orientation='horizontal')\n",
    "    cb2.locator = ticker.MaxNLocator(nbins=5) \n",
    "    cb2.update_ticks()\n",
    "    for el in ella2:\n",
    "        ax_im2.add_artist(el)\n",
    "    ax_im2.set_xlim([lon0-avoff, lon0+avoff]) #(if) shared axes, applies to both\n",
    "    ax_im2.set_ylim([lat0-avoff, lat0+avoff]) \n",
    "        \n",
    "ax_p1.plot(rj[int(r_lat.size/2),:], Amat_chosen1[ehn,int(r_lat.size/2),:], label='SST')\n",
    "ax_p1.plot(rj[int(r_lat.size/2),:], Amat_chosen2[ehn,int(r_lat.size/2),:], label='WSP')\n",
    "ax_p1.set_ylabel('Averaging kernel', fontsize=fs-2)\n",
    "ax_p1.set_xlabel('Longitude [$\\degree$E]', fontsize=fs-2)\n",
    "ax_p1.set_xlim(lon0-avoff, lon0+avoff)\n",
    "ax_p1.legend(fontsize=fs)\n",
    "ax_p2.plot(Amat_chosen1[ehn,:,int(r_lon.size/2)],ri[:,int(r_lon.size/2)],  label='SST') #10:38\n",
    "ax_p2.plot(Amat_chosen2[ehn,:,int(r_lon.size/2)],ri[:,int(r_lon.size/2)],  label='WSP')\n",
    "ax_p2.set_ylim(lat0-avoff, lat0+avoff)\n",
    "ax_p2.set_ylabel('Latitude [$\\degree$N]', fontsize=fs-2)\n",
    "ax_p2.set_xlabel('Averaging kernel', fontsize=fs-2)\n",
    "ax_p2.legend(fontsize=fs)\n",
    "        \n",
    "apvr = 'v2'\n",
    "plt.savefig('img2/avgk_4pan_overlaid_'+pv+'_'+apvr+'.png', bbox_inches='tight', dpi=300)\n"
   ]
  },
  {
   "cell_type": "code",
   "execution_count": null,
   "metadata": {
    "scrolled": true
   },
   "outputs": [],
   "source": [
    "# take one row of A matrix from each retr variable block:\n",
    "dexes = np.random.choice(range(len_rgrid), 6)\n",
    "for c in dexes:\n",
    "    print('sst @',c,np.sum(Amat[:len_rgrid, :len_rgrid][c,:]))\n",
    "    print('wsp @',c,np.sum(Amat[len_rgrid:, len_rgrid:][c,:]))\n"
   ]
  },
  {
   "cell_type": "code",
   "execution_count": null,
   "metadata": {
    "scrolled": false
   },
   "outputs": [],
   "source": [
    "## yf is y_fit whereas y itself is the measurement vector here, so obs-sim is y-yf:\n",
    "#ydif = np.copy( ws.y.value - ws.yf.value )\n",
    "#ysim = np.copy( ws.yf.value)\n",
    "#\n",
    "#xretr = np.zeros_like(x_truth)\n",
    "#xretr[0,:,:] = np.copy(ws.x.value[:len_rgrid].reshape(r_lat.size,r_lon.size,order=\"F\"))\n",
    "#if nrvar>1:\n",
    "#    xretr[1,:,:] = np.copy(ws.x.value[len_rgrid:].reshape(r_lat.size,r_lon.size,order=\"F\"))\n",
    "#\n",
    "#xdif = xretr - x_truth    # save retr vs truth on rgrid\n",
    "#xdif_a = xretr - xa       # save difference of apriori vs retrieved\n",
    "#\n",
    "#geo = np.copy(ws.y_geo.value) #columns are altitude, lat, lon, zenith, azimuth of measurement geoposition\n",
    "#print(np.shape(ws.y.value))\n",
    "## y vector should be of size [nf*2 (stokes dim 2) ] * npix*nscans  \n",
    "#\n",
    "## vars coming out of yCalc should be in order, nch then npix then nscans, i.e.:\n",
    "### with nch=6 first 6 values are from pix1,sc1 then next 6 are pix2,sc1 and so on -- be careful!\n",
    "## can compare geo[:,3] (az) to EIA from L1R (later), just 180-az to get EIA\n",
    "#\n",
    "#\n",
    "## convert vectors back to scan/pixel matrices:\n",
    "#sim_tb = np.zeros([nscans,npix,nf*2])\n",
    "#dif_tb = np.zeros([nscans,npix,nf*2]) \n",
    "#arts_pos = np.zeros([nscans,npix,4]) \n",
    "#print(nf*2,npix,nscans)\n",
    "#\n",
    "#for c in range(nf*2):\n",
    "#    sim_tb[:,:,c] = ysim[c::nf*2].reshape(nscans,npix)\n",
    "#    dif_tb[:,:,c] = ydif[c::nf*2].reshape(nscans,npix)\n",
    "#    for bb in range(4):\n",
    "#        arts_pos[:,:,bb] = geo[c::nf*2,bb+1].reshape(nscans,npix) \n",
    "#        ## arts obs points -- can differ slightly from prescribed, defined where max response is registered!\n",
    "#        \n",
    "#    \n",
    "#print(np.shape(dif_tb))\n",
    "#plt.imshow(dif_tb[:,:,0]) # 6V obs-sim\n",
    "#plt.colorbar()\n",
    "#plt.show()\n",
    "#plt.imshow(dif_tb[:,:,nf*2-1]) # last _H obs-sim\n",
    "#plt.colorbar()\n",
    "#plt.show()\n",
    "#"
   ]
  },
  {
   "cell_type": "markdown",
   "metadata": {},
   "source": [
    "# Plot results"
   ]
  },
  {
   "cell_type": "code",
   "execution_count": null,
   "metadata": {},
   "outputs": [],
   "source": [
    "\n",
    "projj = ccrs.PlateCarree()\n",
    "inn =  .4\n",
    "reg = [np.min(la_grid)+inn, np.max(la_grid)-inn,\n",
    "           np.min(lo_grid)+inn, np.max(lo_grid)-inn]\n",
    "rreg = [np.min(r_lat), np.max(r_lat),\n",
    "           np.min(r_lon), np.max(r_lon)]\n",
    "reg = np.round(reg,1)\n",
    "rreg = np.round(rreg,1)\n",
    "print('region: ',reg)\n",
    "print('r region: ',rreg)"
   ]
  },
  {
   "cell_type": "code",
   "execution_count": null,
   "metadata": {
    "scrolled": false
   },
   "outputs": [],
   "source": [
    "#\n",
    "#ks = [0,5]#,nf*2-1] # channel indices to plot\n",
    "#\n",
    "#for k in ks:\n",
    "#    # provide x,y coords, width, height, angle of each FOV-- make an ellipse\n",
    "#    ells = [Ellipse(xy=[arts_pos[i,j,1],arts_pos[i,j,0]], width=widths[int(k/2)], height=heights[int(k/2)], \n",
    "#                    angle=-arts_pos[i,j,3], linewidth=0.2, alpha=0.7, fill=False) \n",
    "#            for i in range(nscans) for j in range(npix)]# for k in [0]] #range(nf*2)]\n",
    "#\n",
    "#    fig = plt.figure(figsize=[18,10])\n",
    "#    ax = plt.subplot(111, projection=projj )\n",
    "#\n",
    "#    ax.set_xlim(left=reg[2], right=reg[3])\n",
    "#    ax.set_ylim(bottom=reg[0], top=reg[1])\n",
    "#    nx,ny = 5,5\n",
    "#    ax.set_xticks( np.linspace(reg[2],reg[3], nx) )\n",
    "#    ax.set_yticks( np.linspace(reg[0],reg[1], ny) )\n",
    "#\n",
    "#    #sdif = np.max(np.abs(tmean-s_data[0,:,:])) # set colorbar limits by largest abs deviation from tmean?\n",
    "#    thenorm1=plt.Normalize(vmin = np.min(s_data[0,:,:])-1, vmax = np.max(s_data[0,:,:])+1)\n",
    "#    ceem1=cmo.dense\n",
    "#    #bb= ax.pcolormesh(lon_grid,lat_grid,s_data[0,:,:],norm=thenorm1, # so SST\n",
    "#    bb= ax.contourf(ws.lon_grid,ws.lat_grid,s_data[0,:,:], 10, norm=thenorm1, # so SST\n",
    "#                 transform=projj, cmap=ceem1)\n",
    "#\n",
    "#    for e in ells[:]: \n",
    "#        ax.add_artist(e)\n",
    "#\n",
    "#    vmin, vmax = -np.max(np.abs(dif_tb[:,:,k])), np.max(np.abs(dif_tb[:,:,k]))\n",
    "#    thenorm = plt.Normalize(vmin=vmin,vmax=vmax)\n",
    "#    ceem = cmo.balance #thermal\n",
    "#    ax.scatter( arts_pos[:,:,1], arts_pos[:,:,0], s=100.0, c=dif_tb[:,:,k], marker='o', \\\n",
    "#                transform=projj, alpha=0.8, cmap=ceem, norm=thenorm);\n",
    "#    sm = plt.cm.ScalarMappable(cmap=ceem, norm=thenorm)\n",
    "#    sm._A = []\n",
    "#    cb = plt.colorbar(sm,ax=ax)\n",
    "#    cb.set_label(ch_str[k]+' TB [K] (obs-sim)')\n",
    "#    sm1 = plt.cm.ScalarMappable(cmap=ceem1, norm=thenorm1)\n",
    "#    sm1._A = []\n",
    "#    cb1 = plt.colorbar(sm1,ax=ax)\n",
    "#    cb1.set_label('SST [K]')\n",
    "#\n",
    "#    if sv: plt.savefig('img2/retr-y_syn_'+ch_str[k]+'_'+pv+'.png',bbox_inches='tight',dpi=350)\n",
    "#    plt.show()\n",
    "#\n",
    "#\n",
    "#"
   ]
  },
  {
   "cell_type": "code",
   "execution_count": null,
   "metadata": {},
   "outputs": [],
   "source": [
    "plt.style.use('seaborn')\n",
    "\n",
    "ydif_figsize = [18,12]\n",
    "f2 = plt.figure(figsize=ydif_figsize)\n",
    "\n",
    "#f, ax_tb = plt.subplots(nrows=int(np.ceil(nf/2)), ncols=4, figsize=ydif_figsize,\n",
    "#                        subplot_kw=dict(projection=projj), sharex=True, sharey=True)\n",
    "topl = 0\n",
    "nx,ny = 5,5\n",
    "ceem1 = 'Greys' #cmo.algae\n",
    "ceem  = cmo.balance #coolwarm' #cmo.balance #thermal\n",
    "kd = np.array([[0,1,2,3],[4,5,6,7],[8,9,10,11]]) # lazy coding, row indexing\n",
    "gs = gridspec.GridSpec(3, 5, width_ratios = [1,1,1,1,.06])\n",
    "\n",
    "for k in range(nf*2):\n",
    "    kx, ky = int(np.floor(k/4)), np.mod(k,4)\n",
    "    # provide x,y coords, width, height, angle of each FOV-- make an ellipse\n",
    "    ell_lo = [Ellipse(xy=[arts_pos[i,j,1],arts_pos[i,j,0]], width=awidths[int(k/2)], height=aheights[int(k/2)], \n",
    "            angle=-arts_pos[i,j,3], linewidth=0.2, alpha=0.7, fill=False, color='black') \n",
    "              for i in [0,nscans-1] for j in range(npix)[1:-1]]\n",
    "    ell_lo += [Ellipse(xy=[arts_pos[i,j,1],arts_pos[i,j,0]], width=awidths[int(k/2)], height=aheights[int(k/2)], \n",
    "            angle=-arts_pos[i,j,3], linewidth=0.2, alpha=0.7, fill=False, color='black') \n",
    "               for i in range(nscans) for j in [0,npix-1] ] \n",
    "\n",
    "    ax_tb = plt.subplot(gs[kx,ky], projection=projj)\n",
    "    if k > 5: topl=1   # so plot contours of SST for first 6 panels, WSP for last 6\n",
    "    thenorm1=plt.Normalize(vmin = np.min(s_data[topl,:,:]), vmax = np.max(s_data[topl,:,:]))\n",
    "    #thenorm1=plt.Normalize(vmin = np.min(xretr[topl,:,:])-1, vmax = np.max(xretr[topl,:,:])+3)\n",
    "    #bb= ax.pcolormesh(lon_grid,lat_grid,s_data[0,:,:],norm=thenorm1, # so SST\n",
    "    bb= ax_tb.contourf(ws.lon_grid,ws.lat_grid,s_data[topl,:,:], 30, norm=thenorm1,\n",
    "                 transform=ccrs.PlateCarree(), cmap=ceem1)\n",
    "    ax_tb.set_extent([rreg[2],rreg[3],rreg[0],rreg[1]])\n",
    "    ax_tb.coastlines(resolution='10m')\n",
    "\n",
    "    for e in ell_lo[:]: \n",
    "        ax_tb.add_artist(e)\n",
    "\n",
    "    vmin, vmax = -np.max(np.abs(dif_tb[:,:,kd[kx,:]])), np.max(np.abs(dif_tb[:,:,kd[kx,:]]))\n",
    "    thenorm = plt.Normalize(vmin=vmin,vmax=vmax)\n",
    "    sct = ax_tb.scatter( arts_pos[:,:,1], arts_pos[:,:,0], s=30.0, c=dif_tb[:,:,k], marker='o', \\\n",
    "                transform=ccrs.PlateCarree(), alpha=1.0, cmap=ceem, norm=thenorm);\n",
    "    txt = ax_tb.text(.08, .85, ch_str[k], fontsize=fs+2, color='black',transform=ax_tb.transAxes)\n",
    "    #txt = ax_tb.text(rreg[2]+.10, rreg[1]-.25, ch_str[k], fontsize=fs+2, color='black')\n",
    "    txt.set_path_effects([path_effects.Stroke(linewidth=3, foreground='white'),\n",
    "                       path_effects.Normal()])\n",
    "        \n",
    "    if ky==0:\n",
    "        ax_tb.set_yticks( np.linspace(rreg[0],rreg[1], ny) )\n",
    "        ax_tb.set_ylabel( 'Latitude [$\\degree$N]',fontsize=fs)\n",
    "    if kx==2:\n",
    "        ax_tb.set_xticks( np.linspace(rreg[2],rreg[3], nx) )\n",
    "        ax_tb.set_xlabel( 'Longitude [$\\degree$E]',fontsize=fs)\n",
    "    if ky==3: # end of row, create colorbar for row:\n",
    "        cb1 = plt.colorbar(sct, cax=plt.subplot(gs[kx,4]), label='Obs-Sim $T_B$ [K]', shrink=.8,\n",
    "           norm=plt.Normalize(vmin=-np.max(np.abs(dif_tb[:,:,kd[kx,:]])), vmax=np.max(np.abs(dif_tb[:,:,kd[kx,:]]))) )\n",
    "        cb1.locator = ticker.MaxNLocator(nbins=5) \n",
    "        cb1.update_ticks()\n",
    "        \n",
    "plt.subplots_adjust( wspace=.03,hspace=.07) #, right=.9)\n",
    "if sv: plt.savefig('img2/ydif_'+pv+'.png',bbox_inches='tight',dpi=220)\n",
    "plt.show()\n"
   ]
  },
  {
   "cell_type": "code",
   "execution_count": null,
   "metadata": {},
   "outputs": [],
   "source": [
    "## older subplot version of tb plot, with colorbars for each panel, instead of using gridspec and 3 colorbars total\n",
    "#plt.style.use('seaborn')\n",
    "#\n",
    "#ydif_figsize = [18,12]\n",
    "##if scene=='aus': ydif_figsize = [18,8]\n",
    "#f, ax_tb = plt.subplots(nrows=int(np.ceil(nf/2)), ncols=4, figsize=ydif_figsize,\n",
    "#                        subplot_kw=dict(projection=projj), sharex=True, sharey=True)\n",
    "#topl = 0\n",
    "#nx,ny = 5,5\n",
    "#ceem1 = cmo.dense\n",
    "#ceem  = cmo.balance #thermal\n",
    "#kd = np.array([[0,1,2,3],[4,5,6,7],[8,9,10,11]]) # lazy coding, row indexing\n",
    "##gs = gridspec.GridSpec(3, 5, width_ratios = [1,1,1,1,.2])\n",
    "#\n",
    "#for k in range(nf*2):\n",
    "#    kx, ky = int(np.floor(k/4)), np.mod(k,4)\n",
    "#    # provide x,y coords, width, height, angle of each FOV-- make an ellipse\n",
    "#    ell_lo = [Ellipse(xy=[arts_pos[i,j,1],arts_pos[i,j,0]], width=awidths[int(k/2)], height=aheights[int(k/2)], \n",
    "#            angle=-arts_pos[i,j,3], linewidth=0.2, alpha=0.7, fill=False, color='black') \n",
    "#              for i in [0,nscans-1] for j in range(npix)]\n",
    "#    ell_lo += [Ellipse(xy=[arts_pos[i,j,1],arts_pos[i,j,0]], width=awidths[int(k/2)], height=aheights[int(k/2)], \n",
    "#            angle=-arts_pos[i,j,3], linewidth=0.2, alpha=0.7, fill=False, color='black') \n",
    "#               for i in range(nscans) for j in [0,npix-1] ] \n",
    "#\n",
    "#    if k > 5: topl=1   # so plot contours of SST for first 6 panels, WSP for last 6\n",
    "#    #thenorm1=plt.Normalize(vmin = np.min(s_data[topl,:,:])-1, vmax = np.max(s_data[topl,:,:])+1)\n",
    "#    thenorm1=plt.Normalize(vmin = np.min(xretr[topl,:,:])-3, vmax = np.max(xretr[topl,:,:])+3)\n",
    "#    #bb= ax.pcolormesh(lon_grid,lat_grid,s_data[0,:,:],norm=thenorm1, # so SST\n",
    "#    bb= ax_tb[kx,ky].contourf(ws.lon_grid,ws.lat_grid,s_data[topl,:,:], 30, norm=thenorm1, # so SST\n",
    "#                 transform=ccrs.PlateCarree(), cmap=ceem1)\n",
    "#    ax_tb[kx,ky].set_extent([rreg[2],rreg[3],rreg[0],rreg[1]])\n",
    "#    ax_tb[kx,ky].coastlines(resolution='10m')\n",
    "#\n",
    "#    for e in ell_lo[:]: \n",
    "#        ax_tb[kx,ky].add_artist(e)\n",
    "#\n",
    "#    vmin, vmax = -np.max(np.abs(dif_tb[:,:,kd[kx,:]])), np.max(np.abs(dif_tb[:,:,kd[kx,:]]))\n",
    "#    #vmin, vmax = -np.max(np.abs(dif_tb[:,:,k])), np.max(np.abs(dif_tb[:,:,k]))\n",
    "#    thenorm = plt.Normalize(vmin=vmin,vmax=vmax)\n",
    "#    ax_tb[kx,ky].scatter( arts_pos[:,:,1], arts_pos[:,:,0], s=15.0, c=dif_tb[:,:,k], marker='o', \\\n",
    "#                transform=ccrs.PlateCarree(), alpha=1.0, cmap=ceem, norm=thenorm);\n",
    "#    sm = plt.cm.ScalarMappable(cmap=ceem, norm=thenorm)\n",
    "#    sm._A = []\n",
    "#    cb = plt.colorbar(sm, ax=ax_tb[kx,ky], shrink=.8)\n",
    "#    cb.locator = ticker.MaxNLocator(nbins=5) # new 2 lines\n",
    "#    cb.update_ticks()\n",
    "#    #cb.set_label(ch_str[k]+' $T_B$ [K] (obs-sim)')\n",
    "#    ax_tb[kx,ky].text(rreg[2]+.10, rreg[1]-.25, ch_str[k], fontsize=fs+2)\n",
    "#        \n",
    "#    #ax_tb[kx,ky].set_title(ch_str[k])\n",
    "#    if ky==0:\n",
    "#        ax_tb[kx,ky].set_yticks( np.linspace(rreg[0],rreg[1], ny) )\n",
    "#        ax_tb[kx,ky].set_ylabel( 'Latitude [$\\degree$N]',fontsize=fs)\n",
    "#    if kx==2:\n",
    "#        ax_tb[kx,ky].set_xticks( np.linspace(rreg[2],rreg[3], nx) )\n",
    "#        ax_tb[kx,ky].set_xlabel( 'Longitude [$\\degree$E]',fontsize=fs)\n",
    "#\n",
    "#plt.subplots_adjust( wspace=.04,hspace=.07, right=.9)\n",
    "#if sv: plt.savefig('img2/ydif_all_'+pv+'.png',bbox_inches='tight',dpi=220)\n",
    "##if sv: plt.savefig('imgr/retr'+str(topl)+'-y_syn_'+ch_str[k]+'_'+pv+'.png',bbox_inches='tight',dpi=300)\n",
    "#plt.show()\n",
    "#"
   ]
  },
  {
   "cell_type": "code",
   "execution_count": null,
   "metadata": {
    "scrolled": false
   },
   "outputs": [],
   "source": [
    "#\n",
    "#figx = plt.figure(figsize=[18,8])\n",
    "#gs = gridspec.GridSpec(1,3*nrvar, width_ratios=[.2,.2,1,1,.2,.2]) #height_ratios = [1,.06,.06])\n",
    "## and for the state vector, retrieved vs. a priori laid over background (truth):\n",
    "#pvar = xdif # choose what to  plot here\n",
    "## define as subplots, put both fields on same figure? maybe side by side with cbars below?\n",
    "#ceem = cmo.balance #thermal\n",
    "#\n",
    "#for rv in range(nrvar): \n",
    "#    if rv==0: tit='SST [K]'\n",
    "#    if rv==1: tit='Wind speed [$m s^{-1}$]'\n",
    "#    ax2 = plt.subplot(gs[0,2+rv], projection=projj )\n",
    "#\n",
    "#    ax2.set_xlim(left=reg[2], right=reg[3])\n",
    "#    ax2.set_ylim(bottom=reg[0], top=reg[1])\n",
    "#    ax2.set_xticks( np.linspace(reg[2],reg[3], nx) )\n",
    "#    ax2.set_yticks( np.linspace(reg[0],reg[1], ny) )\n",
    "#    if rv==0: ax2.set_ylabel( 'Latitude [$^o N$]' )\n",
    "#    ax2.set_xlabel( 'Longitude [$^o E$]' )\n",
    "#\n",
    "#    thenorm1=plt.Normalize(vmin = np.min(s_data[rv,:,:])-.5, vmax = np.max(s_data[rv,:,:])+.5)\n",
    "#    #bb= ax2.pcolormesh(lon_grid,lat_grid,s_data[0,:,:],norm=thenorm1, \n",
    "#    bb= ax2.contourf(ws.lon_grid,ws.lat_grid,s_data[rv,:,:], 10, norm=thenorm1, \n",
    "#                 transform=projj, cmap=ceem1)\n",
    "#\n",
    "#    #for e in ells[:]: \n",
    "#    #    ax2.add_artist(e)\n",
    "#\n",
    "#    vmin, vmax = -np.max(np.abs(pvar[rv,:,:])), np.max(np.abs(pvar[rv,:,:]))\n",
    "#    thenorm = plt.Normalize(vmin=vmin,vmax=vmax)\n",
    "#    # ri,rj defined earlier via meshgrid, i.e. retrieval lon and lat grids respectively\n",
    "#    sct2 = ax2.scatter( rj, ri, s=60.0, c=pvar[rv,:,:], marker='o', \\\n",
    "#                transform=projj, alpha=0.8, cmap=ceem, norm=thenorm)\n",
    "#    \n",
    "#    dex = 0\n",
    "#    if rv==1: dex=4\n",
    "#    cb1 = plt.colorbar(bb,   cax=plt.subplot(gs[0,dex]), label=tit, shrink=.7,\n",
    "#           norm=thenorm1, orientation='vertical')\n",
    "#    cb2 = plt.colorbar(sct2, cax=plt.subplot(gs[0,dex+1]), label=tit+' (retr - truth)',\n",
    "#           norm=thenorm, orientation='vertical')\n",
    "#    \n",
    "#plt.subplots_adjust(hspace=.36, wspace=.2)\n",
    "#if sv: figx.savefig('img2/retr-x_syn_2pan_'+pv+'.png',bbox_inches='tight',dpi=250)"
   ]
  },
  {
   "cell_type": "code",
   "execution_count": null,
   "metadata": {
    "scrolled": false
   },
   "outputs": [],
   "source": [
    "\n",
    "f2,axes2 = plt.subplots(1,2, figsize=[18,6],\n",
    "                        subplot_kw=dict(projection=projj), sharex=True, sharey=True)\n",
    "# and for the state vector, retrieved vs. a priori laid over background (truth):\n",
    "fs = 14\n",
    "pvar = xdif # choose what to  plot here\n",
    "# define as subplots, put both fields on same figure? maybe side by side with cbars below?\n",
    "ceem = 'coolwarm' #cmo.balance\n",
    "ceem1 = 'Greys' #cmo.algae\n",
    "\n",
    "for rv in range(nrvar): \n",
    "    if rv==0: tit='SST [$K$]'\n",
    "    if rv==1: tit='WSP [$m s^{-1}$]'\n",
    "\n",
    "    ax2 = axes2[rv]\n",
    "    ax2.set_xlim(left=rreg[2], right=rreg[3])\n",
    "    ax2.set_ylim(bottom=rreg[0], top=rreg[1])\n",
    "    ax2.set_xticks( np.linspace(rreg[2],rreg[3], nx) )\n",
    "    ax2.set_yticks( np.linspace(rreg[0],rreg[1], ny) )\n",
    "    if rv==0: ax2.set_ylabel( 'Latitude [$^o N$]', fontsize=fs)\n",
    "    ax2.set_xlabel( 'Longitude [$^o E$]', fontsize=fs)\n",
    "\n",
    "    thenorm1=plt.Normalize(vmin = np.min(s_data[rv,:,:])-.5, vmax = np.max(s_data[rv,:,:])+.5)\n",
    "    #bb= ax2.pcolormesh(lon_grid,lat_grid,s_data[0,:,:],norm=thenorm1, \n",
    "    bb= ax2.contourf(ws.lon_grid,ws.lat_grid,s_data[rv,:,:], 10, norm=thenorm1, \n",
    "                 transform=projj, cmap=ceem1)\n",
    "\n",
    "    ell_lo = [Ellipse(xy=[arts_pos[i,j,1],arts_pos[i,j,0]], width=awidths[0], height=aheights[0], \n",
    "            angle=-arts_pos[i,j,3], linewidth=0.2, alpha=0.7, fill=False, color='black') \n",
    "              for i in [0,nscans-1] for j in range(npix)[1:-1]]\n",
    "    ell_lo += [Ellipse(xy=[arts_pos[i,j,1],arts_pos[i,j,0]], width=awidths[0], height=aheights[0], \n",
    "            angle=-arts_pos[i,j,3], linewidth=0.2, alpha=0.7, fill=False, color='black') \n",
    "               for i in range(nscans) for j in [0,npix-1] ] \n",
    "    for e in ell_lo[:]: \n",
    "        ax2.add_artist(e)\n",
    "\n",
    "    vmin, vmax = -np.max(np.abs(pvar[rv,:,:])), np.max(np.abs(pvar[rv,:,:]))\n",
    "    thenorm = plt.Normalize(vmin=vmin,vmax=vmax)\n",
    "    # ri,rj defined earlier via meshgrid, i.e. retrieval lon and lat grids respectively\n",
    "    ax2.scatter( rj, ri, s=30.0, c=pvar[rv,:,:], marker='o', \\\n",
    "                transform=projj, alpha=0.8, cmap=ceem, norm=thenorm)\n",
    "    sm = plt.cm.ScalarMappable(cmap=ceem, norm=thenorm)\n",
    "    sm._A = []\n",
    "    cb  = plt.colorbar(sm, ax=ax2, shrink=.85)\n",
    "    cb.set_label(tit+' (retr - truth)',fontsize=fs)\n",
    "    sm1 = plt.cm.ScalarMappable(cmap=ceem1, norm=thenorm1)\n",
    "    sm1._A = []\n",
    "    cb1 = plt.colorbar(sm1, ax=ax2, shrink=.85)\n",
    "    cb1.set_label(tit, fontsize=fs)\n",
    "    #ax2.text(reg[2]+.10, reg[1]-.2, tit, fontsize=fs)\n",
    "\n",
    "plt.subplots_adjust(wspace=.05)\n",
    "if sv: plt.savefig('img2/retr-x_2pan_'+pv+'.png',bbox_inches='tight',dpi=300)"
   ]
  },
  {
   "cell_type": "code",
   "execution_count": null,
   "metadata": {},
   "outputs": [],
   "source": [
    "## SANITY CHECK: plot background (synthetic defined) state vs. x_back on retrieval grid. \n",
    "##    should be simply interpolated values!\n",
    "#\n",
    "## and for the state vector, retrieved vs. a priori laid over background (truth):\n",
    "#projj = ccrs.PlateCarree()\n",
    "#inn =  0.6\n",
    "#nx,ny = 5,5\n",
    "#for rv in range(nrvar): \n",
    "#    if rv==0: tit='SST [K]'\n",
    "#    if rv==1: tit='Wind speed [$m s^{-1}$]'\n",
    "#    fig2 = plt.figure(figsize=[18,10])\n",
    "#    ax2 = plt.subplot(111, projection=projj )\n",
    "#\n",
    "#    ax2.set_xlim(left=reg[2], right=reg[3])\n",
    "#    ax2.set_ylim(bottom=reg[0], top=reg[1])\n",
    "#    ax2.set_xticks( np.linspace(reg[2],reg[3], nx) )\n",
    "#    ax2.set_yticks( np.linspace(reg[0],reg[1], ny) )\n",
    "#    ax2.set_ylabel( 'Latitude [$^o N$]' )\n",
    "#    ax2.set_xlabel( 'Longitude [$^o E$]' )\n",
    "#\n",
    "#    thenorm1=plt.Normalize(vmin = np.min(s_data[rv,:,:])-1, vmax = np.max(s_data[rv,:,:])+1)\n",
    "#    #bb= ax2.pcolormesh(lon_grid,lat_grid,s_data[0,:,:],norm=thenorm1, \n",
    "#    #bb= ax2.contourf(ws.lon_grid,ws.lat_grid,s_data[rv,:,:], 10, norm=thenorm1, \n",
    "#    print(np.shape(gi),np.shape(s_data))\n",
    "#    bb= ax2.scatter(gj, gi, s=200, c=s_data[rv,:,:], norm=thenorm1, \n",
    "#                 transform=projj, cmap=cmo.dense)\n",
    "#\n",
    "#    #for e in ells[:]: \n",
    "#    #    ax2.add_artist(e)\n",
    "#\n",
    "#    #xdif2 = xretr - x_back\n",
    "#    #vmin, vmax = -np.max(np.abs(xdif2[rv,:,:])), np.max(np.abs(xdif2[rv,:,:]))\n",
    "#    #thenorm = plt.Normalize(vmin=vmin,vmax=vmax)\n",
    "#    ceem = cmo.dense\n",
    "#    # ri,rj defined earlier via meshgrid, i.e. retrieval lon and lat grids respectively\n",
    "#    #ax2.scatter( rj, ri, s=150.0, c=x_back[rv,:,:], marker='o', \\\n",
    "#    ax2.scatter( rj, ri, s=80.0, c=xretr[rv,:,:], marker='o', \\\n",
    "#                transform=projj, alpha=0.8, cmap=ceem, norm=thenorm1);\n",
    "#    #sm = plt.cm.ScalarMappable(cmap=ceem, norm=thenorm1)\n",
    "#    #sm._A = []\n",
    "#    #cb = plt.colorbar(sm,ax=ax2)\n",
    "#    #cb.set_label(tit+' (retr - prior)')\n",
    "#    sm1 = plt.cm.ScalarMappable(cmap=ceem, norm=thenorm1)\n",
    "#    sm1._A = []\n",
    "#    cb1 = plt.colorbar(sm1,ax=ax2)\n",
    "#    cb1.set_label(tit)\n",
    "#    ax2.set_title(\"Retr grid over background (truth)\")\n",
    "#\n",
    "#    #if sv: plt.savefig('img2/retr-x_syn_rv'+str(rv)+'_'+pv+'.png',bbox_inches='tight',dpi=350)\n",
    "#    plt.show()"
   ]
  },
  {
   "cell_type": "code",
   "execution_count": null,
   "metadata": {},
   "outputs": [],
   "source": [
    "## and for the DOF, take elements from A matrix diagonal:\n",
    "#fig3 = plt.figure(figsize=[15,10])\n",
    "#ax3 = plt.subplot(111, projection=projj )\n",
    "#\n",
    "#ax3.set_xlim(left=reg[2], right=reg[3])\n",
    "#ax3.set_ylim(bottom=reg[0], top=reg[1])\n",
    "#ax3.set_xticks( np.linspace(reg[2],reg[3], nx) )\n",
    "#ax3.set_yticks( np.linspace(reg[0],reg[1], ny) )\n",
    "#\n",
    "#bb= ax3.pcolormesh(lon_grid,lat_grid,s_data[0,:,:],norm=thenorm1, # so SST\n",
    "#             transform=projj, cmap=ceem1)\n",
    "#\n",
    "##for e in ells[:]: \n",
    "##    ax3.add_artist(e)\n",
    "#    \n",
    "#vmin, vmax = 0, 1 #-np.max(np.abs(xdif[:,:])), np.max(np.abs(xdif[:,:]))\n",
    "#thenorm = plt.Normalize(vmin=vmin,vmax=vmax)\n",
    "#ceem = cmo.solar\n",
    "## ri,rj defined earlier via meshgrid\n",
    "#ax3.scatter( ri, rj, s=200.0, c=Amat_re[0,:,:], marker='o',    # pick which Amat vars?\n",
    "#            transform=projj, alpha=0.8, cmap=ceem, norm=thenorm);\n",
    "#sm = plt.cm.ScalarMappable(cmap=ceem, norm=thenorm)\n",
    "#sm._A = []\n",
    "#cb = plt.colorbar(sm,ax=ax3)\n",
    "#cb.set_label('DOFS')\n",
    "#sm1 = plt.cm.ScalarMappable(cmap=ceem1, norm=thenorm1)\n",
    "#sm1._A = []\n",
    "#cb1 = plt.colorbar(sm1,ax=ax3)\n",
    "#cb1.set_label('SST [K]')\n",
    "#\n",
    "##plt.savefig('img2/retr-A_syn_'+pv+'.png',bbox_inches='tight',dpi=350)\n",
    "#plt.show()"
   ]
  }
 ],
 "metadata": {
  "jupytext": {
   "main_language": "python",
   "text_representation": {
    "extension": ".py",
    "format_name": "light"
   }
  },
  "kernelspec": {
   "display_name": "Python 3",
   "language": "python",
   "name": "python3"
  },
  "language_info": {
   "codemirror_mode": {
    "name": "ipython",
    "version": 3
   },
   "file_extension": ".py",
   "mimetype": "text/x-python",
   "name": "python",
   "nbconvert_exporter": "python",
   "pygments_lexer": "ipython3",
   "version": "3.6.8"
  }
 },
 "nbformat": 4,
 "nbformat_minor": 2
}
