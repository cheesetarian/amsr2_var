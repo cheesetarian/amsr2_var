{
 "cells": [
  {
   "cell_type": "code",
   "execution_count": 1,
   "metadata": {
    "collapsed": true
   },
   "outputs": [],
   "source": [
    "# D Duncan 18/01/19\n",
    "\n",
    "# Setting up a synthetic surface scene to gauge the information content\n",
    "#  from 2dvar surface retrievals with the full beam pattern. In other words,\n",
    "#  create a synthetic surface scene with some overlying atmosphere, defined\n",
    "#  on some grid, then see if a retrieval can discern perturbations in the\n",
    "#  surface.\n",
    "#\n",
    "# Code originally copied from am2_findcal.ipynb"
   ]
  },
  {
   "cell_type": "markdown",
   "metadata": {},
   "source": [
    "# Set up ARTS/Python environment\n"
   ]
  },
  {
   "cell_type": "code",
   "execution_count": 3,
   "metadata": {},
   "outputs": [
    {
     "name": "stdout",
     "output_type": "stream",
     "text": [
      "env: ARTS_INCLUDE_PATH=/home/dudavid/arts/controlfiles/\n",
      "env: ARTS_DATA_PATH=/home/dudavid/arts/arts-xml/\n",
      "env: ARTS_BUILD_PATH=/home/dudavid/arts/build/\n",
      "Loading ARTS API from: /home/dudavid/arts/build/src/libarts_api.so\n"
     ]
    },
    {
     "data": {
      "text/plain": [
       "<typhon.arts.workspace.agendas.Agenda at 0x7f6904df2048>"
      ]
     },
     "execution_count": 3,
     "metadata": {},
     "output_type": "execute_result"
    }
   ],
   "source": [
    "%env ARTS_INCLUDE_PATH=/home/dudavid/arts/controlfiles/\n",
    "%env ARTS_DATA_PATH=/home/dudavid/arts/arts-xml/\n",
    "%env ARTS_BUILD_PATH=/home/dudavid/arts/build/\n",
    "\n",
    "%matplotlib inline\n",
    "import glob\n",
    "from h5py import File\n",
    "from netCDF4 import Dataset\n",
    "\n",
    "from typhon.arts.workspace import Workspace, arts_agenda\n",
    "ws = Workspace(verbosity=0)\n",
    "ws.execute_controlfile(\"general/general.arts\")\n",
    "ws.execute_controlfile(\"general/continua.arts\")\n",
    "ws.execute_controlfile(\"general/agendas.arts\")\n",
    "ws.execute_controlfile(\"general/planet_earth.arts\")"
   ]
  },
  {
   "cell_type": "code",
   "execution_count": 4,
   "metadata": {
    "collapsed": true,
    "scrolled": true
   },
   "outputs": [],
   "source": [
    "from typhon.arts.workspace.variables import *\n",
    "\n",
    "ws.Copy( ws.abs_xsec_agenda, ws.abs_xsec_agenda__noCIA )\n",
    "\n",
    "ws.Copy( ws.iy_main_agenda, ws.iy_main_agenda__Emission )\n",
    "# used to debug with sensor position and things:\n",
    "#@arts_agenda\n",
    "#def iy_main_agendaPY(ws):\n",
    "#    ws.ppathCalc()\n",
    "#    ws.iyEmissionStandard()\n",
    "#    ws.Print(ws.ppath,0)\n",
    "#ws.Copy( ws.iy_main_agenda, iy_main_agendaPY)\n",
    "    \n",
    "ws.Copy( ws.iy_space_agenda, ws.iy_space_agenda__CosmicBackground )\n",
    "ws.Copy( ws.propmat_clearsky_agenda, ws.propmat_clearsky_agenda__OnTheFly )\n",
    "ws.Copy( ws.ppath_agenda, ws.ppath_agenda__FollowSensorLosPath )\n",
    "ws.Copy( ws.ppath_step_agenda, ws.ppath_step_agenda__GeometricPath )"
   ]
  },
  {
   "cell_type": "code",
   "execution_count": 5,
   "metadata": {
    "collapsed": true
   },
   "outputs": [],
   "source": [
    "# define absorbing species and sensor (here using metmm library, used again below)\n",
    "ws.abs_speciesSet(species=[\"H2O-PWR98\",\"O2-PWR93\",\"N2-SelfContStandardType\"])\n",
    "ws.abs_lines_per_speciesSetEmpty()"
   ]
  },
  {
   "cell_type": "markdown",
   "metadata": {},
   "source": [
    "# General Settings"
   ]
  },
  {
   "cell_type": "code",
   "execution_count": 6,
   "metadata": {
    "collapsed": true
   },
   "outputs": [],
   "source": [
    "ws.stokes_dim = 2 # to get V and H pol out of metmm\n",
    "ws.iy_unit = \"PlanckBT\" # equivalent: ws.StringSet( iy_unit, \"PlanckBT\" )"
   ]
  },
  {
   "cell_type": "markdown",
   "metadata": {
    "collapsed": true
   },
   "source": [
    "# Atmosphere set up # (take Psfc, T from model later)"
   ]
  },
  {
   "cell_type": "code",
   "execution_count": 7,
   "metadata": {
    "scrolled": false
   },
   "outputs": [
    {
     "name": "stdout",
     "output_type": "stream",
     "text": [
      "17\n",
      "[100000.  97500.  95000.  92500.  90000.  85000.  80000.  75000.  70000.\n",
      "  65000.  60000.  55000.  50000.  40000.  30000.  20000.  10000.]\n",
      "trop vmr: [2.52196149e-02 2.37858298e-02 2.23147994e-02 2.08045368e-02\n",
      " 1.93452537e-02 1.72987546e-02 1.49967833e-02 1.13252834e-02\n",
      " 7.88189193e-03 5.34901910e-03 3.97190372e-03 3.19044020e-03\n",
      " 2.26046337e-03 9.87003039e-04 2.65972393e-04 2.14005006e-05\n",
      " 2.94033094e-06] ['2.94E-6', '2.52E-2', '1.05E-2', '9.06E-3']\n",
      "[2500.0, 2500.0, 2500.0, 2500.0, 5000.0, 5000.0, 5000.0, 5000.0, 5000.0, 5000.0, 5000.0, 5000.0, 10000.0, 10000.0, 10000.0, 10000.0]\n",
      "39.631092634692116\n"
     ]
    }
   ],
   "source": [
    "from typhon.physics.atmosphere import integrate_water_vapor\n",
    "ws.atmosphere_dim = 1  # for 1DVAR\n",
    "p = np.array([1000.,950.,900.,850.,800.,700.,600.,500.,300.,100.])*100.0  # keep it coarse\n",
    "#p = np.array([1000.,975.,950.,925.,900.,850.,800.,750.,700.,650.,600.,550.,500.,400.,300.,200.,100.])*100.0\n",
    "print(len(p))\n",
    "ws.p_grid = p[:] #0.5 * (p[1:] + p[:-1])\n",
    "print(ws.p_grid.value)\n",
    "ws.AtmRawRead( basename = \"planets/Earth/Fascod/tropical/tropical\") #tropical atmosphere assumed\n",
    "# WV given as VMR\n",
    "ws.AtmosphereSet1D()\n",
    "ws.AtmFieldsCalc()\n",
    "\n",
    "ws.z_surface = np.asarray(ws.z_field)[0]\n",
    "ws.t_surface = np.asarray(ws.t_field)[0]\n",
    "trop_ss, trop_t = np.copy(ws.t_surface.value), np.copy(ws.t_field.value[:,0,0])\n",
    "z = ws.z_field.value[:, 0, 0]\n",
    "\n",
    "factor = 28.966/18.016 * 0.001 # convert WV mixing ratio (g/kg) to vmr (mol/mol)\n",
    "trop_vmr = np.copy(ws.vmr_field.value[0,:,0,0])\n",
    "#wvc = integrate_water_vapor(ws.vmr_field.value[0, :, 0, 0], ws.p_grid.value)\n",
    "#print(wvc)"
   ]
  },
  {
   "cell_type": "markdown",
   "metadata": {},
   "source": [
    "# Sensor definition -- AMSR2 sensor setup w/ metmm"
   ]
  },
  {
   "cell_type": "code",
   "execution_count": 8,
   "metadata": {
    "scrolled": false
   },
   "outputs": [
    {
     "name": "stdout",
     "output_type": "stream",
     "text": [
      "# channels using:  14\n"
     ]
    }
   ],
   "source": [
    "ws.ArrayOfIndexCreate(\"channels\")  # ws.channels is set down below with metmm call\n",
    "\n",
    "# initial sensor setup -- these are shorthand for available AMSR2 channels (no b-scan)\n",
    "ch_str = ['6V','6H','7V','7H','10V','10H','18V','18H','23V','23H','36V','36H','89V','89H']\n",
    "\n",
    "#nlo = 14\n",
    "#csub = [[x for x in range(nlo)], [x+nlo for x in range(2)]] # 16 AMSR2 channels total\n",
    "#csub = [[0,1,2,3,4,5,6,7,8,9,10,11,12,13],[]] # so 6 to 89GHz (no b-scan)\n",
    "csub = [[0,1,2,3,4,5],[]] # so 6.9V/H, 7.3V/H, 10V/H  -- all sfc channels!\n",
    "nch = np.size(np.ravel(csub[0]+csub[1]))\n",
    "print('# channels using: ',nch)\n",
    "\n",
    "ws.ArrayOfIndexCreate(\"viewing_angles\") # necessary if just using one pencil beam angle?\n",
    "#ws.viewing_angles = [1] # index of viewing angles in metmm file -- for AMSR2 only B-scan is different\n",
    "# current setup is low freqs at index 1, high freqs at index 0\n",
    "\n",
    "ws.sensor_pos  = np.array([[699.6e3]]) # altitude [taken from h5 header BELOW!!!]\n",
    "#can take exact alt from file if desired, same with lat/lon values (does that have effect?)\n",
    "ws.sensor_time = np.array([0.0]) # same here\n",
    "ws.sensor_los  = np.array([[180.0]]) # since angle taken care of in metmm file \n",
    "# zenith angle followed by azimuth. zenith=0 is straight up, 180 is straight down. azimuth=0 is N, positive to east \n",
    "\n",
    "ws.IndexCreate(\"met_mm_accuracy\") \n",
    "ws.met_mm_accuracy = 2 # points within each bandwidth to comute abs characteristics\n"
   ]
  },
  {
   "cell_type": "markdown",
   "metadata": {},
   "source": [
    "# Perform some checks"
   ]
  },
  {
   "cell_type": "code",
   "execution_count": 9,
   "metadata": {
    "collapsed": true
   },
   "outputs": [],
   "source": [
    "ws.atmfields_checkedCalc( bad_partition_functions_ok = 1 )\n",
    "ws.abs_xsec_agenda_checkedCalc()\n",
    "ws.propmat_clearsky_agenda_checkedCalc()\n",
    "ws.atmgeom_checkedCalc()\n",
    "#ws.abs_lookupSetup() # not currently using lookup tables (on the fly instead)\n",
    "#ws.abs_lookupCalc()"
   ]
  },
  {
   "cell_type": "code",
   "execution_count": 14,
   "metadata": {},
   "outputs": [
    {
     "name": "stdout",
     "output_type": "stream",
     "text": [
      "(17, 721, 1440)\n",
      "['7.90E-3', '2.69E+1', '6.24E+0', '3.72E+0', (721, 1440)]\n",
      "['2.06E+2', '3.18E+2', '2.80E+2', '2.18E+1', (721, 1440)]\n"
     ]
    }
   ],
   "source": [
    "epaf = '/home/dudavid/Dendrite/Dendrite/UserAreas/Dave/EC/wv1609/'\n",
    "\n",
    "#import cdsapi\n",
    "#era5client = cdsapi.Client()\n",
    "#\n",
    "#era5client.retrieve(\n",
    "#    'reanalysis-era5-single-levels',\n",
    "#    {\n",
    "#        'product_type':'reanalysis',\n",
    "#        'format':'netcdf',\n",
    "#        'variable':[\n",
    "#            '10m_u_component_of_wind','10m_v_component_of_wind','10m_wind_direction',\n",
    "#            '2m_dewpoint_temperature','2m_temperature','sea_surface_temperature',\n",
    "#            'mean_sea_level_pressure'\n",
    "#        ],\n",
    "#        'year':'2016',\n",
    "#        'month':'09',\n",
    "#        'day':'21',\n",
    "#        'time':'15:00'\n",
    "#    },\n",
    "#    'sfc_vars_210916_15Z.nc')\n",
    "\n",
    "# read in T and q from ERA5:\n",
    "era5p = epaf+'testy.nc'\n",
    "era5s = epaf+'sfc_vars_210916_15Z.nc'\n",
    "# fields are [time, levels, lat, lon] , so [1,17,721,1440] the way it was downloaded\n",
    "# this file is 15Z, near the equator crossing time of the same 210916 orbit\n",
    "\n",
    "era = Dataset(era5p)\n",
    "era_q = era['q'][0,:,:,:]\n",
    "era_mr = era_q / (1-era_q)\n",
    "era_t = era['t'][0,:,:,:]\n",
    "print(np.shape(era_t))\n",
    "elo=era['longitude'][:]\n",
    "ela=era['latitude'][:]\n",
    "# shift grids from 0-360 lon to -180-180 lons?\n",
    "\n",
    "eras = Dataset(era5s)\n",
    "era_wi = ( eras['u10'][0,:,:]**2 + eras['v10'][0,:,:]**2 )**0.5  # get wind speed from vectors [m/s]\n",
    "print(shinfo(era_wi))\n",
    "era_wd = eras['dwi'][0,:,:]  # direction of 10m wind [degrees from N]\n",
    "#era_td = eras['d2m'][:]  # 2m dewpoint temperature [K]   --- not being used right now!\n",
    "era_ts = eras['t2m'][0,:,:]  # 2m air temperature [K]\n",
    "print(shinfo(era_ts))\n",
    "era_sp = eras['msl'][0,:,:]  # mean sea level pressure [Pa]\n",
    "era_ss = eras['sst'][0,:,:]  # SST [K]\n",
    "#print(info(era_wd[era_wd>0]))\n",
    "era_wd[era_wd<0] = 0.0   # for missing values, set to 0 (N)\n",
    "\n",
    "#grdmap( era_wd,  0, -90, 0, 360, 0)"
   ]
  },
  {
   "cell_type": "markdown",
   "metadata": {},
   "source": [
    "# Designate surface vars"
   ]
  },
  {
   "cell_type": "code",
   "execution_count": 15,
   "metadata": {
    "collapsed": true
   },
   "outputs": [],
   "source": [
    "\n",
    "#ws.NumericCreate(\"wind_speed\")\n",
    "#ws.NumericCreate(\"wind_direction\")\n",
    "#ws.wind_speed = 3.9\n",
    "#ws.surface_skin_t = 290.2\n",
    "#ws.wind_direction = 0.0 # can adjust based on analysis data later  -- default should be 0\n",
    "# -- need sensor azimuth angle, and spacecraft heading, as arts azimuth is relative to N\n",
    "#ws.salinity = .035 # default is .035 anyway\n",
    "\n",
    "# transmittance only needed for running fastem:\n",
    "#ws.VectorCreate(\"transmittance\")\n",
    "#print(ws.f_grid.value)\n",
    "#ws.transmittance  = np.ones(ws.f_grid.value.shape) # or ones, or something else?\n",
    "#print('wind speed, SST: ',ws.wind_speed.value,ws.surface_skin_t.value)#ws.t_surface.value.ravel()[0])\n",
    "\n",
    "# add surface variables for jacobian calculation -- need to keep order consistent between snames/sdata\n",
    "snames = [\"Water skin temperature\", \"Wind speed\", \"Salinity\", \"Wind direction\"]\n",
    "sdata = np.array([299, 3.4, 0.035, 0]).reshape(4,1,1)\n",
    "#sdata = np.array([ws.surface_skin_t.value, ws.wind_speed.value, 0.035, ws.wind_direction.value]).reshape(4,1,1)\n",
    "#sdata = np.array([ws.t_surface.value.ravel()[0], ws.wind_speed.value, 0.035]).reshape(3,1,1)\n",
    "\n",
    "# don't copy to arts variables yet... otherwise ycalc bombs due to SurfaceDummy [old issue]\n",
    "ws.Copy(ws.surface_props_names, snames)\n",
    "ws.Copy(ws.surface_props_data, sdata)\n",
    "\n",
    "\n",
    "nrvar = 2 # num retrieved variables\n",
    "rvars = np.zeros(nrvar)\n",
    "rvars[:] = [4.2, 3.9] # corresponding to variable order set above\n",
    "\n",
    "# set Xa (formally set below)\n",
    "xa = np.zeros(nrvar) # if supplying user-defined a priori vector\n",
    "#xa[:] = [ws.surface_skin_t.value, ws.wind_speed.value] # just perturbations from values defined above"
   ]
  },
  {
   "cell_type": "markdown",
   "metadata": {},
   "source": [
    "# define jacobians, run ycalc "
   ]
  },
  {
   "cell_type": "code",
   "execution_count": 16,
   "metadata": {},
   "outputs": [
    {
     "data": {
      "text/plain": [
       "<typhon.arts.workspace.agendas.Agenda at 0x7f6904b4a198>"
      ]
     },
     "execution_count": 16,
     "metadata": {},
     "output_type": "execute_result"
    }
   ],
   "source": [
    "\n",
    "ws.ArrayOfIndexCreate(\"viewing_angles_1\")\n",
    "ws.viewing_angles_1 = [0] # index, defined in metmm file\n",
    "ws.ArrayOfIndexCreate(\"channels_1\") # low freq channels EIA\n",
    "ws.channels_1 = csub[0]\n",
    "ws.Copy(ws.viewing_angles, ws.viewing_angles_1)\n",
    "ws.Copy(ws.channels, ws.channels_1)\n",
    "\n",
    "# re-execution of metmm control files ( since channels subset and angle have changed)\n",
    "ws.execute_controlfile(\"instruments/metmm/sensor_descriptions/prepare_metmm.arts\")\n",
    "ws.execute_controlfile(\"instruments/metmm/sensor_descriptions/sensor_amsr2.arts\") #atms.arts\")\n",
    "ws.execute_controlfile(\"instruments/metmm/sensor_descriptions/apply_metmm.arts\") # to execute CF?\n",
    "\n",
    "# NO NEED TO RUN JACOBIAN INIT IF USING RETRIEVAL DEF INIT\n",
    "#ws.jacobianInit()  # initialize jacobian quantities, then add variables"
   ]
  },
  {
   "cell_type": "code",
   "execution_count": 17,
   "metadata": {},
   "outputs": [
    {
     "name": "stdout",
     "output_type": "stream",
     "text": [
      "[6.8375e+09 7.0125e+09 7.2125e+09 7.3875e+09 1.0625e+10 1.0675e+10\n",
      " 1.8650e+10 1.8750e+10 2.3700e+10 2.3900e+10 3.6250e+10 3.6750e+10\n",
      " 8.8000e+10 8.9000e+10 9.0000e+10]\n"
     ]
    }
   ],
   "source": [
    "# if using tessem... read tessem ascii files into arts memory\n",
    "tez = 'F' # fastem is default\n",
    "if use_tes:\n",
    "    ws.TessemNNReadAscii(tessem_netv, \"testdata/tessem_sav_net_V.txt\")\n",
    "    ws.TessemNNReadAscii(tessem_neth, \"testdata/tessem_sav_net_H.txt\") \n",
    "    tez = 'T'\n",
    "\n",
    "# if using surfaceFastem, need to provide transmittances and wind direction:\n",
    "ws.VectorCreate( \"transmittance\" )\n",
    "print(ws.f_grid.value)\n",
    "ws.transmittance = np.ones( ws.f_grid.value.shape )\n",
    "\n",
    "if use_tes:\n",
    "    @arts_agenda\n",
    "    def iy_surface_agendaPY(ws):\n",
    "        ws.SurfaceTessem()\n",
    "        ws.iySurfaceRtpropCalc()\n",
    "else:\n",
    "    @arts_agenda\n",
    "    def iy_surface_agendaPY(ws):\n",
    "        ws.SurfaceFastem( transmittance = ws.transmittance ) \n",
    "        ws.iySurfaceRtpropCalc()\n",
    "    \n",
    "ws.Copy(ws.iy_surface_agenda, iy_surface_agendaPY) # copy python-defined agenda to ARTS"
   ]
  },
  {
   "cell_type": "code",
   "execution_count": 18,
   "metadata": {},
   "outputs": [
    {
     "data": {
      "text/plain": [
       "\n",
       "*-------------------------------------------------------------------*\n",
       "Workspace method = SurfaceFastem\n",
       "---------------------------------------------------------------------\n",
       "\n",
       "FASTEM sea surface microwave emissivity parametrization.\n",
       "\n",
       "The variable *surface_props_data* must contain these data:\n",
       "  \"Water skin temperature\"\n",
       "  \"Wind speed\"\n",
       "  \"Wind direction\"\n",
       "  \"Salinity\"\n",
       "\n",
       "For some details and comments see *FastemStandAlone* and *surfaceFastem*.\n",
       "\n",
       "\n",
       "Synopsis:\n",
       "\n",
       "SurfaceFastem( surface_los, surface_rmatrix, \n",
       "               dsurface_rmatrix_dx, surface_emission, \n",
       "               dsurface_emission_dx, stokes_dim, atmosphere_dim, \n",
       "               lat_grid, lon_grid, f_grid, rtp_pos, rtp_los, \n",
       "               surface_props_data, surface_props_names, \n",
       "               dsurface_names, jacobian_do, transmittance, \n",
       "               fastem_version )\n",
       "\n",
       "\n",
       "Authors: Patrick Eriksson\n",
       "\n",
       "\n",
       "Variables:\n",
       "\n",
       "OUT   surface_los (Matrix): \n",
       "      Downwelling radiation directions to consider in surface reflection.\n",
       "OUT   surface_rmatrix (Tensor4): \n",
       "      The reflection coefficients for the directions given by \n",
       "      *surface_los* to the direction of interest.\n",
       "OUT   dsurface_rmatrix_dx (ArrayOfTensor4): \n",
       "      The derivative of *surface_rmatrix* with respect to quantities \n",
       "      listed in *dsurface_names*.\n",
       "OUT   surface_emission (Matrix): The emission from the surface.\n",
       "OUT   dsurface_emission_dx (ArrayOfMatrix): \n",
       "      The derivative of *surface_emission* with respect to quantities \n",
       "      listed in *dsurface_names*.\n",
       "IN    dsurface_rmatrix_dx (ArrayOfTensor4): \n",
       "      The derivative of *surface_rmatrix* with respect to \n",
       "      quantities listed in *dsurface_names*.\n",
       "IN    dsurface_emission_dx (ArrayOfMatrix): \n",
       "      The derivative of *surface_emission* with respect to \n",
       "      quantities listed in *dsurface_names*.\n",
       "IN    stokes_dim (Index): \n",
       "      The dimensionality of the Stokes vector (1-4).\n",
       "IN    atmosphere_dim (Index): The atmospheric dimensionality (1-3).\n",
       "IN    lat_grid (Vector): The latitude grid.\n",
       "IN    lon_grid (Vector): The longitude grid.\n",
       "IN    f_grid (Vector): \n",
       "      The frequency grid for monochromatic pencil beam calculations.\n",
       "IN    rtp_pos (Vector): Position of a radiative transfer point.\n",
       "IN    rtp_los (Vector): Line-of-sight at a radiative transfer point.\n",
       "IN    surface_props_data (Tensor3): Various surface properties.\n",
       "IN    surface_props_names (ArrayOfString): \n",
       "      Name on surface properties found *surface_props_data*.\n",
       "IN    dsurface_names (ArrayOfString): \n",
       "      Name of surface retrieval quantities.\n",
       "IN    jacobian_do (Index): \n",
       "      Flag to activate (clear-sky) Jacobian calculations.\n",
       "GIN   transmittance (Vector): \n",
       "      Transmittance along path of downwelling radiation. A vector \n",
       "      with the same length as *f_grid*.\n",
       "GIN   fastem_version (Index, Default: 6): \n",
       "      The version of FASTEM to use.\n",
       "\n",
       "*-------------------------------------------------------------------*"
      ]
     },
     "execution_count": 18,
     "metadata": {},
     "output_type": "execute_result"
    }
   ],
   "source": [
    "ws.SurfaceFastem"
   ]
  },
  {
   "cell_type": "code",
   "execution_count": null,
   "metadata": {
    "scrolled": false
   },
   "outputs": [
    {
     "name": "stdout",
     "output_type": "stream",
     "text": [
      "[172.15586386  81.94570759 172.60580143  82.45536439 176.9174824\n",
      "  87.86840997 204.16479839 131.65065171 239.51503674 194.66211674\n",
      " 223.84439735 157.96578137 273.96166727 249.26243811]\n"
     ]
    }
   ],
   "source": [
    "# will leave calls for retrieval definition setup, don't seem to be any harm...\n",
    "\n",
    "ws.retrievalDefInit()  # initialize jacobian quantities, then add variables\n",
    "sx_cov = np.diag(rvars) # CHANGE TO MATCH SIZE OF Xa!!\n",
    "ws.retrievalAddSurfaceQuantity(\n",
    "    g1=ws.lat_grid, g2=ws.lon_grid, quantity=snames[0])\n",
    "ws.covmat_sxAddBlock(block = sx_cov[:1, :1])\n",
    "\n",
    "ws.retrievalAddSurfaceQuantity(\n",
    "    g1=ws.lat_grid, g2=ws.lon_grid, quantity=snames[1])\n",
    "ws.covmat_sxAddBlock(block = sx_cov[1:, 1:])\n",
    "ws.Copy(ws.xa, xa)\n",
    "\n",
    "## set channel errors, currently just constant across channels\n",
    "chan_err = 0.6 # for now all the same, in K\n",
    "\n",
    "se_cov = np.diag(np.zeros(nch) + chan_err**2 ) # set channel assumed errors\n",
    "ws.covmat_seSet(se_cov)\n",
    "ws.retrievalDefClose()\n",
    "\n",
    "ws.cloudboxOff()\n",
    "ws.cloudbox_checkedCalc()\n",
    "ws.sensor_checkedCalc()\n",
    "\n",
    "ws.yCalc()  # calculate yf and jacobian matching x\n",
    "print(ws.y.value)\n",
    "am_tb = ws.y.value\n"
   ]
  },
  {
   "cell_type": "code",
   "execution_count": null,
   "metadata": {
    "scrolled": true
   },
   "outputs": [
    {
     "name": "stdout",
     "output_type": "stream",
     "text": [
      "0\n",
      "150\n",
      "300\n",
      "450\n",
      "600\n",
      "750\n",
      "900\n",
      "1050\n",
      "1200\n",
      "1350\n"
     ]
    }
   ],
   "source": [
    "# now, loop over 'good' cloud-free pixels and compare ARTS-generated Tb to L1R\n",
    "\n",
    "tb_sim, tb_obs = [], []\n",
    "lo_sav, la_sav = [], []\n",
    "tp_sav, wi_sav = [], []\n",
    "ss_sav, sc_sav = [],[]\n",
    "chcut, lwcut = 0.30, 8\n",
    "\n",
    "for sc in range(nscans):#[600:621]:\n",
    "    if np.mod(sc,150) == 0: print(sc)\n",
    "    for px in range(npix)[30:210: 1]:  # avoiding scan edges for now!\n",
    "        \n",
    "        if tp[px,sc]>0 and ch[px,sc]<chcut and lw[px,sc]<lwcut: # dont bother with cloudy or bad retrievals\n",
    "            \n",
    "            # define era5 indices:\n",
    "            if lo[px,sc] >= 0: elo_dex = int(np.floor(lo[px,sc]*4.0))\n",
    "            if lo[px,sc] <  0: elo_dex = int(np.floor((lo[px,sc]+360)*4.0))\n",
    "            ela_dex = int(np.floor((90-la[px,sc])*4.0)) # era5 goes from +90N to 90S\n",
    "            \n",
    "            # use ERA5 data for all (T, wind dir, bottom of P grid)\n",
    "            ws.t_field.value[:,0,0] = era_t[:,ela_dex,elo_dex][::-1] \n",
    "            ws.t_field.value[0,0,0] = era_ts[ela_dex,elo_dex] # take 2m T for lowest level\n",
    "            dwi = era_wd[ela_dex,elo_dex] # use era5 wind direction for all too\n",
    "            #ws.p_grid.value[0] = era_sp[ela_dex,elo_dex]\n",
    "            \n",
    "            # regrid the vertical fields (as lowest value in p_grid changes) then run ARTS forward\n",
    "            ws.AtmFieldsCalc()\n",
    "            \n",
    "            if use_era:\n",
    "                ws.vmr_field.value[0,:,0,0] = 1e3*era_mr[::-1,ela_dex,elo_dex]*factor # MR to VMR\n",
    "                # should use era5 dewpoint to fix lowest MR level here:\n",
    "                wnd = era_wi[ela_dex,elo_dex]\n",
    "                sst = era_ss[ela_dex,elo_dex]\n",
    "                if(sst < 272 or wnd<0): print('low/bad era5 data')\n",
    "            else:\n",
    "                veemr = trop_vmr * tp[px,sc] / wvc    # scale input tropical profile to 1dvar result\n",
    "                ws.vmr_field.value[0,:,0,0] = veemr\n",
    "                wnd = wi[px,sc]\n",
    "                sst = ss[px,sc]\n",
    "            \n",
    "            sdata = np.array([sst, wnd, 0.035, dwi ]).reshape(4,1,1)\n",
    "            ws.Copy(ws.surface_props_data, sdata)\n",
    "            \n",
    "            ws.yCalc()\n",
    "            \n",
    "            # save tbs and other vars for further analysis\n",
    "            tb_sim.append( np.copy(ws.y.value) )  #otherwise it's wrong as arts memory changes!\n",
    "            tb_obs.append( tb_cal[px,sc,:] ) # use calibrated ones here?\n",
    "            lo_sav.extend( [lo[px,sc]])\n",
    "            la_sav.extend( [la[px,sc]] )\n",
    "            tpw = integrate_water_vapor(np.copy(ws.vmr_field.value[0,:,0,0]), np.copy(ws.p_grid.value))\n",
    "            tp_sav.extend( [tpw] )\n",
    "            wi_sav.extend( [wnd] )\n",
    "            ss_sav.extend( [sst] )\n",
    "            sc_sav.extend( [px] ) # just scan position, aka pixel number in scan!\n",
    "            \n",
    "ncase = np.shape(tb_sim)[0]\n",
    "print(ncase)\n",
    "tb_sim = np.stack(tb_sim)\n",
    "tb_obs = np.array(tb_obs) #.reshape(nch,ncase)\n",
    "print('example point, first pixel:')\n",
    "print(tb_sim[0,:])\n",
    "print(tb_obs[0,:])\n",
    "#print('TPW info: ',info(tp_sav))\n",
    "#print(info(la_sav),info(lo_sav))\n"
   ]
  },
  {
   "cell_type": "code",
   "execution_count": null,
   "metadata": {
    "collapsed": true
   },
   "outputs": [],
   "source": [
    "plt.style.use('bmh')\n",
    "\n",
    "tbd = tb_obs - tb_sim\n",
    "\n",
    "k=0\n",
    "print(tbd[k,:], tp_sav[k],wi_sav[k],ss_sav[k])\n",
    "k=2000\n",
    "print(tbd[k,:], tp_sav[k],wi_sav[k],ss_sav[k])\n",
    "k=3000\n",
    "print(tbd[k,:], tp_sav[k],wi_sav[k],ss_sav[k])\n",
    "k=1000\n",
    "print(tbd[k,:], tp_sav[k],wi_sav[k],ss_sav[k])\n",
    "#low = np.where(np.array(tp_sav)<14)  # testing\n",
    "hx = np.arange(-12,12,.1)\n",
    "p1 = plt.figure(figsize=[14,9])\n",
    "outs = np.zeros([nch,2])\n",
    "for c in range(nch)[:-2]:\n",
    "    outs[c,:] = [round(np.mean(tbd[:,c]),2), round(np.std(tbd[:,c]),2)]\n",
    "    print(ch_str[c]+': ', outs[c,:],'@ ', np.mean(tb_obs[:,c])) #, np.mean(tbd[low[0],c]))\n",
    "    #print(c,np.min(tbd[:,c]), np.max(tbd[:,c]), np.mean(tbd[:,c]), np.std(tbd[:,c]))\n",
    "    his = np.histogram(tbd[:,c], bins=hx)\n",
    "    plt.plot(his[1][:-1], his[0], label=ch_str[c]+':   '+str(outs[c,0])+', '+str(outs[c,1]))\n",
    "plt.legend(fontsize=14)\n",
    "plt.savefig('img/AMSR2cal_'+dorb+'_'+str(chcut)+'chi_'+str(lwcut)+'lwp_'+err+'_'+tez+'.png', \\\n",
    " bbox_inches=\"tight\",transparent=True, dpi=250)\n",
    "plt.show()\n",
    "#andstophere"
   ]
  },
  {
   "cell_type": "code",
   "execution_count": null,
   "metadata": {
    "collapsed": true
   },
   "outputs": [],
   "source": [
    "# save numpy arrays from fwd model simulations\n",
    "chcut, lwcut = 0.5, 10\n",
    "np.save('data/tbobs_'+str(chcut)+'chi_'+str(lwcut)+'lwp_'+dorb+'_'+err+'_'+tez+'.npy', tb_obs) # points x nch\n",
    "np.save('data/tbsim_'+str(chcut)+'chi_'+str(lwcut)+'lwp_'+dorb+'_'+err+'_'+tez+'.npy', tb_sim)\n",
    "np.save('data/sst_'+str(chcut)+'chi_'+str(lwcut)+'lwp_'+dorb+'_'+err+'_'+tez+'.npy', ss_sav)\n",
    "np.save('data/tpw_'+str(chcut)+'chi_'+str(lwcut)+'lwp_'+dorb+'_'+err+'_'+tez+'.npy', tp_sav)\n",
    "np.save('data/wind_'+str(chcut)+'chi_'+str(lwcut)+'lwp_'+dorb+'_'+err+'_'+tez+'.npy', wi_sav)"
   ]
  },
  {
   "cell_type": "code",
   "execution_count": null,
   "metadata": {
    "collapsed": true,
    "scrolled": true
   },
   "outputs": [],
   "source": [
    "# read in from numpy arrays:\n",
    "# ['0.00E+2', '2.84E+2', '1.74E+2', '5.84E+1', (88512, 14)]\n",
    "chcut, lwcut = 0.5, 10\n",
    "tbo_in = np.load('data/tbobs_'+str(chcut)+'chi_'+str(lwcut)+'lwp_'+dorb+'_'+err+'_'+tez+'.npy') # points x nch\n",
    "tbs_in = np.load('data/tbsim_'+str(chcut)+'chi_'+str(lwcut)+'lwp_'+dorb+'_'+err+'_'+tez+'.npy')\n",
    "ss_in = np.load('data/sst_'+str(chcut)+'chi_'+str(lwcut)+'lwp_'+dorb+'_'+err+'_'+tez+'.npy')\n",
    "tp_in = np.load('data/tpw_'+str(chcut)+'chi_'+str(lwcut)+'lwp_'+dorb+'_'+err+'_'+tez+'.npy')\n",
    "wi_in = np.load('data/wind_'+str(chcut)+'chi_'+str(lwcut)+'lwp_'+dorb+'_'+err+'_'+tez+'.npy')\n",
    "tbd_in = tbo_in-tbs_in"
   ]
  },
  {
   "cell_type": "code",
   "execution_count": null,
   "metadata": {
    "collapsed": true
   },
   "outputs": [],
   "source": [
    "dexl = np.where(tp_in<15)[0]\n",
    "dexm = np.logical_and(tp_in>15,tp_in<40)\n",
    "dexh = np.where(tp_in>40)[0]\n",
    "print(np.shape(dexl),np.shape(tp_in[dexm]),np.shape(dexh))\n",
    "for c in range(nch):\n",
    "    print(c, np.mean(tbd_in[:,c]), np.mean(tbd_in[dexl,c]), np.mean(tbd_in[dexm,c]), np.mean(tbd_in[dexh,c]))"
   ]
  },
  {
   "cell_type": "code",
   "execution_count": null,
   "metadata": {
    "collapsed": true
   },
   "outputs": [],
   "source": [
    "print(info(tbd[:,2]))\n",
    "sev = tbd[:,2]\n",
    "sevo= tb_obs[:,2]\n",
    "np.shape(sev)\n",
    "print(info(tb_obs[:,4]))"
   ]
  },
  {
   "cell_type": "code",
   "execution_count": null,
   "metadata": {
    "collapsed": true,
    "scrolled": true
   },
   "outputs": [],
   "source": [
    "# output scatter plots (maybe with best fit lines?) of bias wrt Tb of scene:\n",
    "for c in range(nch)[:-6]:\n",
    "    p = plt.figure(figsize=[10,5])\n",
    "    plt.scatter(tb_obs[:,c], tbd[:,c], s=2) #, title=ch_str)\n",
    "    plt.title(ch_str[c])"
   ]
  },
  {
   "cell_type": "code",
   "execution_count": null,
   "metadata": {
    "collapsed": true,
    "scrolled": true
   },
   "outputs": [],
   "source": [
    "# output scatter plots (maybe with best fit lines?) of bias wrt Tb of scene:\n",
    "for c in range(nch)[:-6]:\n",
    "    p = plt.figure(figsize=[10,5])\n",
    "    plt.scatter(sc_sav[:], tbd[:,c], s=2) #, title=ch_str)\n",
    "    plt.title(ch_str[c])"
   ]
  },
  {
   "cell_type": "code",
   "execution_count": null,
   "metadata": {
    "collapsed": true
   },
   "outputs": [],
   "source": []
  }
 ],
 "metadata": {
  "kernelspec": {
   "display_name": "Python 3",
   "language": "python",
   "name": "python3"
  },
  "language_info": {
   "codemirror_mode": {
    "name": "ipython",
    "version": 3
   },
   "file_extension": ".py",
   "mimetype": "text/x-python",
   "name": "python",
   "nbconvert_exporter": "python",
   "pygments_lexer": "ipython3",
   "version": "3.6.8"
  }
 },
 "nbformat": 4,
 "nbformat_minor": 2
}
