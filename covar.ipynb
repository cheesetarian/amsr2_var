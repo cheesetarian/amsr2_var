{
 "cells": [
  {
   "cell_type": "code",
   "execution_count": null,
   "metadata": {
    "collapsed": true
   },
   "outputs": [],
   "source": [
    "# d duncan, dec 6 2018, some code to calculate spatial covariances between wind\n",
    "#   speeds and SST from observational data\n",
    "# currently using a high-res gridded SST twice daily product (GHRSST) [that should be closely tied\n",
    "#  to observed AVHRR from MetOp] and ASCAT 'coastal' 12.5km gridded (swath) winds from MetOp.\n",
    "\n",
    "# 12/12 -- didn't really get this stuff working... if it's revisited, look at using 'pysal' package for\n",
    "#  spatial autocorrelation, read up on what other folks have done on SST especially"
   ]
  },
  {
   "cell_type": "code",
   "execution_count": 1,
   "metadata": {
    "collapsed": true
   },
   "outputs": [],
   "source": [
    "from netCDF4 import Dataset\n",
    "import glob\n"
   ]
  },
  {
   "cell_type": "code",
   "execution_count": null,
   "metadata": {
    "collapsed": true
   },
   "outputs": [],
   "source": []
  },
  {
   "cell_type": "code",
   "execution_count": 2,
   "metadata": {},
   "outputs": [
    {
     "name": "stdout",
     "output_type": "stream",
     "text": [
      "['/home/dudavid/Dendrite/Dendrite/UserAreas/Dave/covar/OASWC12_20181205_082400_62932_M02.nc', '/home/dudavid/Dendrite/Dendrite/UserAreas/Dave/covar/OASWC12_20181205_093000_32246_M01.nc', '/home/dudavid/Dendrite/Dendrite/UserAreas/Dave/covar/OASWC12_20181205_100600_62933_M02.nc', '/home/dudavid/Dendrite/Dendrite/UserAreas/Dave/covar/OASWC12_20181205_111200_32247_M01.nc', '/home/dudavid/Dendrite/Dendrite/UserAreas/Dave/covar/OASWC12_20181205_183300_62938_M02.nc', '/home/dudavid/Dendrite/Dendrite/UserAreas/Dave/covar/OASWC12_20181205_193900_32252_M01.nc', '/home/dudavid/Dendrite/Dendrite/UserAreas/Dave/covar/OASWC12_20181205_211800_32253_M01.nc']\n",
      "['/home/dudavid/Dendrite/Dendrite/UserAreas/Dave/covar/S-OSI_-FRA_-MTOP-GLBSST_FIELD-201812051200Z.nc']\n"
     ]
    }
   ],
   "source": [
    "ddir = '/home/dudavid/Dendrite/Dendrite/UserAreas/Dave/covar/'\n",
    "\n",
    "wfiles = glob.glob(ddir+'OAS*.nc')\n",
    "sfiles = glob.glob(ddir+'S-OSI*.nc')\n",
    "\n",
    "day = ['181205']\n",
    "wfiles = glob.glob(ddir+'OAS*'+day[0]+'*.nc')\n",
    "sfiles = glob.glob(ddir+'S-OSI*'+day[0]+'*.nc')\n",
    "print(wfiles)\n",
    "print(sfiles)"
   ]
  },
  {
   "cell_type": "code",
   "execution_count": 54,
   "metadata": {},
   "outputs": [
    {
     "name": "stdout",
     "output_type": "stream",
     "text": [
      "(3600, 7200) (3600, 7200)\n",
      "[-179.875 -179.875 -179.875 -179.875 -179.875 -179.875 -179.875 -179.875\n",
      " -179.875 -179.875]\n",
      "[-89.97461  -89.924805 -89.875    -89.825195 -89.77539  -89.72461\n",
      " -89.674805 -89.625    -89.575195 -89.52539 ]\n",
      "['-2.54E-2', '2.54E-2', '-1.25E-5', '1.44E-2']\n",
      "['-2.54E-2', '2.54E-2', '-6.12E-5', '1.44E-2']\n"
     ]
    }
   ],
   "source": [
    "# to start, pick one of each and find which points correspond with which:\n",
    "wd = Dataset(wfiles[0])\n",
    "sd = Dataset(sfiles[0])\n",
    "\n",
    "ws = wd['wind_speed'][:]\n",
    "wpos = [ws >= 0]\n",
    "ws = ws[wpos]\n",
    "wlo, wla = wd['lon'][:][wpos], wd['lat'][:][wpos]\n",
    "wlo[wlo>=180] -= 360 # move onto -180 to 180 to match sst grid\n",
    "# just get rid of values right on meridian?\n",
    "\n",
    "\n",
    "# find indices on regular .05deg grid to match with closest SST point:\n",
    "lo_dex = [int(np.mod( np.round( (l-.025+180.0)/0.05),7200 )) for l in wlo] # set any at edge to index 0\n",
    "la_dex = [int(np.round( (l-.025+ 90.0)/0.05 )) for l in wla]\n",
    "\n",
    "ss = sd['sea_surface_temperature'][0,:,:] # 3600x7200 grid (.05deg, whole globe, -180to180)\n",
    "#spos = [ss > 273]\n",
    "#sst = ss[spos]\n",
    "slo, sla = sd['lon'][:], sd['lat'][:] # just 1d arrays\n",
    "\n",
    "slo_like = np.array([slo]*len(sla)) #lazy, but to simplify something below\n",
    "sla_like = np.array([sla]*len(slo)).transpose()\n",
    "#slo_like,sla_like = np.indices([len(slo),len(sla)])  # should work, better python anyway\n",
    "print(np.shape(slo_like),np.shape(sla_like))\n",
    "\n",
    "#dif = slo[lo_dex]-wlo\n",
    "#print(dif[abs(dif)>1])\n",
    "print(info(slo[lo_dex]-wlo)) # good matches should be all smaller than .025deg\n",
    "print(info(sla[la_dex]-wla))\n",
    "\n"
   ]
  },
  {
   "cell_type": "code",
   "execution_count": 64,
   "metadata": {},
   "outputs": [
    {
     "name": "stdout",
     "output_type": "stream",
     "text": [
      "(65319,)\n",
      "1D covariance matrix:  [[ 77.93287942 -10.24587018]\n",
      " [-10.24587018  10.4060897 ]]\n"
     ]
    }
   ],
   "source": [
    "\n",
    "ss_match = ss[la_dex, lo_dex].ravel()\n",
    "sla_just = sla_like[la_dex, lo_dex].ravel()\n",
    "slo_just = slo_like[la_dex, lo_dex].ravel()\n",
    "spos = [ss_match > 273][0]\n",
    "print(np.shape(ss_match[spos]))\n",
    "\n",
    "\n",
    "cov1d = np.cov(ss_match[spos],ws[spos]) # '1D' covariance matrix, so global variances and covariance of SST/wind\n",
    "# [[SST var., covar],[covar, wind var.]]\n",
    "print('1D covariance matrix: ', cov1d )\n"
   ]
  },
  {
   "cell_type": "code",
   "execution_count": 88,
   "metadata": {},
   "outputs": [
    {
     "name": "stdout",
     "output_type": "stream",
     "text": [
      "[111.19492664  24.86394652]\n",
      "[0.00899322 0.04021888]\n"
     ]
    }
   ],
   "source": [
    "# now to get some spatial covariance information...\n",
    "\n",
    "# to calculate weighted correlations:\n",
    "def cov(x, y, w):\n",
    "    \"\"\"Weighted Covariance\"\"\"\n",
    "    return np.sum(w * (x - np.average(x, weights=w)) * (y - np.average(y, weights=w))) / np.sum(w)\n",
    "    #return np.sum(w * (x - m(x, w)) * (y - m(y, w))) / np.sum(w)\n",
    "\n",
    "def corr(x, y, w):\n",
    "    #x = np.array(x)\n",
    "    #y = np.array(y)\n",
    "    #w = np.array(w)\n",
    "    \"\"\"Weighted Correlation\"\"\"\n",
    "    print('cov internal: ', cov(x,y,w))\n",
    "    return cov(x, y, w) / np.sqrt(cov(x, x, w) * cov(y, y, w))\n",
    "\n",
    "#def getDistanceFromLatLonInKm(lat1,lon1,lat2,lon2): \n",
    "def getDist(lat1,lon1, lat2,lon2): \n",
    "    # Haversine formula (assumes earth a sphere)\n",
    "    # accepts arrays or single values\n",
    "    R = 6371 # Radius of the earth in km\n",
    "    dLat = (lat2-lat1)*np.pi/180  #\n",
    "    dLon = (lon2-lon1)*np.pi/180 \n",
    "    a = np.sin(dLat/2) * np.sin(dLat/2) + \\\n",
    "     np.cos(lat1*np.pi/180) * np.cos(lat2*np.pi/180) * np.sin(dLon/2) * np.sin(dLon/2)\n",
    "    c = 2 * np.arctan2(a**0.5, (1-a)**0.5) \n",
    "    d = R * c # Distance in km\n",
    "    return d\n",
    "\n",
    "# calculate weighting depending on radial distance from point of interest\n",
    "la1 = np.array([31,31.1])\n",
    "la2 = np.array([32,31.2])\n",
    "lo1 = np.array([30,31.2])\n",
    "lo2 = np.array([30,31.0])\n",
    "blah = getDistanceFromLatLonInKm(la1,lo1,la2,lo2)\n",
    "wgts = blah**(-1) # u\n",
    "print(blah)\n",
    "print(wgts)"
   ]
  },
  {
   "cell_type": "code",
   "execution_count": 89,
   "metadata": {},
   "outputs": [
    {
     "name": "stdout",
     "output_type": "stream",
     "text": [
      "random Lo/La:  169.27539 -39.97461\n",
      "18\n",
      "285.06\n",
      "[285.06 285.06 285.06 285.06 285.06 285.06 285.06 285.06 285.06 285.06\n",
      " 285.06 285.06 285.06 285.06 285.06 285.06 285.06 285.06]\n",
      "[285.88 284.29999999999995 287.9 285.62 286.56 287.59 285.46999999999997\n",
      " 288.58 286.77 286.85999999999996 286.26 288.62 288.15999999999997 288.64\n",
      " 288.13 288.60999999999996 288.96999999999997 284.52]\n",
      "cov internal:  0.0\n",
      "weighted corr:  nan\n",
      "random Lo/La:  -161.6748 6.5253906\n",
      "24\n",
      "297.25\n",
      "[297.25 297.25 297.25 297.25 297.25 297.25 297.25 297.25 297.25 297.25\n",
      " 297.25 297.25 297.25 297.25 297.25 297.25 297.25 297.25 297.25 297.25\n",
      " 297.25 297.25 297.25 297.25]\n",
      "[297.5 302.17999999999995 300.88 297.19 297.60999999999996 302.96 296.65\n",
      " 302.87 302.88 302.66999999999996 302.5 302.38 300.65999999999997 301.89\n",
      " 296.96999999999997 302.78 301.08 302.5 298.96999999999997\n",
      " 302.60999999999996 302.7 300.72999999999996 302.7 297.46]\n",
      "cov internal:  0.0\n",
      "weighted corr:  nan\n",
      "random Lo/La:  -166.3252 37.075195\n",
      "16\n",
      "286.60999999999996\n",
      "[286.61 286.61 286.61 286.61 286.61 286.61 286.61 286.61 286.61 286.61\n",
      " 286.61 286.61 286.61 286.61 286.61 286.61]\n",
      "[288.59999999999997 288.81 288.71999999999997 288.59 284.28999999999996\n",
      " 285.52 288.72999999999996 288.91999999999996 288.03999999999996\n",
      " 288.73999999999995 284.41999999999996 288.59999999999997\n",
      " 283.53999999999996 284.56 288.38 288.07]\n",
      "cov internal:  0.0\n",
      "weighted corr:  nan\n",
      "random Lo/La:  -165.97461 15.724609\n",
      "50\n",
      "299.93999999999994\n",
      "[299.94 299.94 299.94 299.94 299.94 299.94 299.94 299.94 299.94 299.94\n",
      " 299.94 299.94 299.94 299.94 299.94 299.94 299.94 299.94 299.94 299.94\n",
      " 299.94 299.94 299.94 299.94 299.94 299.94 299.94 299.94 299.94 299.94\n",
      " 299.94 299.94 299.94 299.94 299.94 299.94 299.94 299.94 299.94 299.94\n",
      " 299.94 299.94 299.94 299.94 299.94 299.94 299.94 299.94 299.94 299.94]\n",
      "[300.66999999999996 300.71 300.76 301.06 300.65999999999997 300.38\n",
      " 300.79999999999995 300.39 300.73999999999995 300.59 300.21999999999997\n",
      " 300.62 300.91999999999996 300.39 300.72999999999996 300.84 300.59 300.28\n",
      " 300.63 300.48999999999995 300.47999999999996 300.53999999999996 300.65\n",
      " 300.71999999999997 300.76 300.90999999999997 300.35999999999996\n",
      " 299.96999999999997 300.03999999999996 300.45 300.31 300.87 300.09\n",
      " 300.96999999999997 300.67999999999995 300.41999999999996 299.64\n",
      " 300.09999999999997 298.53 300.23999999999995 300.64 300.4 300.13 300.19\n",
      " 300.12 300.53999999999996 300.27 300.08 300.06 300.06]\n",
      "cov internal:  -1.7653683827464513e-27\n",
      "weighted corr:  -8.109789836126962e-14\n",
      "random Lo/La:  -170.9248 54.125\n",
      "30\n",
      "274.71999999999997\n",
      "[274.72 274.72 274.72 274.72 274.72 274.72 274.72 274.72 274.72 274.72\n",
      " 274.72 274.72 274.72 274.72 274.72 274.72 274.72 274.72 274.72 274.72\n",
      " 274.72 274.72 274.72 274.72 274.72 274.72 274.72 274.72 274.72 274.72]\n",
      "[278.4 275.53999999999996 277.28999999999996 278.34999999999997 278.64\n",
      " 276.71999999999997 275.59 274.29999999999995 276.85999999999996 275.51\n",
      " 278.25 277.94 276.67999999999995 274.58 278.15 275.94 274.71 278.13\n",
      " 275.31 274.5 278.13 278.78 273.7 277.98999999999995 275.19 277.89 277.78\n",
      " 278.62 275.51 274.2]\n",
      "cov internal:  0.0\n",
      "weighted corr:  nan\n"
     ]
    },
    {
     "name": "stderr",
     "output_type": "stream",
     "text": [
      "/home/dudavid/anaconda3/lib/python3.6/site-packages/ipykernel_launcher.py:25: RuntimeWarning: invalid value encountered in sqrt\n",
      "/home/dudavid/anaconda3/lib/python3.6/site-packages/ipykernel_launcher.py:15: RuntimeWarning: invalid value encountered in double_scalars\n",
      "  from ipykernel import kernelapp as app\n"
     ]
    }
   ],
   "source": [
    "# read in wind values, calculate mean spatial correlation coefficient from \n",
    "#  points that are within some distance range of the target point\n",
    "nchoi = 5\n",
    "chosen = np.random.choice(range(len(ss_match[spos])), nchoi)  # \n",
    "\n",
    "for c in chosen:\n",
    "    clo, cla = slo_just[spos][c], sla_just[spos][c]\n",
    "    print('random Lo/La: ',clo,cla)\n",
    "    dists = getDist(cla,clo, sla_just[spos], slo_just[spos] ) #wlo,wla))\n",
    "    near = np.logical_and(dists < 50, dists > 0) #[dists < 50.0] # limit search radius to X kilometers\n",
    "    nnear = len(ss_match[spos][near])\n",
    "    print(nnear)\n",
    "    #print(info(ss_match[spos][near]))\n",
    "    wgts = dists[near]**(-1) # weight by inverse distance in km?\n",
    "    \n",
    "    print(np.average(np.repeat(ss_match[spos][c],nnear),weights=wgts))\n",
    "    print(np.repeat(ss_match[spos][c],nnear))\n",
    "    print(ss_match[spos][near])\n",
    "    cory = corr( np.repeat(ss_match[spos][c],nnear), ss_match[spos][near], wgts)\n",
    "    # doesn't work because a repeating array for first arg causes zero in denom and numerator...\n",
    "    #  how do others do this??\n",
    "    # can i give it anomalies of SST, so the chosen point is itself anomaly wrt the background scene\n",
    "    #  of some size? might not work if using same points as in calculation...\n",
    "    print('weighted corr: ',cory )\n",
    "\n"
   ]
  },
  {
   "cell_type": "code",
   "execution_count": null,
   "metadata": {
    "collapsed": true
   },
   "outputs": [],
   "source": []
  },
  {
   "cell_type": "code",
   "execution_count": null,
   "metadata": {
    "collapsed": true
   },
   "outputs": [],
   "source": []
  },
  {
   "cell_type": "code",
   "execution_count": null,
   "metadata": {
    "collapsed": true
   },
   "outputs": [],
   "source": []
  }
 ],
 "metadata": {
  "kernelspec": {
   "display_name": "Python 3",
   "language": "python",
   "name": "python3"
  },
  "language_info": {
   "codemirror_mode": {
    "name": "ipython",
    "version": 3
   },
   "file_extension": ".py",
   "mimetype": "text/x-python",
   "name": "python",
   "nbconvert_exporter": "python",
   "pygments_lexer": "ipython3",
   "version": "3.6.5"
  }
 },
 "nbformat": 4,
 "nbformat_minor": 2
}
