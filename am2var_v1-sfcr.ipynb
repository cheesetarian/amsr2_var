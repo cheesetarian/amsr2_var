{
 "cells": [
  {
   "cell_type": "code",
   "execution_count": 1,
   "metadata": {
    "collapsed": true
   },
   "outputs": [],
   "source": [
    "# # adapting simon's older PC-based 1dvar code to read in GMI \n",
    "# data and run oceanic retrievals. started DD 17/05/18\n",
    "#   - - working as wv retrieval 03/06/18\n",
    "#  playing with surface retrieval (jacobians first), DD late august 2018\n",
    "\n",
    "# revisited DD mid Dec 2018 for running 1dvar sfc retrieval\n",
    "# trying retrieval with AMSR2 metmm sensor setup 17/12/18"
   ]
  },
  {
   "cell_type": "markdown",
   "metadata": {},
   "source": [
    "# Set up ARTS/Python environment\n"
   ]
  },
  {
   "cell_type": "code",
   "execution_count": 2,
   "metadata": {},
   "outputs": [
    {
     "name": "stdout",
     "output_type": "stream",
     "text": [
      "env: ARTS_INCLUDE_PATH=/home/dudavid/arts/controlfiles/\n",
      "env: ARTS_DATA_PATH=/home/dudavid/arts/arts-xml/\n",
      "env: ARTS_BUILD_PATH=/home/dudavid/arts/build/\n"
     ]
    },
    {
     "name": "stderr",
     "output_type": "stream",
     "text": [
      "/home/dudavid/anaconda3/lib/python3.6/site-packages/h5py/__init__.py:36: FutureWarning: Conversion of the second argument of issubdtype from `float` to `np.floating` is deprecated. In future, it will be treated as `np.float64 == np.dtype(float).type`.\n",
      "  from ._conv import register_converters as _register_converters\n"
     ]
    },
    {
     "name": "stdout",
     "output_type": "stream",
     "text": [
      "Loading ARTS API from: /home/dudavid/arts/build/src/libarts_api.so\n"
     ]
    },
    {
     "data": {
      "text/plain": [
       "<typhon.arts.workspace.agendas.Agenda at 0x7f1d85c0c588>"
      ]
     },
     "execution_count": 2,
     "metadata": {},
     "output_type": "execute_result"
    }
   ],
   "source": [
    "%env ARTS_INCLUDE_PATH=/home/dudavid/arts/controlfiles/\n",
    "%env ARTS_DATA_PATH=/home/dudavid/arts/arts-xml/\n",
    "%env ARTS_BUILD_PATH=/home/dudavid/arts/build/\n",
    "\n",
    "%matplotlib inline\n",
    "import glob\n",
    "from h5py import File\n",
    "\n",
    "from typhon.arts.workspace import Workspace, arts_agenda\n",
    "ws = Workspace(verbosity=0)\n",
    "ws.execute_controlfile(\"general/general.arts\")\n",
    "ws.execute_controlfile(\"general/continua.arts\")\n",
    "ws.execute_controlfile(\"general/agendas.arts\")\n",
    "ws.execute_controlfile(\"general/planet_earth.arts\")"
   ]
  },
  {
   "cell_type": "code",
   "execution_count": 3,
   "metadata": {
    "collapsed": true
   },
   "outputs": [],
   "source": [
    "#import typhon\n",
    "#typhon.__version__"
   ]
  },
  {
   "cell_type": "code",
   "execution_count": 4,
   "metadata": {
    "collapsed": true,
    "scrolled": true
   },
   "outputs": [],
   "source": [
    "from typhon.arts.workspace.variables import *\n",
    "\n",
    "ws.Copy( ws.abs_xsec_agenda, ws.abs_xsec_agenda__noCIA )\n",
    "ws.Copy( ws.iy_main_agenda, ws.iy_main_agenda__Emission )\n",
    "ws.Copy( ws.iy_space_agenda, ws.iy_space_agenda__CosmicBackground )\n",
    "ws.Copy( ws.propmat_clearsky_agenda, ws.propmat_clearsky_agenda__OnTheFly )\n",
    "ws.Copy( ws.ppath_agenda, ws.ppath_agenda__FollowSensorLosPath )\n",
    "ws.Copy( ws.ppath_step_agenda, ws.ppath_step_agenda__GeometricPath )"
   ]
  },
  {
   "cell_type": "code",
   "execution_count": 5,
   "metadata": {
    "collapsed": true
   },
   "outputs": [],
   "source": [
    "# define absorbing species and sensor (here using metmm library, used again below)\n",
    "ws.abs_speciesSet(species=[\"H2O-PWR98\",\"O2-PWR93\",\"N2-SelfContStandardType\"])\n",
    "ws.abs_lines_per_speciesSetEmpty()"
   ]
  },
  {
   "cell_type": "markdown",
   "metadata": {},
   "source": [
    "# General Settings"
   ]
  },
  {
   "cell_type": "code",
   "execution_count": 6,
   "metadata": {
    "collapsed": true
   },
   "outputs": [],
   "source": [
    "ws.stokes_dim = 2 # to get V and H pol out of metmm\n",
    "ws.iy_unit = \"PlanckBT\" # equivalent: ws.StringSet( iy_unit, \"PlanckBT\" )"
   ]
  },
  {
   "cell_type": "markdown",
   "metadata": {
    "collapsed": true
   },
   "source": [
    "# Atmosphere set up # (take Psfc, T from model later)"
   ]
  },
  {
   "cell_type": "code",
   "execution_count": 7,
   "metadata": {
    "scrolled": false
   },
   "outputs": [
    {
     "name": "stdout",
     "output_type": "stream",
     "text": [
      "[101300.  97500.  95000.  92500.  90000.  85000.  80000.  75000.  70000.\n",
      "  65000.  60000.  55000.  50000.  40000.  30000.  20000.  10000.]\n"
     ]
    }
   ],
   "source": [
    "ws.atmosphere_dim = 1  # for 1DVAR\n",
    "p = np.array([1013.,975.,950.,925.,900.,850.,800.,750.,700.,650.,600.,550.,500.,400.,300.,200.,100.])*100.0\n",
    "ws.p_grid = p[:] #0.5 * (p[1:] + p[:-1])\n",
    "print(ws.p_grid.value)\n",
    "ws.AtmRawRead( basename = \"planets/Earth/Fascod/tropical/tropical\") #tropical atmosphere assumed\n",
    "ws.AtmosphereSet1D()\n",
    "ws.AtmFieldsCalc()\n",
    "\n",
    "ws.z_surface = np.asarray(ws.z_field)[0]\n",
    "ws.t_surface = np.asarray(ws.t_field)[0]\n"
   ]
  },
  {
   "cell_type": "markdown",
   "metadata": {},
   "source": [
    "# Sensor definition -- AMSR2 sensor setup w/ metmm"
   ]
  },
  {
   "cell_type": "code",
   "execution_count": 8,
   "metadata": {
    "scrolled": false
   },
   "outputs": [
    {
     "name": "stdout",
     "output_type": "stream",
     "text": [
      "# channels using:  8\n"
     ]
    }
   ],
   "source": [
    "ws.ArrayOfIndexCreate(\"channels\")\n",
    "# initial sensor setup, all 13 channels at low frequency EIA\n",
    "nlo = 14\n",
    "#csub = [[x for x in range(nlo)], [x+nlo for x in range(2)]] # 16 AMSR2 channels total\n",
    "csub = [[0,1,2,3,4,5,6,7],[]] # so 6.9V/H, 7.3V/H, 10V/H, 18V/H\n",
    "#csub = [ [3,4,5,6], [11,12] ]#  define channel indices (0-8 10-89GHz, 9-12 166-183GHz)\n",
    "nch = np.size(np.ravel(csub[0]+csub[1]))\n",
    "print('# channels using: ',nch)\n",
    "#ws.channels = csub #[0,:]+csub[1,:] #list(np.ravel(csub)) # 23.8 and 183 channels only for WV\n",
    "\n",
    "ws.ArrayOfIndexCreate(\"viewing_angles\") # necessary if just using one pencil beam angle?\n",
    "#ws.viewing_angles = [1] # index of viewing angles in metmm file -- for AMSR2 only B-scan is different\n",
    "# current setup is low freqs at index 1, high freqs at index 0\n",
    "\n",
    "ws.sensor_pos  = np.array([[407e3]])#, -30.0, 180.0]]) # 407km alt, 30S, 180E\n",
    "#can take exact alt from file if desired, same with lat/lon values (does that have effect?)\n",
    "ws.sensor_time = np.array([0.0]) # same here\n",
    "ws.sensor_los  = np.array([[180.0]]) # since angle taken care of in metmm file \n",
    "# zenith angle followed by azimuth. zenith=0 is straight up, 180 is straight down. azimuth=0 is N, positive to east \n",
    "\n",
    "ws.IndexCreate(\"met_mm_accuracy\") \n",
    "ws.met_mm_accuracy = 2 # points within each bandwidth to comute abs characteristics\n"
   ]
  },
  {
   "cell_type": "markdown",
   "metadata": {},
   "source": [
    "# Perform some checks"
   ]
  },
  {
   "cell_type": "code",
   "execution_count": 9,
   "metadata": {
    "collapsed": true
   },
   "outputs": [],
   "source": [
    "ws.atmfields_checkedCalc( bad_partition_functions_ok = 1 )\n",
    "ws.abs_xsec_agenda_checkedCalc()\n",
    "ws.propmat_clearsky_agenda_checkedCalc()\n",
    "ws.atmgeom_checkedCalc()\n",
    "#ws.abs_lookupSetup() # not currently using lookup tables (on the fly instead)\n",
    "#ws.abs_lookupCalc()"
   ]
  },
  {
   "cell_type": "markdown",
   "metadata": {},
   "source": [
    "# define surface agendas -- unnecessary right now"
   ]
  },
  {
   "cell_type": "code",
   "execution_count": 10,
   "metadata": {
    "collapsed": true
   },
   "outputs": [],
   "source": [
    "#from typhon.arts.workspace import arts_agenda\n",
    "#\n",
    "#@arts_agenda\n",
    "#def surface_fastem(ws):\n",
    "#    ws.specular_losCalc()\n",
    "#    ws.InterpSurfaceFieldToPosition( out = ws.surface_skin_t, field = ws.t_surface )\n",
    "#    ws.surfaceFastem(wind_speed     = ws.wind_speed,\n",
    "#                     wind_direction = ws.wind_direction,\n",
    "#                     transmittance  = ws.transmittance)\n",
    "#    \n",
    "#    \n",
    "#ws.TessemNNReadAscii(tessem_netv, \"testdata/tessem_sav_net_V.txt\")\n",
    "#ws.TessemNNReadAscii(tessem_neth, \"testdata/tessem_sav_net_H.txt\") \n",
    "#@arts_agenda\n",
    "#def surface_tessem(ws):\n",
    "#    ws.specular_losCalc()\n",
    "#    ws.InterpSurfaceFieldToPosition( out = ws.surface_skin_t, field = ws.t_surface )\n",
    "#    ws.SurfaceTessem(wind_speed     = ws.wind_speed) # one with capital S and one without?!\n",
    "#\n",
    "## set surface agenda (i.e. either fastem or tessem) here:\n",
    "##ws.Copy(ws.surface_rtprop_agenda, surface_fastem) # choose which emis. model to run here!\n",
    "#ws.Copy(ws.surface_rtprop_agenda, surface_tessem) # choose which emis. model to run here!"
   ]
  },
  {
   "cell_type": "markdown",
   "metadata": {},
   "source": [
    "# Designate surface vars"
   ]
  },
  {
   "cell_type": "code",
   "execution_count": 11,
   "metadata": {},
   "outputs": [
    {
     "name": "stdout",
     "output_type": "stream",
     "text": [
      "wind speed, SST:  3.5 290.2\n"
     ]
    }
   ],
   "source": [
    "\n",
    "ws.NumericCreate(\"wind_speed\")\n",
    "ws.NumericCreate(\"wind_direction\")\n",
    "ws.wind_speed = 3.5\n",
    "ws.surface_skin_t = 290.2\n",
    "ws.wind_direction = 0.0 # can adjust based on analysis data later  -- default should be 0\n",
    "# -- need sensor azimuth angle, and spacecraft heading, as arts azimuth is relative to N\n",
    "#ws.salinity = .035 # default is .035 anyway\n",
    "\n",
    "# transmittance only needed for running fastem:\n",
    "#ws.VectorCreate(\"transmittance\")\n",
    "#print(ws.f_grid.value)\n",
    "#ws.transmittance  = np.ones(ws.f_grid.value.shape) # or ones, or something else?\n",
    "print('wind speed, SST: ',ws.wind_speed.value,ws.surface_skin_t.value)#ws.t_surface.value.ravel()[0])\n",
    "\n",
    "# add surface variables for jacobian calculation -- need to keep order consistent between snames/sdata\n",
    "snames = [\"Water skin temperature\", \"Wind speed\", \"Salinity\", \"Wind direction\"]\n",
    "sdata = np.array([ws.surface_skin_t.value, ws.wind_speed.value, 0.035, ws.wind_direction.value]).reshape(4,1,1)\n",
    "#sdata = np.array([ws.t_surface.value.ravel()[0], ws.wind_speed.value, 0.035]).reshape(3,1,1)\n",
    "\n",
    "# don't copy to arts variables yet... otherwise ycalc bombs due to SurfaceDummy [old issue]\n",
    "ws.Copy(ws.surface_props_names, snames)\n",
    "ws.Copy(ws.surface_props_data, sdata)\n",
    "\n",
    "\n",
    "nrvar = 2 # num retrieved variables\n",
    "rvars = np.zeros(nrvar)\n",
    "#rvars[:] = [0.8, 2.2] # corresponding to variable order set above\n",
    "rvars[:] = [4.2, 3.9] # corresponding to variable order set above\n",
    "\n",
    "# set Xa (formally set below)\n",
    "xa = np.zeros(nrvar) # if supplying user-defined a priori vector\n",
    "xa[:] = [ws.surface_skin_t.value, ws.wind_speed.value] # just perturbations from values defined above\n",
    "#xa[:] = [ws.surface_skin_t.value + .42, ws.wind_speed.value - 0.78] # just perturbations from values defined above"
   ]
  },
  {
   "cell_type": "markdown",
   "metadata": {},
   "source": [
    "# define jacobians, run ycalc "
   ]
  },
  {
   "cell_type": "code",
   "execution_count": 12,
   "metadata": {},
   "outputs": [
    {
     "data": {
      "text/plain": [
       "<typhon.arts.workspace.agendas.Agenda at 0x7f1d85c1d320>"
      ]
     },
     "execution_count": 12,
     "metadata": {},
     "output_type": "execute_result"
    }
   ],
   "source": [
    "\n",
    "ws.ArrayOfIndexCreate(\"viewing_angles_1\")\n",
    "ws.viewing_angles_1 = [1] # index, defined in GMI metmm file\n",
    "ws.ArrayOfIndexCreate(\"viewing_angles_2\")\n",
    "ws.viewing_angles_2 = [0]\n",
    "ws.ArrayOfIndexCreate(\"channels_1\") # low freq channels EIA\n",
    "ws.channels_1 = csub[0]\n",
    "ws.ArrayOfIndexCreate(\"channels_2\") # high freq channels EIA\n",
    "ws.channels_2 = csub[1] \n",
    "ws.Copy(ws.viewing_angles, ws.viewing_angles_1)\n",
    "ws.Copy(ws.channels, ws.channels_1)\n",
    "\n",
    "# re-execution of metmm control files ( since channels subset and angle have changed)\n",
    "ws.execute_controlfile(\"instruments/metmm/sensor_descriptions/prepare_metmm.arts\")\n",
    "ws.execute_controlfile(\"instruments/metmm/sensor_descriptions/sensor_amsr2.arts\") #atms.arts\")\n",
    "ws.execute_controlfile(\"instruments/metmm/sensor_descriptions/apply_metmm.arts\") # to execute CF?\n",
    "#ws.VectorSetConstant(ws.transmittance, 1, 1.0) # needed for emis model, right size\n",
    "\n",
    "# NO NEED TO RUN JACOBIAN INIT IF USING RETRIEVAL DEF INIT\n",
    "#ws.jacobianInit()  # initialize jacobian quantities, then add variables\n"
   ]
  },
  {
   "cell_type": "code",
   "execution_count": 13,
   "metadata": {},
   "outputs": [
    {
     "name": "stdout",
     "output_type": "stream",
     "text": [
      "[6.8375e+09 7.0125e+09 7.2125e+09 7.3875e+09 1.0625e+10 1.0675e+10\n",
      " 1.8650e+10 1.8750e+10]\n"
     ]
    }
   ],
   "source": [
    "#### want to get rid of SurfaceDummy from iy_surface agenda\n",
    "#AgendaSet( iy_surface_agenda__UseSurfaceRtprop ){\n",
    "#  SurfaceDummy\n",
    "#  iySurfaceRtpropAgenda\n",
    "#}\n",
    "\n",
    "# if using tessem... read tessem ascii files into arts memory\n",
    "#ws.TessemNNReadAscii(tessem_netv, \"testdata/tessem_sav_net_V.txt\")\n",
    "#ws.TessemNNReadAscii(tessem_neth, \"testdata/tessem_sav_net_H.txt\") \n",
    "\n",
    "# if using surfaceFastem, need to provide transmittances and wind direction:\n",
    "ws.VectorCreate( \"transmittance\" )\n",
    "##nelemGet( v = f_grid )\n",
    "print(ws.f_grid.value)\n",
    "ws.transmittance = np.ones( ws.f_grid.value.shape )\n",
    "#ws.Copy(ws.tranny, tran)\n",
    "#ws.VectorSetConstant( ws.transmission_field, ws.f_grid.value.shape, 0.9 )\n",
    "##and call the method as\n",
    "#SurfaceFastem( transmittance = tr )\n",
    "\n",
    "\n",
    "@arts_agenda\n",
    "def iy_surface_agendaPY(ws):\n",
    "    ws.SurfaceFastem( transmittance = ws.transmittance )   #### DOES THIS WORK\n",
    "    #ws.SurfaceTessem()\n",
    "    ws.iySurfaceRtpropCalc()\n",
    "    #ws.iySurfaceRtpropAgenda()\n",
    "    # don't call SurfaceDummy()!\n",
    "    \n",
    "ws.Copy(ws.iy_surface_agenda, iy_surface_agendaPY) # copy python-defined agenda to ARTS"
   ]
  },
  {
   "cell_type": "code",
   "execution_count": 14,
   "metadata": {},
   "outputs": [
    {
     "name": "stdout",
     "output_type": "stream",
     "text": [
      "[157.65357936  83.79344135 158.13948819  84.30832419 163.10230934\n",
      "  89.89433944 193.41729417 132.96342163]\n",
      "[[ 0.74461149 -0.24161547]\n",
      " [ 0.15633142  0.54459729]\n",
      " [ 0.73693003 -0.24338306]\n",
      " [ 0.15401885  0.55124132]\n",
      " [ 0.63389294 -0.25928305]\n",
      " [ 0.12019723  0.59868726]\n",
      " [ 0.34929299 -0.25640154]\n",
      " [ 0.02391223  0.64347634]]\n"
     ]
    }
   ],
   "source": [
    "#ws.jacobianAddSurfaceQuantity(\n",
    "#    g1=ws.lat_grid, g2=ws.lon_grid, quantity=snames[0])\n",
    "#ws.jacobianAddSurfaceQuantity(\n",
    "#    g1=ws.lat_grid, g2=ws.lon_grid, quantity=snames[1])\n",
    "#ws.jacobianClose()\n",
    "ws.retrievalDefInit()  # initialize jacobian quantities, then add variables\n",
    "\n",
    "sx_cov = np.diag(rvars) # CHANGE TO MATCH SIZE OF Xa!!\n",
    "\n",
    "ws.retrievalAddSurfaceQuantity(\n",
    "    g1=ws.lat_grid, g2=ws.lon_grid, quantity=snames[0])\n",
    "ws.covmat_sxAddBlock(block = sx_cov[:1, :1])\n",
    "\n",
    "ws.retrievalAddSurfaceQuantity(\n",
    "    g1=ws.lat_grid, g2=ws.lon_grid, quantity=snames[1])\n",
    "ws.covmat_sxAddBlock(block = sx_cov[1:, 1:])\n",
    "\n",
    "ws.Copy(ws.xa, xa)\n",
    "# print Xa to terminal:\n",
    "ws.Print(ws.xa,0) # Print Xa\n",
    "\n",
    "## set channel errors, currently just constant across channels\n",
    "chan_err = 0.6 # for now all the same, in K\n",
    "\n",
    "se_cov = np.diag(np.zeros(nch) + chan_err**2 ) # set channel assumed errors\n",
    "#print('Se diag ',np.diag(se_cov))\n",
    "ws.covmat_seSet(se_cov)\n",
    "\n",
    "ws.retrievalDefClose()\n",
    "\n",
    "ws.cloudboxOff()\n",
    "ws.cloudbox_checkedCalc()\n",
    "ws.sensor_checkedCalc()\n",
    "\n",
    "ws.yCalc()  # calculate yf and jacobian matching x\n",
    "print(ws.y.value)\n",
    "am_tb = ws.y.value\n",
    "print(ws.jacobian.value)\n",
    "\n",
    "# now run for other EIA, and append Tbs to previous EIA with yCalcAppend\n",
    "if csub[1] != []: \n",
    "    ws.Copy(ws.viewing_angles, ws.viewing_angles_2)\n",
    "    ws.Copy(ws.channels, ws.channels_2)\n",
    "    \n",
    "    ws.execute_controlfile(\"instruments/metmm/sensor_descriptions/prepare_metmm.arts\")\n",
    "    ws.execute_controlfile(\"instruments/metmm/sensor_descriptions/sensor_gmi.arts\") #atms.arts\")\n",
    "    ws.execute_controlfile(\"instruments/metmm/sensor_descriptions/apply_metmm.arts\") # to execute CF?\n",
    "    #ws.VectorSetConstant(ws.transmittance,2,1.0) # needed for emis model, right size\n",
    "    ws.yCalcAppend(jacobian_quantities_copy = ws.jacobian_quantities)\n",
    "    print(ws.y.value)\n",
    "    print(ws.jacobian.value)\n"
   ]
  },
  {
   "cell_type": "code",
   "execution_count": 15,
   "metadata": {
    "collapsed": true
   },
   "outputs": [],
   "source": [
    "# setup for retrieval and sample jacobian seem right, time to run a sample retrieval:\n",
    "\n",
    "@arts_agenda\n",
    "def inversion_iterate_agenda(ws):\n",
    "    ws.Ignore(ws.inversion_iteration_counter) # on simon's advice\n",
    "    ws.x2artsAtmAndSurf()  # map x to ARTS's variables\n",
    "    \n",
    "    # NOTE: IF WANTING TO CHANGE CHANNELS/ANGLES, NEED TO USE arts COMMANDS ONLY!\n",
    "    \n",
    "    ws.Copy(ws.viewing_angles, ws.viewing_angles_1)\n",
    "    ws.Copy(ws.channels, ws.channels_1)\n",
    "    ws.execute_controlfile(\"instruments/metmm/sensor_descriptions/prepare_metmm.arts\")\n",
    "    ws.execute_controlfile(\"instruments/metmm/sensor_descriptions/sensor_amsr2.arts\") \n",
    "    #ws.execute_controlfile(\"instruments/metmm/sensor_descriptions/sensor_gmi.arts\") \n",
    "    ws.execute_controlfile(\"instruments/metmm/sensor_descriptions/apply_metmm.arts\") \n",
    "    ws.yCalc() \n",
    "\n",
    "    #if csub[1] != []: \n",
    "    #    # aka if any 166/183 channels exist in channel selection, run other angle\n",
    "    #    ws.Copy(ws.viewing_angles, ws.viewing_angles_2)\n",
    "    #    ws.Copy(ws.channels, ws.channels_2)\n",
    "    #    ws.execute_controlfile(\"instruments/metmm/sensor_descriptions/prepare_metmm.arts\")\n",
    "    #    ws.execute_controlfile(\"instruments/metmm/sensor_descriptions/sensor_gmi.arts\")\n",
    "    #    ws.execute_controlfile(\"instruments/metmm/sensor_descriptions/apply_metmm.arts\")\n",
    "    #    ws.yCalcAppend(jacobian_quantities_copy = ws.jacobian_quantities)\n",
    "        \n",
    "    ws.Copy(ws.y_baseline,np.zeros(nch)) # kinda silly but necessary?\n",
    "    ws.VectorAddVector( ws.yf, ws.y, ws.y_baseline )  # add baseline term\n",
    "    \n",
    "    ws.jacobianAdjustAndTransform()\n",
    "    # last line takes care of some fixes needed to get the jacobian right for iterative solutions\n",
    "\n",
    "ws.Copy(ws.inversion_iterate_agenda, inversion_iterate_agenda)"
   ]
  },
  {
   "cell_type": "code",
   "execution_count": 16,
   "metadata": {
    "collapsed": true
   },
   "outputs": [],
   "source": [
    "ws.inversion_iterate_agenda.print()"
   ]
  },
  {
   "cell_type": "markdown",
   "metadata": {},
   "source": [
    "## Read in GMI TBs to use as observation vector"
   ]
  },
  {
   "cell_type": "code",
   "execution_count": 17,
   "metadata": {
    "collapsed": true
   },
   "outputs": [],
   "source": [
    "## Import GMI L1C file with brightness temperatures (TBs)\n",
    "#paf = '/home/dudavid/Dendrite/Dendrite/SatData/GMI/L1C/'\n",
    "##l1c = glob.glob(paf+'*.HDF5')\n",
    "##print(l1c[0])\n",
    "##\n",
    "##for f in l1c[0:1]:\n",
    "##    gfi = File(f)\n",
    "##    tb1 = gfi['S1/Tc'][:]   # given as [scans, pix], ie 2962x221\n",
    "##    tb2 = gfi['S2/Tc'][:]\n",
    "##    #print(np.shape(tbs),type(tbs))\n",
    "##    tbs = np.append(tb1, tb2, axis=2) #gfi['S2/Tc'][:],axis=1)\n",
    "##    print(np.shape(tbs))\n",
    "#    #lat = gfi['S1/Latitude'][:]\n",
    "#    #lon = gfi['S1/Longitude'][:]\n",
    "#    #eia = np.append(gfi['S1/incidenceAngle'][:],gfi['S2/incidenceAngle'][:],axis=2)\n",
    "#    #print(np.shape(eia)) # EIA is one for S1 channels, one for S2 (approx 52.8, 49.2 deg)\n",
    "#    # READ THESE IN BUT NOT CURRENTLY USED\n",
    "#    # can also import SC data, time data, etc from L1C file\n",
    "#\n",
    "#gfi = File(paf+'1C-R.GPM.GMI.XCAL2016-C.20180418-S160617-E173849.023507.V05A.HDF5') # hand-picked orbit\n",
    "#tb1 = gfi['S1/Tc'][:]\n",
    "#tb2 = gfi['S2/Tc'][:]\n",
    "#tbs = np.append(tb1, tb2, axis=2) \n",
    "#print(np.shape(tbs))\n",
    "#lat = gfi['S1/Latitude'][:]\n",
    "#lon = gfi['S1/Longitude'][:]\n",
    "#sel1 = np.logical_and(lon>-130, lon<-110)\n",
    "#sc,px = np.indices([lat.shape[0],lat.shape[1]])\n",
    "#sel2 = np.logical_and(lat[sel1]>0, lat[sel1]<20)\n",
    "## scans where we're in about the right lat/lon range specified above:\n",
    "#scrange = np.round([np.mean(sc[sel1][sel2])-20, np.mean(sc[sel1][sel2])+20])\n",
    "#gmi_tbs = tbs[int(scrange[0]),90,:][:] # sure\n",
    "#gmi_tb = gmi_tbs[np.ravel(csub[0]+csub[1])]\n",
    "#\n",
    "## ...or use something modified by hand to be like the forward modeled one given the prior...\n",
    "##gmi_tb = np.array([169.33739751 , 91.60115224 ,199.51783459 ,137.41204274 ,236.05000015,\n",
    "## 220.68824268, 166.40211046, 271.53278258, 252.60123359, 283.12457811,\n",
    "## 283.08760084, 258.52720733, 272.31574126])\n",
    "#print(gmi_tb)\n",
    "##gmi_tb -= .71\n",
    "##gmi_tb[0] += .4\n",
    "##gmi_tb[2] += .7\n",
    "\n",
    "ws.Copy(ws.y, am_tb)\n",
    "#am_tb[0]+=0.8\n",
    "am_tb[1]+=1.1\n",
    "am_tb[7]+=2.9\n",
    "#ws.Copy(ws.y, gmi_tb)"
   ]
  },
  {
   "cell_type": "code",
   "execution_count": 18,
   "metadata": {},
   "outputs": [
    {
     "name": "stdout",
     "output_type": "stream",
     "text": [
      "ARTS[94475840951952]:     5        1.96566       0.188402        1.77725     0.00901448\n",
      "ARTS[94475840951952]: --------------------------------------------------------------------------------\n",
      "ARTS[94475840951952]: \n",
      "ARTS[94475840951952]: Total number of steps:            5\n",
      "ARTS[94475840951952]: Final scaled cost function value: 1.96566\n",
      "ARTS[94475840951952]: OEM computation converged.\n",
      "ARTS[94475840951952]: \n",
      "ARTS[94475840951952]: Elapsed Time for Retrieval:                       0.0265587\n",
      "ARTS[94475840951952]: Time in inversion_iterate Agenda (No Jacobian):   0.00367871\n",
      "ARTS[94475840951952]: Time in inversion_iterate Agenda (With Jacobian): 0.0226066\n",
      "ARTS[94475840951952]: \n",
      "ARTS[94475840951952]:                                       ----                                      \n",
      "ARTS[94475840951952]: \n",
      "\n"
     ]
    }
   ],
   "source": [
    "ws.OEM(method=\"gn\", #lm\",\"gn\"\n",
    "    max_iter=100,\n",
    "    display_progress=1,\n",
    "    max_start_cost=1e5,\n",
    "    lm_ga_settings=np.array([10.0,2.0,3.0,10000000000.0,1.0,1.0]))\n",
    "#ws.x2artsStandard() # convert from ARTS coords back to user-defined grid"
   ]
  },
  {
   "cell_type": "code",
   "execution_count": 19,
   "metadata": {
    "collapsed": true
   },
   "outputs": [],
   "source": [
    "ws.oem_errors.print()"
   ]
  },
  {
   "cell_type": "code",
   "execution_count": 20,
   "metadata": {},
   "outputs": [
    {
     "name": "stdout",
     "output_type": "stream",
     "text": [
      "[]\n"
     ]
    },
    {
     "data": {
      "text/plain": [
       "[<matplotlib.lines.Line2D at 0x7f1d84145d30>]"
      ]
     },
     "execution_count": 20,
     "metadata": {},
     "output_type": "execute_result"
    },
    {
     "data": {
      "image/png": "[encoded data removed]",
      "text/plain": [
       "<Figure size 432x288 with 1 Axes>"
      ]
     },
     "metadata": {},
     "output_type": "display_data"
    }
   ],
   "source": [
    "print(ws.oem_errors.value)# ?\n",
    "plt.plot(ws.y.value - ws.yf.value)"
   ]
  },
  {
   "cell_type": "code",
   "execution_count": 21,
   "metadata": {},
   "outputs": [
    {
     "data": {
      "text/plain": [
       "array([290.11153327,   5.92299149])"
      ]
     },
     "execution_count": 21,
     "metadata": {},
     "output_type": "execute_result"
    }
   ],
   "source": [
    "ws.x.value\n"
   ]
  },
  {
   "cell_type": "code",
   "execution_count": 22,
   "metadata": {},
   "outputs": [
    {
     "data": {
      "text/plain": [
       "array([290.2,   3.5])"
      ]
     },
     "execution_count": 22,
     "metadata": {},
     "output_type": "execute_result"
    }
   ],
   "source": [
    "ws.xa.value"
   ]
  }
 ],
 "metadata": {
  "kernelspec": {
   "display_name": "Python 3",
   "language": "python",
   "name": "python3"
  },
  "language_info": {
   "codemirror_mode": {
    "name": "ipython",
    "version": 3
   },
   "file_extension": ".py",
   "mimetype": "text/x-python",
   "name": "python",
   "nbconvert_exporter": "python",
   "pygments_lexer": "ipython3",
   "version": "3.6.8"
  }
 },
 "nbformat": 4,
 "nbformat_minor": 2
}
