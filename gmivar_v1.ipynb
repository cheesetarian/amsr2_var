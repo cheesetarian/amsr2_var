{
 "cells": [
  {
   "cell_type": "code",
   "execution_count": 1,
   "metadata": {
    "collapsed": true
   },
   "outputs": [],
   "source": [
    "# # adapting simon's older PC-based 1dvar code to read in GMI \n",
    "# data and run oceanic retrievals. started DD 17/05/18\n",
    "#   - - working as wv retrieval 03/06/18"
   ]
  },
  {
   "cell_type": "markdown",
   "metadata": {},
   "source": [
    "# Set up ARTS/Python environment\n"
   ]
  },
  {
   "cell_type": "code",
   "execution_count": 2,
   "metadata": {},
   "outputs": [
    {
     "name": "stdout",
     "output_type": "stream",
     "text": [
      "env: ARTS_INCLUDE_PATH=/home/dudavid/arts/controlfiles/\n",
      "env: ARTS_DATA_PATH=/home/dudavid/arts/arts-xml/\n",
      "env: ARTS_BUILD_PATH=/home/dudavid/arts/build/\n",
      "Loading ARTS API from: /home/dudavid/arts/build/src/libarts_api.so\n"
     ]
    },
    {
     "data": {
      "text/plain": [
       "<typhon.arts.workspace.agendas.Agenda at 0x7f7402791400>"
      ]
     },
     "execution_count": 2,
     "metadata": {},
     "output_type": "execute_result"
    }
   ],
   "source": [
    "%env ARTS_INCLUDE_PATH=/home/dudavid/arts/controlfiles/\n",
    "%env ARTS_DATA_PATH=/home/dudavid/arts/arts-xml/\n",
    "%env ARTS_BUILD_PATH=/home/dudavid/arts/build/\n",
    "\n",
    "%matplotlib inline\n",
    "\n",
    "#import numpy as np\n",
    "#import matplotlib.pyplot as plt # both set in py startup file\n",
    "import glob\n",
    "from h5py import File\n",
    "\n",
    "from typhon.arts.workspace import Workspace, arts_agenda\n",
    "ws = Workspace(verbosity=0)\n",
    "ws.execute_controlfile(\"general/general.arts\")\n",
    "ws.execute_controlfile(\"general/continua.arts\")\n",
    "ws.execute_controlfile(\"general/agendas.arts\")\n",
    "ws.execute_controlfile(\"general/planet_earth.arts\")"
   ]
  },
  {
   "cell_type": "code",
   "execution_count": 3,
   "metadata": {
    "collapsed": true,
    "scrolled": true
   },
   "outputs": [],
   "source": [
    "from typhon.arts.workspace.variables import *\n",
    "\n",
    "ws.Copy(ws.abs_xsec_agenda, ws.abs_xsec_agenda__noCIA )\n",
    "ws.Copy( ws.iy_main_agenda, ws.iy_main_agenda__Emission )\n",
    "ws.Copy( ws.iy_space_agenda, ws.iy_space_agenda__CosmicBackground )\n",
    "ws.Copy( ws.iy_surface_agenda, ws.iy_surface_agenda__UseSurfaceRtprop )\n",
    "ws.Copy( ws.propmat_clearsky_agenda, ws.propmat_clearsky_agenda__OnTheFly )\n",
    "ws.Copy( ws.ppath_agenda, ws.ppath_agenda__FollowSensorLosPath )\n",
    "ws.Copy( ws.ppath_step_agenda, ws.ppath_step_agenda__GeometricPath )"
   ]
  },
  {
   "cell_type": "code",
   "execution_count": 4,
   "metadata": {
    "collapsed": true
   },
   "outputs": [],
   "source": [
    "# define absorbing species and sensor (here using metmm library, used again below)\n",
    "ws.Copy(ws.abs_xsec_agenda, ws.abs_xsec_agenda__noCIA)\n",
    "ws.abs_speciesSet(species=[\"H2O-PWR98\",\"O2-PWR93\",\"N2-SelfContStandardType\"])\n",
    "#ws.ReadXML( ws.abs_lines, \"instruments/metmm/abs_lines_metmm.xml.gz\")\n",
    "#ws.abs_lines_per_speciesCreateFromLines()\n",
    "ws.abs_lines_per_speciesSetEmpty()"
   ]
  },
  {
   "cell_type": "markdown",
   "metadata": {},
   "source": [
    "# General Settings"
   ]
  },
  {
   "cell_type": "code",
   "execution_count": 5,
   "metadata": {},
   "outputs": [],
   "source": [
    "ws.stokes_dim = 2 # to get V and H pol out of metmm\n",
    "ws.iy_unit = \"PlanckBT\" # equivalent: ws.StringSet( iy_unit, \"PlanckBT\" )\n",
    "#ws.cloudboxOff()"
   ]
  },
  {
   "cell_type": "markdown",
   "metadata": {
    "collapsed": true
   },
   "source": [
    "# Atmosphere set up # (take Psfc, T from model later)"
   ]
  },
  {
   "cell_type": "code",
   "execution_count": 6,
   "metadata": {
    "scrolled": false
   },
   "outputs": [
    {
     "name": "stdout",
     "output_type": "stream",
     "text": [
      "[ 99400.  96250.  93750.  91250.  87500.  82500.  77500.  72500.  67500.\n",
      "  62500.  57500.  52500.  45000.  35000.  25000.  15000.]\n"
     ]
    }
   ],
   "source": [
    "ws.atmosphere_dim = 1  # for 1DVAR\n",
    "#ws.VectorNLogSpace( ws.p_grid, 20, 1e5, 1e4 ) # 20 levels from 1000 to 100 hPa\n",
    "p = np.array([1013.,975.,950.,925.,900.,850.,800.,750.,700.,650.,600.,550.,500.,400.,300.,200.,100.])*100.0\n",
    "ws.p_grid = 0.5 * (p[1:] + p[:-1])\n",
    "print(ws.p_grid.value)\n",
    "ws.AtmRawRead( basename = \"planets/Earth/Fascod/tropical/tropical\") #tropical atmosphere assumed\n",
    "ws.AtmosphereSet1D() #NEW 21/08\n",
    "ws.AtmFieldsCalc()\n",
    "#ws.AbsInputFromAtmFields()\n",
    "\n",
    "ws.z_surface = np.asarray(ws.z_field)[0]\n",
    "ws.t_surface = np.asarray(ws.t_field)[0]\n",
    "\n",
    "# plot T, water vapor, N2 and O2 versus altitude\n",
    "alt = np.asarray(ws.z_field).ravel() * .001 # altitude in km (for plotting)\n",
    "#plt.plot(np.asarray(ws.vmr_field)[0,:,0,0], alt)\n",
    "#plt.xlabel(\"$H_2O [mol/mol$]\")\n",
    "#plt.ylabel(\"z [km]\")\n",
    "#plt.plot(np.asarray(ws.vmr_field)[1,:,0,0], alt, label=\"$O_2$\")\n",
    "#plt.plot(np.asarray(ws.vmr_field)[2,:,0,0], alt, label=\"$N_2$\")\n",
    "#plt.xlabel(\"vmr [mol / mol]\")\n",
    "#plt.ylabel(\"z [km]\")\n",
    "#plt.legend()"
   ]
  },
  {
   "cell_type": "markdown",
   "metadata": {},
   "source": [
    "# Sensor definition -- GMI sensor setup w/ metmm"
   ]
  },
  {
   "cell_type": "code",
   "execution_count": 7,
   "metadata": {
    "scrolled": true
   },
   "outputs": [
    {
     "data": {
      "text/plain": [
       "<typhon.arts.workspace.agendas.Agenda at 0x7f74c4b8ea90>"
      ]
     },
     "execution_count": 7,
     "metadata": {},
     "output_type": "execute_result"
    }
   ],
   "source": [
    "ws.ArrayOfIndexCreate(\"channels\")\n",
    "# initial sensor setup, all 13 channels at low frequency EIA\n",
    "#csub = [x for x in range(13)] # 13 GMI channels total\n",
    "csub = [4,11,12] # wv channels, just for testing\n",
    "ws.channels = csub # 23.8 and 183 channels only for WV\n",
    "ws.ArrayOfIndexCreate(\"viewing_angles\") # necessary if just using one pencil beam angle?\n",
    "ws.viewing_angles = [1] # index of viewing angles in metmm file -- for GMI, 49.2, 52.8\n",
    "# current setup is low freqs at index 1, high freqs at index 0\n",
    "# can these be run at same time with ARTS?\n",
    "\n",
    "ws.sensor_pos  = np.array([[407e3]])#, -30.0, 180.0]]) # 407km alt, 30S, 180E\n",
    "#can take exact alt from file if desired, same with lat/lon values (does that have effect?)\n",
    "ws.sensor_time = np.array([0.0]) # same here\n",
    "ws.sensor_los  = np.array([[180.0]]) # since angle taken care of in metmm file \n",
    "# zenith angle followed by azimuth. zenith=0 is straight up, 180 is straight down. azimuth=0 is N, positive to east \n",
    "\n",
    "ws.IndexCreate(\"met_mm_accuracy\") \n",
    "ws.met_mm_accuracy = 1 # points within each bandwidth to comute abs characteristics\n",
    "\n",
    "# initial exection of metmm control files\n",
    "ws.execute_controlfile(\"instruments/metmm/sensor_descriptions/prepare_metmm.arts\")\n",
    "ws.execute_controlfile(\"instruments/metmm/sensor_descriptions/sensor_gmi.arts\") #atms.arts\")\n",
    "ws.execute_controlfile(\"instruments/metmm/sensor_descriptions/apply_metmm.arts\")\n",
    "#ws.execute_controlfile(\"instruments/metmm/common_metmm.arts\")"
   ]
  },
  {
   "cell_type": "markdown",
   "metadata": {},
   "source": [
    "# Perform some checks"
   ]
  },
  {
   "cell_type": "code",
   "execution_count": 8,
   "metadata": {
    "collapsed": true
   },
   "outputs": [],
   "source": [
    "ws.atmfields_checkedCalc( bad_partition_functions_ok = 1 )\n",
    "ws.abs_xsec_agenda_checkedCalc()\n",
    "#ws.abs_lookupSetup() # not currently using lookup tables (on the fly instead)\n",
    "#ws.abs_lookupCalc()"
   ]
  },
  {
   "cell_type": "markdown",
   "metadata": {},
   "source": [
    "# Surface \n"
   ]
  },
  {
   "cell_type": "code",
   "execution_count": 9,
   "metadata": {
    "scrolled": false
   },
   "outputs": [],
   "source": [
    "#ws.surface_scalar_reflectivity = np.array([0.5]) # nominal albedo for surface\n",
    "ws.NumericCreate(\"wind_speed\")\n",
    "ws.NumericCreate(\"wind_direction\")\n",
    "ws.VectorCreate(\"transmittance\")\n",
    "#ws.NumericSet(ws.surface_skin_t, np.array([300]))\n",
    "ws.transmittance  = np.ones(ws.f_grid.value.shape) # or ones, or something else?\n",
    "ws.wind_speed = 8.5\n",
    "ws.surface_skin_t = 290.0\n",
    "#ws.wind_direction = 0.0 # can adjust based on analysis data later  -- default should be 0\n",
    "# -- need sensor azimuth angle, and spacecraft heading, as arts azimuth is relative to N\n",
    "#ws.salinity = .035 # default is .035 anyway\n",
    "#ws.rte_pos = np.array([1])\n",
    "ws.propmat_clearsky_agenda_checkedCalc()\n",
    "ws.atmgeom_checkedCalc()\n",
    "ws.jacobianOff()  # turn jacobian off here???\n",
    "ws.cloudboxOff()\n",
    "ws.cloudbox_checkedCalc()\n",
    "ws.sensor_checkedCalc()"
   ]
  },
  {
   "cell_type": "markdown",
   "metadata": {},
   "source": [
    "# define agendas"
   ]
  },
  {
   "cell_type": "code",
   "execution_count": 10,
   "metadata": {
    "collapsed": true
   },
   "outputs": [],
   "source": [
    "from typhon.arts.workspace import arts_agenda\n",
    "\n",
    "@arts_agenda\n",
    "def surface_fastem(ws):\n",
    "    ws.specular_losCalc()\n",
    "    ws.InterpSurfaceFieldToPosition( out = ws.surface_skin_t, field = ws.t_surface )\n",
    "    ws.surfaceFastem(wind_speed     = ws.wind_speed,\n",
    "                     wind_direction = ws.wind_direction,\n",
    "                     transmittance  = ws.transmittance)\n",
    "    \n",
    "    \n",
    "ws.TessemNNReadAscii(tessem_netv, \"testdata/tessem_sav_net_V.txt\")\n",
    "ws.TessemNNReadAscii(tessem_neth, \"testdata/tessem_sav_net_H.txt\") \n",
    "@arts_agenda\n",
    "def surface_tessem(ws):\n",
    "    ws.specular_losCalc()\n",
    "    ws.InterpSurfaceFieldToPosition( out = ws.surface_skin_t, field = ws.t_surface )\n",
    "    ws.surfaceTessem(wind_speed     = ws.wind_speed)\n",
    "\n",
    "# set surface agenda here:\n",
    "#ws.Copy(ws.surface_rtprop_agenda, surface_fastem) # choose which emis. model to run here!\n",
    "ws.Copy(ws.surface_rtprop_agenda, surface_tessem) # choose which emis. model to run here!"
   ]
  },
  {
   "cell_type": "markdown",
   "metadata": {},
   "source": [
    "# Call forward model"
   ]
  },
  {
   "cell_type": "code",
   "execution_count": 11,
   "metadata": {},
   "outputs": [
    {
     "name": "stdout",
     "output_type": "stream",
     "text": [
      "Selected GMI channels, one angle:\n",
      "[ 235.05211253  257.90414452  271.69351192]\n",
      "(10,)\n"
     ]
    }
   ],
   "source": [
    "#\n",
    "ws.yCalc()\n",
    "print('Selected GMI channels, one angle:')\n",
    "#print('All GMI channels, one angle:')\n",
    "print(ws.y.value)\n",
    "print(ws.f_grid.value.shape)\n",
    "#\n",
    "#ws.viewing_angles = [1] # index of viewing angles in metmm file\n",
    "#csub = [4] #0,1,2,3,4,5,6,7,8] # channel subset of GMI indices\n",
    "#ws.channels = csub #[0,1,2,3,4,5,6,7,8,9,10,11,12] # channel index values given in metmm sensor description\n",
    "## re-exection of metmm control files ( since channels subset and angle have changed)\n",
    "#ws.execute_controlfile(\"instruments/metmm/sensor_descriptions/prepare_metmm.arts\")\n",
    "#ws.execute_controlfile(\"instruments/metmm/sensor_descriptions/sensor_gmi.arts\") \n",
    "#ws.execute_controlfile(\"instruments/metmm/sensor_descriptions/apply_metmm.arts\")\n",
    "#ws.transmittance  = np.ones(ws.f_grid.value.shape) # or ones, or something else?\n",
    "#ws.yCalc()\n",
    "#\n",
    "## run at other incidence angle?\n",
    "#ws.viewing_angles = [0] # index of viewing angles in metmm file -- for GMI, 49.2, 52.8\n",
    "#csub = [9,10,11,12] # channel subset of GMI indices\n",
    "#ws.channels = csub #[0,1,2,3,4,5,6,7,8,9,10,11,12] # channel index values given in metmm sensor description\n",
    "## re-exection of metmm control files ( since channels subset and angle have changed)\n",
    "#ws.execute_controlfile(\"instruments/metmm/sensor_descriptions/prepare_metmm.arts\")\n",
    "#ws.execute_controlfile(\"instruments/metmm/sensor_descriptions/sensor_gmi.arts\")\n",
    "#ws.execute_controlfile(\"instruments/metmm/sensor_descriptions/apply_metmm.arts\")\n",
    "#ws.transmittance  = np.ones(ws.f_grid.value.shape) # or ones, or something else?\n",
    "## append y values to previous y vector from yCalc above\n",
    "#ws.yCalcAppend(jacobian_quantities_copy = ws.jacobian_quantities)\n",
    "#\n",
    "#print('All GMI channels, two angles (appended):')\n",
    "#print(ws.y.value)\n",
    "#"
   ]
  },
  {
   "cell_type": "code",
   "execution_count": 12,
   "metadata": {
    "collapsed": true
   },
   "outputs": [],
   "source": [
    "# now perturb the initial VMR field for water vapor\n",
    "if not \"orig_h2o\" in globals().keys():\n",
    "    orig_h2o = np.array(ws.vmr_field)[0,:,0,0] # save original WV profile (true state)\n"
   ]
  },
  {
   "cell_type": "markdown",
   "metadata": {},
   "source": [
    "# Set up PCs for retrieval"
   ]
  },
  {
   "cell_type": "code",
   "execution_count": 13,
   "metadata": {},
   "outputs": [
    {
     "data": {
      "text/plain": [
       "<matplotlib.legend.Legend at 0x7f74024e7d68>"
      ]
     },
     "execution_count": 13,
     "metadata": {},
     "output_type": "execute_result"
    },
    {
     "data": {
      "image/png": "[encoded data removed]",
      "text/plain": [
       "<matplotlib.figure.Figure at 0x7f740249b780>"
      ]
     },
     "metadata": {},
     "output_type": "display_data"
    },
    {
     "data": {
      "image/png": "[encoded data removed]",
      "text/plain": [
       "<matplotlib.figure.Figure at 0x7f7400873b70>"
      ]
     },
     "metadata": {},
     "output_type": "display_data"
    }
   ],
   "source": [
    "invar = np.loadtxt(\"/home/dudavid/projects/typhon_examples/pcs.txt\") # read in PCs from ascii file\n",
    "npc = 3\n",
    "\n",
    "meanwv = invar[0:16][::-1] # invert profiles to fit fwd model\n",
    "A = invar[16:].reshape(6,16) # first 6 PCs are included in file\n",
    "factor = 28.966/18.016 * 0.001 # convert WV mixing ratio (g/kg) to vmr (mol/mol)\n",
    "PCs     = np.ascontiguousarray(A[:npc,::-1] * factor)\n",
    "meanwv *= factor\n",
    "perturbed = meanwv # a priori state is mean profile of PCA\n",
    "for i in range(npc): # plot first x PCs\n",
    "    plt.plot(PCs[i,:],alt,label=\"WV PC\"+str(i+1))\n",
    "plt.legend()\n",
    "\n",
    "plt.figure()\n",
    "plt.plot(orig_h2o.ravel(), alt, label=\"True state\")\n",
    "plt.plot(perturbed, alt, label=\"Perturbed (Prior)\")\n",
    "plt.xlabel(\"$H_2O [kg / m^3$]\")\n",
    "plt.ylabel(\"z [km]\")\n",
    "plt.legend()"
   ]
  },
  {
   "cell_type": "markdown",
   "metadata": {},
   "source": [
    "# Designate surface as retrievable"
   ]
  },
  {
   "cell_type": "code",
   "execution_count": 14,
   "metadata": {
    "collapsed": true
   },
   "outputs": [],
   "source": [
    "# add surface variables\n",
    "\n",
    "snames = [\"Water skin temperature\", \"Wind speed\", \"Salinity\"]\n",
    "sdata = np.array([ws.t_surface.value.ravel()[0], ws.wind_speed.value, 0.035]).reshape(3,1,1)\n",
    "\n",
    "# don't copy to arts variables yet... otherwise ycalc bombs due to SurfaceDummy\n",
    "#ws.Copy(ws.surface_props_data, sdata)\n",
    "#ws.Copy(ws.surface_props_names, snames)"
   ]
  },
  {
   "cell_type": "markdown",
   "metadata": {},
   "source": [
    "# Set up OEM retrieval"
   ]
  },
  {
   "cell_type": "code",
   "execution_count": 15,
   "metadata": {},
   "outputs": [
    {
     "name": "stdout",
     "output_type": "stream",
     "text": [
      "Sx: [[ 2.5  0.   0. ]\n",
      " [ 0.   1.2  0. ]\n",
      " [ 0.   0.   0.5]]\n",
      "Se  [[ 4.41  0.    0.  ]\n",
      " [ 0.    4.41  0.  ]\n",
      " [ 0.    0.    4.41]]\n",
      "(10,)\n"
     ]
    }
   ],
   "source": [
    "ws.retrievalDefInit()\n",
    "npc = 3 #+1 # trying to add surface\n",
    "rvars = np.ones(npc)#*2.0 # define apriori variances of retrieved variables\n",
    "#rvars[:] = [2.5,1.2,0.5, 2.5] # decreasing variability\n",
    "rvars[:] = [2.5,1.2,0.5] # decreasing variability\n",
    "sx_cov = np.diag(rvars) # CHANGE TO MATCH SIZE OF Xa!!\n",
    "ws.covmat_sxSet(sx_cov)\n",
    "print('Sx:',sx_cov)\n",
    "#ws.jacobianAddSurfaceQuantity(\n",
    "#    g1=ws.lat_grid, g2=ws.lon_grid,   # can use instead of retrievalAdd, init's fewer variables\n",
    "#    quantity=\"Wind speed\"\n",
    "#)\n",
    "#ws.jacobianAddAbsSpecies(   # can use instead of retrievalAdd, init's fewer variables\n",
    "ws.retrievalAddAbsSpecies(   # only retrieval variable is abs species, water vapor\n",
    " species=\"H2O-PWR98\",\n",
    " unit=\"vmr\", \n",
    " g1=ws.p_grid,\n",
    " g2=ws.lat_grid,\n",
    " g3=ws.lon_grid\n",
    ")\n",
    "\n",
    "# offset has to be a copy of meanwv, as original in memory is untransformed!\n",
    "ws.jacobianSetAffineTransformation(transformation_matrix=PCs, offset_vector=np.copy(meanwv))\n",
    "chan_err = 2.1 # for now all the same:\n",
    "se_cov = np.diag(np.zeros(ws.y.value.size) + chan_err**2 ) # set channel assumed errors\n",
    "#se_cov[4,4] = 2.5\n",
    "#se_cov[11,11] = 2.0\n",
    "#se_cov[12,12] = 2.0\n",
    "print('Se ',se_cov)\n",
    "ws.covmat_seSet(se_cov)\n",
    "ws.retrievalDefClose()\n",
    "\n",
    "ws.ArrayOfIndexCreate(\"viewing_angles_1\")\n",
    "ws.viewing_angles_1 = [1]\n",
    "ws.ArrayOfIndexCreate(\"viewing_angles_2\")\n",
    "ws.viewing_angles_2 = [0]\n",
    "\n",
    "ws.ArrayOfIndexCreate(\"channels_1\")\n",
    "ws.channels_1 = [4]\n",
    "ws.ArrayOfIndexCreate(\"channels_2\")\n",
    "ws.channels_2 = [11, 12]\n",
    "\n",
    "\n",
    "# define inversion iteration as function object within python\n",
    "print(ws.f_grid.value.shape)\n",
    "@arts_agenda\n",
    "def inversion_iterate_agenda(ws):\n",
    "    ws.Ignore(ws.inversion_iteration_counter) # on simon's advice\n",
    "    ws.x2artsStandard()  # map x to ARTS's variables\n",
    "    ws.vmr_fieldClip(species = \"H2O-PWR98\", limit_low = 1e-5) # arts function creates lower limit for wv\n",
    "    ws.atmfields_checkedCalc()  # to be safe, rerun checks dealing with atmosph.\n",
    "    ws.atmgeom_checkedCalc()\n",
    "    \n",
    "    # NOTE: IF WANTING TO CHANGE CHANNELS/ANGLES, NEED TO USE arts COMMANDS ONLY!\n",
    "    #ws.Print(ws.y)\n",
    "    \n",
    "    #ws.ArrayOfIndexSet(ws.viewing_angles,[1])\n",
    "    #ws.ArrayOfIndexSet(ws.channels,[4]) # run low freqs first\n",
    "    ws.Copy(ws.viewing_angles, ws.viewing_angles_1)\n",
    "    ws.Copy(ws.channels, ws.channels_1)\n",
    "    \n",
    "    #ws.Print(ws.y)\n",
    "    #ws.viewing_angles = [1] # low freq channel EIA for all channels rn\n",
    "    #ws.channels = [0,1,2,3,4,5,6,7,8]#,9,10,11,12] # channel index values given in metmm sensor description\n",
    "    # re-exection of metmm control files ( since channels subset and angle have changed)\n",
    "    INCLUDE(\"instruments/metmm/sensor_descriptions/prepare_metmm.arts\")\n",
    "    INCLUDE(\"instruments/metmm/sensor_descriptions/sensor_gmi.arts\") #atms.arts\")\n",
    "    INCLUDE(\"instruments/metmm/sensor_descriptions/apply_metmm.arts\") # to execute CF?\n",
    "    #ws.Print(ws.f_grid.value.shape)\n",
    "    #ws.transmittance  = np.ones(ws.f_grid.value.shape) # or ones, or something else?\n",
    "    ws.VectorSetConstant(ws.transmittance, 1, 1.0) # needed for emis model, right size\n",
    "    #ws.VectorSetConstant(ws.transmittance,ws.f_grid.value.shape,1.0) # needed for emis model, right size\n",
    "    ws.yCalc()  # calculate yf and jacobian matching x\n",
    "    #ws.Print(ws.y)\n",
    "    \n",
    "    #ws.ArrayOfIndexSet(ws.viewing_angles, [0])\n",
    "    #ws.ArrayOfIndexSet(ws.channels, [11,12]) # run high freqs next\n",
    "    ws.Copy(ws.viewing_angles, ws.viewing_angles_2)\n",
    "    ws.Copy(ws.channels, ws.channels_2)\n",
    "    \n",
    "    INCLUDE(\"instruments/metmm/sensor_descriptions/prepare_metmm.arts\")\n",
    "    INCLUDE(\"instruments/metmm/sensor_descriptions/sensor_gmi.arts\") #atms.arts\")\n",
    "    INCLUDE(\"instruments/metmm/sensor_descriptions/apply_metmm.arts\") # to execute CF?\n",
    "    ws.VectorSetConstant(ws.transmittance,2,1.0) # needed for emis model, right size\n",
    "    #ws.VectorSetConstant(ws.transmittance,ws.f_grid.value.shape,1.0) # needed for emis model, right size\n",
    "    ws.yCalcAppend(jacobian_quantities_copy = ws.jacobian_quantities)\n",
    "    \n",
    "    #ws.yCalc()  # calculate yf and jacobian matching x\n",
    "    ws.Print(ws.jacobian,0)\n",
    "    ws.VectorAddVector( ws.yf, ws.y, ws.y_baseline )  # add baseline term\n",
    "    #ws.jacobianAdjustAfterIteration() \n",
    "    ws.jacobianAdjustAndTransform()\n",
    "    # last line takes care of some fixes needed to get the jacobian right for iterative solutions\n",
    "    ws.vmr_fieldClip(species = \"H2O-PWR98\", limit_low = 1e-5) # arts function creates lower limit for wv\n",
    "    \n",
    "ws.Copy(ws.inversion_iterate_agenda, inversion_iterate_agenda) # copy python function to arts\n"
   ]
  },
  {
   "cell_type": "code",
   "execution_count": 16,
   "metadata": {
    "collapsed": true
   },
   "outputs": [],
   "source": [
    "ws.inversion_iterate_agenda.print()"
   ]
  },
  {
   "cell_type": "code",
   "execution_count": 17,
   "metadata": {
    "collapsed": true
   },
   "outputs": [],
   "source": [
    "# Define observation vector, prior state vector, empty vectors for y out and x out\n",
    "#ws.xaStandard() # set xa to vmr field, effectively \n",
    "xa = np.zeros(npc) + .5 # if supplying user-defined a priori vector\n",
    "xa[:] = [.02, 0.01, .15]\n",
    "ws.Copy(ws.xa, xa)\n",
    "ws.x = np.array([]) # create empty vector for retrieved state vector?\n",
    "ws.yf = np.array([]) # create empty vector for simulated TB?\n",
    "ws.jacobian = np.array([[]])\n",
    "\n"
   ]
  },
  {
   "cell_type": "markdown",
   "metadata": {},
   "source": [
    "# Read in GMI data from L1C file"
   ]
  },
  {
   "cell_type": "code",
   "execution_count": 18,
   "metadata": {},
   "outputs": [
    {
     "name": "stdout",
     "output_type": "stream",
     "text": [
      "/home/dudavid/Dendrite/Dendrite/SatData/GMI/L1C/1C-R.GPM.GMI.XCAL2016-C.20180418-S004034-E021307.023497.V05A.HDF5\n",
      "(2962, 221, 13)\n"
     ]
    }
   ],
   "source": [
    "# Import GMI L1C file with brightness temperatures (TBs)\n",
    "paf = '/home/dudavid/Dendrite/Dendrite/SatData/GMI/L1C/'\n",
    "l1c = glob.glob(paf+'*.HDF5')\n",
    "print(l1c[0])\n",
    "\n",
    "for f in l1c[0:1]:\n",
    "    gfi = File(f)\n",
    "    tb1 = gfi['S1/Tc'][:]\n",
    "    tb2 = gfi['S2/Tc'][:]\n",
    "    #print(np.shape(tbs),type(tbs))\n",
    "    tbs = np.append(tb1, tb2, axis=2) #gfi['S2/Tc'][:],axis=1)\n",
    "    print(np.shape(tbs))\n",
    "    lat = gfi['S1/Latitude'][:]\n",
    "    lon = gfi['S1/Longitude'][:]\n",
    "    eia = np.append(gfi['S1/incidenceAngle'][:],gfi['S2/incidenceAngle'][:],axis=2)\n",
    "    #print(np.shape(eia)) # EIA is one for S1 channels, one for S2 (approx 52.8, 49.2 deg)\n",
    "    # READ THESE IN BUT NOT CURRENTLY USED\n",
    "    # can also import SC data, time data, etc from L1C file\n",
    "    "
   ]
  },
  {
   "cell_type": "code",
   "execution_count": 19,
   "metadata": {},
   "outputs": [
    {
     "name": "stdout",
     "output_type": "stream",
     "text": [
      "GMI Tb vector: \n",
      "[ 223.28     257.48999  269.48001]\n",
      "Lat/Lon:  -25.6284 -80.4819\n",
      "WV before:  [  2.48788026e-02   2.30550908e-02   2.15647025e-02   2.00340285e-02\n",
      "   1.83366240e-02   1.62298995e-02   1.31906474e-02   9.39667482e-03\n",
      "   6.63891341e-03   4.33126653e-03   3.59724435e-03   2.73652713e-03\n",
      "   1.54492807e-03   5.68114613e-04   8.28423022e-05   5.70279862e-06]\n"
     ]
    }
   ],
   "source": [
    "# pick a pixel and scan position to try\n",
    "px, scn = 120, 2487 # set up to run in loop of pix/scans later\n",
    "\n",
    "# ascribe GMI Tb vector to y vector\n",
    "ws.Copy(ws.y, tbs[scn, px, csub]) #careful! csub set near top, has to match stuff in agenda\n",
    "#ws.Copy(ws.y, np.asarray([234.2,257.3,271.4]))\n",
    "print(\"GMI Tb vector: \")\n",
    "print(ws.y.value)\n",
    "#print(tbs[scn,px,csub])\n",
    "print('Lat/Lon: ',lat[scn,px],lon[scn,px]) # off the coast of Sur america\n",
    "before = np.copy(ws.vmr_field)[0,:,0,0]\n",
    "print('WV before: ',before)"
   ]
  },
  {
   "cell_type": "markdown",
   "metadata": {},
   "source": [
    "# Run OEM retrieval"
   ]
  },
  {
   "cell_type": "code",
   "execution_count": 20,
   "metadata": {},
   "outputs": [
    {
     "name": "stdout",
     "output_type": "stream",
     "text": [
      "ARTS[93913427150160]: \n",
      "ARTS[93913427150160]:                                 MAP Computation                                \n",
      "ARTS[93913427150160]: Formulation: Standard\n",
      "ARTS[93913427150160]: Method:      Levenberg-Marquardt\n",
      "ARTS[93913427150160]: \n",
      "ARTS[93913427150160]:  Step     Total Cost         x-Cost         y-Cost    Conv. Crit.   Gamma Factor\n",
      "ARTS[93913427150160]: --------------------------------------------------------------------------------\n",
      "ARTS[93913427150160]:     0        13.3141              0        13.3141                     10.000000\n",
      "ARTS[93913427150160]:     1        2.03402       0.242274        1.79175        6.19451       5.000000\n",
      "ARTS[93913427150160]:     2        1.12795       0.122434        1.00551       0.922016       2.500000\n",
      "ARTS[93913427150160]:     3       0.971343       0.170395       0.800947       0.130968       1.250000\n",
      "ARTS[93913427150160]:     4       0.959325       0.152928       0.806396       0.035728       1.250000\n",
      "ARTS[93913427150160]:     5       0.940862       0.168835       0.772027      0.0100329       0.000000\n",
      "ARTS[93913427150160]:     6       0.940406        0.16637       0.774036    0.000415379      64.000000\n",
      "ARTS[93913427150160]: --------------------------------------------------------------------------------\n",
      "ARTS[93913427150160]: \n",
      "ARTS[93913427150160]: Total number of steps:            6\n",
      "ARTS[93913427150160]: Final scaled cost function value: 0.940406\n",
      "ARTS[93913427150160]: OEM computation converged.\n",
      "ARTS[93913427150160]: \n",
      "ARTS[93913427150160]: Elapsed Time for Retrieval:                       0.119781\n",
      "ARTS[93913427150160]: Time in inversion_iterate Agenda (No Jacobian):   0.0800184\n",
      "ARTS[93913427150160]: Time in inversion_iterate Agenda (With Jacobian): 0.03938\n",
      "ARTS[93913427150160]: \n",
      "ARTS[93913427150160]:                                       ----                                      \n",
      "ARTS[93913427150160]: \n",
      "\n"
     ]
    }
   ],
   "source": [
    "ws.OEM(method=\"lm\", #lm\",\"gn\"\n",
    "    max_iter=1000,\n",
    "    display_progress=1,\n",
    "    max_start_cost=1e5,\n",
    "    lm_ga_settings=np.array([10.0,2.0,2.0,10000000000.0,1.0,99.0]))\n",
    "ws.x2artsStandard() # convert from ARTS coords back to user-defined grid"
   ]
  },
  {
   "cell_type": "code",
   "execution_count": 21,
   "metadata": {},
   "outputs": [
    {
     "name": "stdout",
     "output_type": "stream",
     "text": [
      "[  2.20965754e-02   1.95726843e-02   1.55435847e-02   1.25130380e-02\n",
      "   1.03202957e-02   8.47829191e-03   7.32151525e-03   6.49321389e-03\n",
      "   5.66101960e-03   4.70613024e-03   3.76213687e-03   2.89432045e-03\n",
      "   1.85130812e-03   8.25317905e-04   2.59885323e-04   3.87328931e-05]\n"
     ]
    }
   ],
   "source": [
    "# save resultant WV profile to 'retrieved'\n",
    "retrieved = np.copy(ws.vmr_field)[0,:,0,0]\n",
    "retrieved[retrieved < 0] = 1e-5 # top level might go negative??\n",
    "print(retrieved)\n"
   ]
  },
  {
   "cell_type": "markdown",
   "metadata": {},
   "source": [
    "# Look at results"
   ]
  },
  {
   "cell_type": "code",
   "execution_count": 22,
   "metadata": {},
   "outputs": [
    {
     "data": {
      "text/plain": [
       "<matplotlib.legend.Legend at 0x7f7400537588>"
      ]
     },
     "execution_count": 22,
     "metadata": {},
     "output_type": "execute_result"
    },
    {
     "data": {
      "image/png": "[encoded data removed]",
      "text/plain": [
       "<matplotlib.figure.Figure at 0x7f74005bb9b0>"
      ]
     },
     "metadata": {},
     "output_type": "display_data"
    }
   ],
   "source": [
    "plt.plot(orig_h2o, alt, label=\"Truth\")\n",
    "plt.plot(retrieved, alt, label=\"Retrieved\")\n",
    "plt.plot(perturbed, alt, label=\"A Priori\")\n",
    "plt.xlabel(\"$H_2O [kg / m^3$]\")\n",
    "plt.ylabel(\"z [km]\")\n",
    "plt.xscale(\"log\")\n",
    "plt.legend()"
   ]
  },
  {
   "cell_type": "code",
   "execution_count": 23,
   "metadata": {},
   "outputs": [
    {
     "name": "stdout",
     "output_type": "stream",
     "text": [
      "[ 223.28     257.48999  269.48001]\n",
      "[ 223.51891891  254.66979561  270.97330244]\n",
      "[ 223.27999878  257.48999023  269.48001099]\n",
      "residual:  [-0.23891891  2.82019439 -1.49329244]\n"
     ]
    }
   ],
   "source": [
    "# compare simulated and 'observed' TB from \n",
    "residual = ws.y.value - ws.yf.value\n",
    "print(ws.y.value)\n",
    "print(ws.yf.value)\n",
    "print(tbs[scn,px,csub])\n",
    "print('residual: ',residual) "
   ]
  },
  {
   "cell_type": "code",
   "execution_count": 24,
   "metadata": {},
   "outputs": [
    {
     "data": {
      "text/plain": [
       "<matplotlib.colorbar.Colorbar at 0x7f7400858d68>"
      ]
     },
     "execution_count": 24,
     "metadata": {},
     "output_type": "execute_result"
    },
    {
     "data": {
      "image/png": "[encoded data removed]",
      "text/plain": [
       "<matplotlib.figure.Figure at 0x7f73dc5e2dd8>"
      ]
     },
     "metadata": {},
     "output_type": "display_data"
    }
   ],
   "source": [
    "# plot jacobian -- should show sensitivity in middle troposphere\n",
    "plt.imshow(ws.jacobian)\n",
    "plt.colorbar()"
   ]
  },
  {
   "cell_type": "code",
   "execution_count": 25,
   "metadata": {},
   "outputs": [
    {
     "name": "stdout",
     "output_type": "stream",
     "text": [
      "1.73050968277\n"
     ]
    },
    {
     "data": {
      "image/png": "[encoded data removed]",
      "text/plain": [
       "<matplotlib.figure.Figure at 0x7f7400851160>"
      ]
     },
     "metadata": {},
     "output_type": "display_data"
    }
   ],
   "source": [
    "ws.avkCalc() # calculate averaging kernel (A-matrix)\n",
    "plt.matshow(ws.avk)\n",
    "plt.colorbar()\n",
    "np.diag(ws.avk)\n",
    "print(np.sum(np.diag(ws.avk))) # print trace of A-matrix, aka degrees of freedom for signal (DFS)"
   ]
  },
  {
   "cell_type": "code",
   "execution_count": 26,
   "metadata": {
    "collapsed": true
   },
   "outputs": [],
   "source": [
    "# calculate posterior covariance matrices of observations and a priori\n",
    "ws.covmat_soCalc() # observation covariance matrix\n",
    "ws.covmat_ssCalc() # smoothing covariance matrix"
   ]
  },
  {
   "cell_type": "code",
   "execution_count": 27,
   "metadata": {},
   "outputs": [
    {
     "data": {
      "text/plain": [
       "<matplotlib.colorbar.Colorbar at 0x7f73dc41b358>"
      ]
     },
     "execution_count": 27,
     "metadata": {},
     "output_type": "execute_result"
    },
    {
     "data": {
      "image/png": "[encoded data removed]",
      "text/plain": [
       "<matplotlib.figure.Figure at 0x7f740051f860>"
      ]
     },
     "metadata": {},
     "output_type": "display_data"
    }
   ],
   "source": [
    "# plot posterior observation covariance matrix\n",
    "plt.matshow(ws.covmat_so)\n",
    "plt.colorbar()"
   ]
  },
  {
   "cell_type": "code",
   "execution_count": null,
   "metadata": {
    "collapsed": true
   },
   "outputs": [],
   "source": []
  }
 ],
 "metadata": {
  "kernelspec": {
   "display_name": "Python 3",
   "language": "python",
   "name": "python3"
  },
  "language_info": {
   "codemirror_mode": {
    "name": "ipython",
    "version": 3
   },
   "file_extension": ".py",
   "mimetype": "text/x-python",
   "name": "python",
   "nbconvert_exporter": "python",
   "pygments_lexer": "ipython3",
   "version": "3.6.5"
  }
 },
 "nbformat": 4,
 "nbformat_minor": 2
}
